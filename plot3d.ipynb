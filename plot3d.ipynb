{
 "cells": [
  {
   "cell_type": "code",
   "execution_count": null,
   "metadata": {},
   "outputs": [],
   "source": [
    "import numpy as np\n",
    "import pandas as pd\n",
    "import math\n",
    "import matplotlib.pyplot as plt\n",
    "import seaborn as sns\n",
    "from datetime import date\n",
    "from tabulate import tabulate\n",
    "from sklearn.model_selection import train_test_split\n",
    "from sklearn import preprocessing\n",
    "from sklearn.linear_model import LogisticRegression\n",
    "from sklearn.metrics import make_scorer, accuracy_score, precision_score, precision_recall_curve, recall_score, f1_score, auc, roc_auc_score, plot_roc_curve\n",
    "from sklearn.model_selection import KFold\n",
    "from sklearn.naive_bayes import CategoricalNB\n",
    "from sklearn.tree import DecisionTreeClassifier\n",
    "from sklearn.utils import resample\n",
    "from xgboost import XGBClassifier\n",
    "sys.path.append('C:\\\\Users\\\\chery\\\\OneDrive\\\\Documents\\\\UW Bothell MSEE\\\\Predictive Learning\\\\BSEE_520_FP')\n",
    "from utils.baseML import BaseML\n",
    "from datetime import datetime\n",
    "\n",
    "from yellowbrick.cluster import KElbowVisualizer, SilhouetteVisualizer, InterclusterDistance, silhouette_visualizer\n",
    "from sklearn.cluster import KMeans\n",
    "from mpl_toolkits.mplot3d import Axes3D"
   ]
  },
  {
   "cell_type": "code",
   "execution_count": null,
   "metadata": {},
   "outputs": [],
   "source": [
    "spir_clust = BaseML(\"SPIR_manual_clean.csv\")"
   ]
  },
  {
   "cell_type": "code",
   "execution_count": null,
   "metadata": {},
   "outputs": [],
   "source": [
    "fig = plt.figure()\n",
    "ax = Axes3D(fig)\n",
    "spir_clust.df[\"census\"] = spir_clust.df['census'].apply(lambda x: math.floor(x))\n",
    "ax.scatter(spir_clust.df[\"event\"], spir_clust.df[\"census\"], spir_clust.df[\"time\"])\n",
    "fig.show()\n",
    "fig.savefig(\"initial_data.png\")"
   ]
  },
  {
   "cell_type": "code",
   "execution_count": null,
   "metadata": {},
   "outputs": [],
   "source": [
    "spir_clust.df.to_csv(\"SPIR_census_floor.csv\")"
   ]
  },
  {
   "cell_type": "code",
   "execution_count": null,
   "metadata": {},
   "outputs": [],
   "source": [
    "spir_add = BaseML(\"SPIR_add.csv\")\n",
    "spir_add.df.drop(\"edu25\", axis=1, inplace=True)\n",
    "spir_add.df.dropna(axis=0, inplace=True)"
   ]
  },
  {
   "cell_type": "code",
   "execution_count": null,
   "metadata": {},
   "outputs": [],
   "source": [
    "scaler = preprocessing.StandardScaler().fit(spir_add.df.income)\n",
    "df_scaled = scaler.transform(spir_add.df.income)\n",
    "self.df = pd.DataFrame(df_scaled, columns = spir_add.df.income.columns, dtype= 'int64')"
   ]
  },
  {
   "cell_type": "code",
   "execution_count": null,
   "metadata": {},
   "outputs": [],
   "source": [
    "spir_add.normalize_features()"
   ]
  },
  {
   "cell_type": "code",
   "execution_count": null,
   "metadata": {},
   "outputs": [],
   "source": [
    "spir_add.df.to_csv(\"SPIR_normalized.csv\")"
   ]
  },
  {
   "cell_type": "code",
   "execution_count": null,
   "metadata": {},
   "outputs": [],
   "source": [
    "from sklearn.decomposition import PCA\n",
    "pca = PCA(n_components=2)\n",
    "pca.fit(spir_add.df)\n",
    "print(pca.explained_variance_ratio_)\n",
    "print(pca.singular_values_)\n",
    "x_pca=pca.fit_transform(spir_add.df)"
   ]
  },
  {
   "cell_type": "code",
   "execution_count": null,
   "metadata": {},
   "outputs": [],
   "source": [
    "from sklearn.cluster import KMeans\n",
    "from yellowbrick.cluster import KElbowVisualizer, SilhouetteVisualizer, InterclusterDistance, silhouette_visualizer\n",
    "clf = KMeans()\n",
    "\n",
    "visualizer = KElbowVisualizer(clf, k=(4,12))\n",
    "\n",
    "visualizer.fit(x_pca)        # Fit the data to the visualizer\n",
    "visualizer.show()        # Finalize and render the figure"
   ]
  },
  {
   "cell_type": "code",
   "execution_count": null,
   "metadata": {},
   "outputs": [],
   "source": [
    "clf = KMeans(n_clusters=6)\n",
    "y_pred = clf.fit_predict(x_pca)"
   ]
  },
  {
   "cell_type": "code",
   "execution_count": null,
   "metadata": {},
   "outputs": [],
   "source": [
    "plt.scatter(x_pca[:,0], x_pca[:,1], c=y_pred)\n",
    "plt.show()"
   ]
  },
  {
   "cell_type": "code",
   "execution_count": null,
   "metadata": {},
   "outputs": [],
   "source": [
    "from scipy import stats\n",
    "spir_add_no_out = spir_add.df[(np.abs(stats.zscore(spir_add.df)) < 3).all(axis=1)]"
   ]
  },
  {
   "cell_type": "code",
   "execution_count": null,
   "metadata": {},
   "outputs": [],
   "source": [
    "from sklearn.decomposition import PCA\n",
    "pca = PCA(n_components=2)\n",
    "pca.fit(spir_add_no_out)\n",
    "print(pca.explained_variance_ratio_)\n",
    "print(pca.singular_values_)\n",
    "x_pca_no_out=pca.fit_transform(spir_add_no_out)"
   ]
  },
  {
   "cell_type": "code",
   "execution_count": null,
   "metadata": {},
   "outputs": [],
   "source": [
    "clf_v = KMeans()\n",
    "\n",
    "visualizer = KElbowVisualizer(clf, k=(4,12))\n",
    "\n",
    "visualizer.fit(x_pca_no_out)        # Fit the data to the visualizer\n",
    "visualizer.show()  "
   ]
  },
  {
   "cell_type": "code",
   "execution_count": null,
   "metadata": {},
   "outputs": [],
   "source": [
    "clf = KMeans(n_clusters=7)\n",
    "y_pred_no_out = clf.fit_predict(x_pca_no_out)"
   ]
  },
  {
   "cell_type": "code",
   "execution_count": null,
   "metadata": {},
   "outputs": [],
   "source": [
    "plt.scatter(x_pca_no_out[:,0], x_pca_no_out[:,1], c=y_pred_no_out)\n",
    "plt.show()"
   ]
  },
  {
   "cell_type": "code",
   "execution_count": null,
   "metadata": {},
   "outputs": [],
   "source": [
    "from sklearn.cluster import SpectralClustering\n",
    "clf_a = SpectralClustering(n_clusters=7)\n",
    "y_pred_agg = clf_a.fit_predict(x_pca_no_out)"
   ]
  },
  {
   "cell_type": "code",
   "execution_count": null,
   "metadata": {},
   "outputs": [],
   "source": [
    "from yellowbrick.cluster import KElbowVisualizer, SilhouetteVisualizer, InterclusterDistance, silhouette_visualizer\n",
    "silhouette_visualizer(KMeans(7, random_state=42), x_pca_no_out, colors='yellowbrick')"
   ]
  },
  {
   "cell_type": "code",
   "execution_count": null,
   "metadata": {},
   "outputs": [],
   "source": [
    "spir_add_no_out.to_csv(\"SPIR_no_outliers.csv\")"
   ]
  },
  {
   "cell_type": "code",
   "execution_count": null,
   "metadata": {},
   "outputs": [],
   "source": [
    "cluster_labels = clf.labels_\n",
    "cl_label_df = pd.DataFrame(cluster_labels, columns = [\"cluster_label\"])"
   ]
  },
  {
   "cell_type": "code",
   "execution_count": null,
   "metadata": {},
   "outputs": [],
   "source": [
    "\n",
    "spir_with_labels = pd.concat([spir_add_no_out, cl_label_df], ignore_index=True, axis=1)"
   ]
  },
  {
   "cell_type": "code",
   "execution_count": null,
   "metadata": {},
   "outputs": [],
   "source": [
    "spir_add_no_out.sample(3)"
   ]
  },
  {
   "cell_type": "code",
   "execution_count": null,
   "metadata": {},
   "outputs": [],
   "source": [
    "from bokeh.plotting import figure, output_file, show, ColumnDataSource\n",
    "from bokeh.models import HoverTool"
   ]
  },
  {
   "cell_type": "code",
   "execution_count": null,
   "metadata": {},
   "outputs": [],
   "source": [
    "spir_add_no_out.shape[0]"
   ]
  },
  {
   "cell_type": "code",
   "execution_count": null,
   "metadata": {},
   "outputs": [],
   "source": [
    "filename = \"plot_without_outliers.html\"\n",
    "palette =['aqua', 'aquamarine', 'azure', 'black', 'blue', \n",
    "        'brown', 'chartreuse', 'coral', 'crimson', 'cyan', \n",
    "        'darkblue', 'darkgreen', 'fuschsia', 'gold', 'indigo', \n",
    "        'lavender', 'lime', 'magenta', 'olive', 'orange', \n",
    "        'orangered', 'orchid', 'pink', 'red','salmon']#['red','green','blue','yellow']\n",
    "colors =[]\n",
    "\n",
    "for i in range(spir_add_no_out.shape[0]):\n",
    "    colors.append(palette[cluster_labels[i]])"
   ]
  },
  {
   "cell_type": "code",
   "execution_count": null,
   "metadata": {},
   "outputs": [],
   "source": [
    "#cannot use seaborn palette for bokeh\n",
    "\n",
    "#plot with boken\n",
    "output_file(filename)\n",
    "source = ColumnDataSource(\n",
    "        data=dict(x=x_pca_no_out[:,0],y=x_pca_no_out[:,1],\n",
    "            event = spir_add_no_out['event'],\n",
    "            time = spir_add_no_out['time'], \n",
    "            census_tract = spir_add_no_out[\"census\"],\n",
    "            year = spir_add_no_out[\"year\"],\n",
    "            percent_white = spir_add_no_out[\"white\"],\n",
    "            income = spir_add_no_out[\"income\"],\n",
    "            colors=colors), )\n",
    "\n",
    "#print(colors)\n",
    "hover = HoverTool(tooltips=[\n",
    "            (\"event\", \"@event\"),\n",
    "            (\"time\", \"@time\"),\n",
    "            (\"census_tract\", \"@census_tract\"),\n",
    "            (\"year\", \"@year\"),\n",
    "            (\"percent_white\", \"@percent_white\"),\n",
    "            (\"income\", \"@income\")])\n",
    "\n",
    "p = figure(plot_width=1000, plot_height=1000, tools=[hover],\n",
    "            title=\"spir clustering\")\n",
    "\n",
    "p.circle(x='x',y= 'y', size=10, source=source,fill_color=\"colors\")\n",
    "\n",
    "show(p)"
   ]
  },
  {
   "cell_type": "code",
   "execution_count": null,
   "metadata": {},
   "outputs": [],
   "source": [
    "spir_add_no_out.to_csv(\"SPIR_cluster_labels.csv\")"
   ]
  },
  {
   "cell_type": "code",
   "execution_count": null,
   "metadata": {},
   "outputs": [],
   "source": []
  }
 ],
 "metadata": {
  "kernelspec": {
   "display_name": "Python 3.9.0 64-bit",
   "name": "python390jvsc74a57bd0d69d0d44c3579cef8f6b53da4bdf417e2460497c27e188711da66de3978a2224"
  },
  "language_info": {
   "codemirror_mode": {
    "name": "ipython",
    "version": 3
   },
   "file_extension": ".py",
   "mimetype": "text/x-python",
   "name": "python",
   "nbconvert_exporter": "python",
   "pygments_lexer": "ipython3",
   "version": "3.9.0"
  },
  "orig_nbformat": 2
 },
 "nbformat": 4,
 "nbformat_minor": 2
}
