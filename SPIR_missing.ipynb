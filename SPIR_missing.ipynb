{
 "cells": [
  {
   "cell_type": "code",
   "execution_count": 1,
   "metadata": {},
   "outputs": [],
   "source": [
    "import numpy as np\n",
    "import pandas as pd\n",
    "from pandas import DataFrame\n",
    "import math\n",
    "import matplotlib.pyplot as plt\n",
    "import seaborn as sns\n",
    "from datetime import date\n",
    "from tabulate import tabulate\n",
    "import sys\n",
    "import copy\n",
    "sys.path.append('C:\\\\Users\\\\chery\\\\Documents\\\\SeattlePolice911Response')\n",
    "from utils.baseML import BaseML\n",
    "from datetime import datetime\n",
    "from sklearn import preprocessing"
   ]
  },
  {
   "cell_type": "markdown",
   "metadata": {},
   "source": [
    "This file was use to analyze incidents with missing data"
   ]
  },
  {
   "cell_type": "code",
   "execution_count": 3,
   "metadata": {},
   "outputs": [],
   "source": [
    "spir_original = pd.read_csv(\"Seattle_Police_Department_911_Incident_Response.csv\", low_memory=False)"
   ]
  },
  {
   "cell_type": "code",
   "execution_count": 5,
   "metadata": {},
   "outputs": [],
   "source": [
    "spir_missing = spir_original[spir_original.isna().any(axis=1)]"
   ]
  },
  {
   "cell_type": "code",
   "execution_count": 6,
   "metadata": {},
   "outputs": [
    {
     "data": {
      "text/plain": [
       "1039132"
      ]
     },
     "execution_count": 6,
     "metadata": {},
     "output_type": "execute_result"
    }
   ],
   "source": [
    "len(spir_missing)"
   ]
  },
  {
   "cell_type": "code",
   "execution_count": 7,
   "metadata": {},
   "outputs": [
    {
     "data": {
      "text/plain": [
       "1433853"
      ]
     },
     "execution_count": 7,
     "metadata": {},
     "output_type": "execute_result"
    }
   ],
   "source": [
    "len(spir_original)"
   ]
  },
  {
   "cell_type": "code",
   "execution_count": 15,
   "metadata": {},
   "outputs": [],
   "source": [
    "\n",
    "def dayDifference(self, fdate, ldate):\n",
    "        delta = ldate - fdate\n",
    "        return(delta)\n",
    "\n",
    "def transform_times(df):\n",
    "    dt_format = '%m/%d/%Y %I:%M:%S %p'\n",
    "    #df['at_scene_time'] = df[\"At Scene Time\"].apply(lambda x: datetime.strptime(x, dt_format))\n",
    "    df['event_clear_time']=df[\"Event Clearance Date\"].apply(lambda x: datetime.strptime(x, dt_format))\n",
    "    #df['time_at_scene'] = df.apply(lambda x: pd.to_timedelta(dayDifference(x[\"at_scene_time\"], x[\"event_clear_time\"])), axis = 1)\n",
    "    df.drop([\"Event Clearance Date\"], axis = 1, inplace = True)\n",
    "    print(df.sample(3))\n"
   ]
  },
  {
   "cell_type": "code",
   "execution_count": 22,
   "metadata": {},
   "outputs": [],
   "source": [
    "spir_missing_event_date = spir_missing[spir_missing['Event Clearance Date'].isna()]"
   ]
  },
  {
   "cell_type": "code",
   "execution_count": 26,
   "metadata": {},
   "outputs": [
    {
     "data": {
      "text/plain": [
       "941"
      ]
     },
     "execution_count": 26,
     "metadata": {},
     "output_type": "execute_result"
    }
   ],
   "source": [
    "spir_missing_event_date_and_scene_time = spir_missing_event_date[spir_missing_event_date['At Scene Time'].isna()]\n",
    "len(spir_missing_event_date_and_scene_time)"
   ]
  },
  {
   "cell_type": "code",
   "execution_count": 23,
   "metadata": {},
   "outputs": [
    {
     "data": {
      "text/plain": [
       "11584"
      ]
     },
     "execution_count": 23,
     "metadata": {},
     "output_type": "execute_result"
    }
   ],
   "source": [
    "len(spir_missing_event_date)"
   ]
  },
  {
   "cell_type": "code",
   "execution_count": 25,
   "metadata": {},
   "outputs": [
    {
     "data": {
      "text/plain": [
       "1023030"
      ]
     },
     "execution_count": 25,
     "metadata": {},
     "output_type": "execute_result"
    }
   ],
   "source": [
    "spir_missing_scene_time = spir_missing[spir_missing['At Scene Time'].isna()]\n",
    "len(spir_missing_scene_time)"
   ]
  },
  {
   "cell_type": "code",
   "execution_count": 27,
   "metadata": {},
   "outputs": [],
   "source": [
    "spir_missing_w_event = spir_missing.dropna(axis=0, subset=['Event Clearance Date'])"
   ]
  },
  {
   "cell_type": "code",
   "execution_count": 28,
   "metadata": {},
   "outputs": [
    {
     "name": "stdout",
     "output_type": "stream",
     "text": [
      "        CAD CDW ID  CAD Event Number  General Offense Number  \\\n",
      "483617      851737       12000227704              2012227704   \n",
      "1148536    2097473       14000213398              2014213398   \n",
      "211489      462928       11000333794              2011333794   \n",
      "\n",
      "         Event Clearance Code Event Clearance Description  \\\n",
      "483617                  280.0           SUSPICIOUS PERSON   \n",
      "1148536                 245.0          DISTURBANCE, OTHER   \n",
      "211489                  460.0  TRAFFIC (MOVING) VIOLATION   \n",
      "\n",
      "         Event Clearance SubGroup     Event Clearance Group  \\\n",
      "483617   SUSPICIOUS CIRCUMSTANCES  SUSPICIOUS CIRCUMSTANCES   \n",
      "1148536              DISTURBANCES              DISTURBANCES   \n",
      "211489      TRAFFIC RELATED CALLS     TRAFFIC RELATED CALLS   \n",
      "\n",
      "          Hundred Block Location District/Sector Zone/Beat  Census Tract  \\\n",
      "483617     16XX BLOCK OF 4TH AVE               M        M2     8100.2002   \n",
      "1148536    9XX BLOCK OF N 127 ST               N        N1      402.2003   \n",
      "211489   40XX BLOCK OF 4TH AVE S               O        O2     9300.3107   \n",
      "\n",
      "          Longitude   Latitude               Incident Location  \\\n",
      "483617  -122.338048  47.611706   (47.611705679, -122.33804772)   \n",
      "1148536 -122.346542  47.721395  (47.721394884, -122.346542214)   \n",
      "211489  -122.329200  47.567788  (47.567787835, -122.329200173)   \n",
      "\n",
      "                 Initial Type Description Initial Type Subgroup  \\\n",
      "483617                                NaN                   NaN   \n",
      "1148536  DISTURBANCE, MISCELLANEOUS/OTHER          DISTURBANCES   \n",
      "211489                                NaN                   NaN   \n",
      "\n",
      "        Initial Type Group At Scene Time    event_clear_time  \n",
      "483617                 NaN           NaN 2012-07-15 20:50:00  \n",
      "1148536       DISTURBANCES           NaN 2014-07-02 16:55:00  \n",
      "211489                 NaN           NaN 2011-10-11 15:22:00  \n"
     ]
    },
    {
     "name": "stderr",
     "output_type": "stream",
     "text": [
      "<ipython-input-15-d0e6c57e416d>:8: SettingWithCopyWarning: \n",
      "A value is trying to be set on a copy of a slice from a DataFrame.\n",
      "Try using .loc[row_indexer,col_indexer] = value instead\n",
      "\n",
      "See the caveats in the documentation: https://pandas.pydata.org/pandas-docs/stable/user_guide/indexing.html#returning-a-view-versus-a-copy\n",
      "  df['event_clear_time']=df[\"Event Clearance Date\"].apply(lambda x: datetime.strptime(x, dt_format))\n",
      "C:\\Users\\chery\\AppData\\Local\\Programs\\Python\\Python39\\lib\\site-packages\\pandas\\core\\frame.py:4308: SettingWithCopyWarning: \n",
      "A value is trying to be set on a copy of a slice from a DataFrame\n",
      "\n",
      "See the caveats in the documentation: https://pandas.pydata.org/pandas-docs/stable/user_guide/indexing.html#returning-a-view-versus-a-copy\n",
      "  return super().drop(\n"
     ]
    }
   ],
   "source": [
    "transform_times(spir_missing_w_event)"
   ]
  },
  {
   "cell_type": "code",
   "execution_count": 30,
   "metadata": {},
   "outputs": [
    {
     "name": "stderr",
     "output_type": "stream",
     "text": [
      "<ipython-input-30-acf9430163d6>:1: SettingWithCopyWarning: \n",
      "A value is trying to be set on a copy of a slice from a DataFrame.\n",
      "Try using .loc[row_indexer,col_indexer] = value instead\n",
      "\n",
      "See the caveats in the documentation: https://pandas.pydata.org/pandas-docs/stable/user_guide/indexing.html#returning-a-view-versus-a-copy\n",
      "  spir_missing_w_event[\"event_clear_time_year\"] = spir_missing_w_event.event_clear_time.apply(lambda x: x.year)\n"
     ]
    }
   ],
   "source": [
    "spir_missing_w_event[\"event_clear_time_year\"] = spir_missing_w_event.event_clear_time.apply(lambda x: x.year)"
   ]
  },
  {
   "cell_type": "code",
   "execution_count": 32,
   "metadata": {},
   "outputs": [],
   "source": [
    "spir_year=[]\n",
    "for year in range(2010,2018):\n",
    "    spir_temp = spir_missing_w_event[spir_missing_w_event[\"event_clear_time_year\"] == year]\n",
    "    spir_year.append(spir_temp)"
   ]
  },
  {
   "cell_type": "code",
   "execution_count": 33,
   "metadata": {},
   "outputs": [
    {
     "name": "stdout",
     "output_type": "stream",
     "text": [
      "127906\n",
      "207668\n",
      "216027\n",
      "36088\n",
      "62526\n",
      "143599\n",
      "143086\n",
      "90632\n"
     ]
    }
   ],
   "source": [
    "for year in spir_year:\n",
    "    print(len(year))"
   ]
  }
 ],
 "metadata": {
  "interpreter": {
   "hash": "d69d0d44c3579cef8f6b53da4bdf417e2460497c27e188711da66de3978a2224"
  },
  "kernelspec": {
   "display_name": "Python 3.9.0 64-bit",
   "language": "python",
   "name": "python3"
  },
  "language_info": {
   "codemirror_mode": {
    "name": "ipython",
    "version": 3
   },
   "file_extension": ".py",
   "mimetype": "text/x-python",
   "name": "python",
   "nbconvert_exporter": "python",
   "pygments_lexer": "ipython3",
   "version": "3.9.0"
  },
  "orig_nbformat": 4
 },
 "nbformat": 4,
 "nbformat_minor": 2
}
