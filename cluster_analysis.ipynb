{
 "cells": [
  {
   "cell_type": "code",
   "execution_count": null,
   "metadata": {},
   "outputs": [],
   "source": [
    "import pandas as pd\n",
    "import numpy as np\n",
    "import math\n",
    "import matplotlib.pyplot as plt"
   ]
  },
  {
   "cell_type": "code",
   "execution_count": null,
   "metadata": {},
   "outputs": [],
   "source": [
    "spir_all = pd.read_csv(\"SPIR_cluster_labels.csv\")"
   ]
  },
  {
   "cell_type": "code",
   "execution_count": null,
   "metadata": {},
   "outputs": [],
   "source": [
    "plt.scatter(spir_all.income, spir_all.time)\n",
    "plt.savefig(\"income_v_time.png\")"
   ]
  },
  {
   "cell_type": "code",
   "execution_count": null,
   "metadata": {},
   "outputs": [],
   "source": [
    "plt.scatter(spir_all.white, spir_all.income)\n",
    "plt.savefig(\"income_v_white.png\")"
   ]
  },
  {
   "cell_type": "code",
   "execution_count": null,
   "metadata": {},
   "outputs": [],
   "source": [
    "plt.clf()\n",
    "plt.scatter(spir_all.white, spir_all.time)\n",
    "plt.savefig(\"income_v_white.png\")"
   ]
  },
  {
   "cell_type": "code",
   "execution_count": null,
   "metadata": {},
   "outputs": [],
   "source": []
  },
  {
   "cell_type": "code",
   "execution_count": null,
   "metadata": {},
   "outputs": [],
   "source": [
    "spir_clust=[]\n",
    "for cluster in range(7):\n",
    "    spir_temp = spir_all[spir_all[\"cluster_label\"] == cluster]\n",
    "    spir_clust.append(spir_temp)"
   ]
  },
  {
   "cell_type": "code",
   "execution_count": null,
   "metadata": {},
   "outputs": [],
   "source": [
    "for df in spir_clust:\n",
    "    print(df.income.mean())"
   ]
  },
  {
   "cell_type": "code",
   "execution_count": null,
   "metadata": {},
   "outputs": [],
   "source": [
    "print(spir_all.income.mean())"
   ]
  },
  {
   "cell_type": "code",
   "execution_count": null,
   "metadata": {},
   "outputs": [],
   "source": [
    "print(spir_all.income.median())\n",
    "for df in spir_clust:\n",
    "    print(df.income.median())"
   ]
  },
  {
   "cell_type": "code",
   "execution_count": null,
   "metadata": {},
   "outputs": [],
   "source": [
    "for df in spir_clust:\n",
    "    print(df.time.mean())"
   ]
  },
  {
   "cell_type": "code",
   "execution_count": null,
   "metadata": {},
   "outputs": [],
   "source": [
    "for df in spir_clust:\n",
    "    print(df.time.median())"
   ]
  },
  {
   "cell_type": "code",
   "execution_count": null,
   "metadata": {},
   "outputs": [],
   "source": [
    "for df in spir_clust:\n",
    "    print(df.event.mode())"
   ]
  },
  {
   "cell_type": "code",
   "execution_count": null,
   "metadata": {},
   "outputs": [],
   "source": [
    "for df in spir_clust:\n",
    "    print(df.census.mode())"
   ]
  },
  {
   "cell_type": "code",
   "execution_count": null,
   "metadata": {},
   "outputs": [],
   "source": [
    "for df in spir_clust:\n",
    "    print(df.white.mean())"
   ]
  },
  {
   "cell_type": "code",
   "execution_count": null,
   "metadata": {},
   "outputs": [],
   "source": [
    "for df in spir_clust:\n",
    "    print(df.white.median())"
   ]
  },
  {
   "cell_type": "code",
   "execution_count": null,
   "metadata": {},
   "outputs": [],
   "source": [
    "clust_num=1\n",
    "for df in spir_clust:\n",
    "    df.to_csv(f\"SPIR_Cluster_{clust_num}.csv\")\n",
    "    clust_num += 1"
   ]
  },
  {
   "cell_type": "code",
   "execution_count": null,
   "metadata": {},
   "outputs": [],
   "source": [
    " print(spir_all.census.value_counts())"
   ]
  },
  {
   "cell_type": "code",
   "execution_count": null,
   "metadata": {},
   "outputs": [],
   "source": [
    "for df in spir_clust:\n",
    "    print(df.census.value_counts())"
   ]
  },
  {
   "cell_type": "code",
   "execution_count": null,
   "metadata": {},
   "outputs": [],
   "source": [
    "print(spir_all.event.mode())\n",
    "print(spir_all.census.mode())\n",
    "print(spir_all.time.mean())\n",
    "print(spir_all.year.mode())\n",
    "print(spir_all.white.mean())\n",
    "print(spir_all.income.mean())\n"
   ]
  },
  {
   "cell_type": "code",
   "execution_count": null,
   "metadata": {},
   "outputs": [],
   "source": [
    "print(spir_all.census.value_counts())"
   ]
  },
  {
   "cell_type": "code",
   "execution_count": null,
   "metadata": {},
   "outputs": [],
   "source": [
    "print(spir_all.year.value_counts())"
   ]
  },
  {
   "cell_type": "code",
   "execution_count": null,
   "metadata": {},
   "outputs": [],
   "source": [
    "for df in spir_clust:\n",
    "    print(df.year.value_counts())"
   ]
  },
  {
   "cell_type": "code",
   "execution_count": null,
   "metadata": {},
   "outputs": [],
   "source": [
    "print(spir_all.shape)"
   ]
  },
  {
   "cell_type": "code",
   "execution_count": null,
   "metadata": {},
   "outputs": [],
   "source": [
    "for df in spir_clust:\n",
    "    print(df.event.value_counts())"
   ]
  },
  {
   "cell_type": "code",
   "execution_count": null,
   "metadata": {},
   "outputs": [],
   "source": [
    "def group_by_feature_type(feature, feature_type, clusters):\n",
    "    group = []\n",
    "    for cluster in clusters:\n",
    "        temp = cluster[cluster[feature].isin(feature_type)]\n",
    "        group.append(temp[feature])\n",
    "        #print(temp[feature].value_counts().tolist()[0])\n",
    "    return group"
   ]
  },
  {
   "cell_type": "code",
   "execution_count": null,
   "metadata": {
    "tags": []
   },
   "outputs": [],
   "source": [
    "feature = \"event\"\n",
    "feature_types = [430, 245, 280, 63, 460, 50, 65, 450]\n",
    "count_event_by_cluster = group_by_feature_type(feature, feature_types, spir_clust)"
   ]
  },
  {
   "cell_type": "code",
   "execution_count": null,
   "metadata": {},
   "outputs": [],
   "source": [
    "all_event_graph = group_by_feature_type(feature, feature_types, [spir_all])"
   ]
  },
  {
   "cell_type": "code",
   "execution_count": null,
   "metadata": {},
   "outputs": [],
   "source": [
    "count_event_by_cluster[0][0]"
   ]
  },
  {
   "cell_type": "code",
   "execution_count": null,
   "metadata": {},
   "outputs": [],
   "source": [
    "#i=0\n",
    "#for clst in count_event_by_cluster:\n",
    "#    clst.append(feature_types[i])\n",
    "#    i+=1\n",
    "df_event = pd.DataFrame([], columns = [\"cluster_1\", \"cluster_2\", \"cluster_3\", \"cluster_4\", \"cluster_5\", \"cluster_6\", \"cluster_7\"])"
   ]
  },
  {
   "cell_type": "code",
   "execution_count": null,
   "metadata": {},
   "outputs": [],
   "source": [
    "df_event.cluster_1=count_event_by_cluster[0]\n",
    "df_event.cluster_2=count_event_by_cluster[1]\n",
    "df_event.cluster_3=count_event_by_cluster[2]\n",
    "df_event.cluster_4=count_event_by_cluster[3]\n",
    "df_event.cluster_5=count_event_by_cluster[4]\n",
    "df_event.cluster_6=count_event_by_cluster[5]\n",
    "df_event.cluster_7=count_event_by_cluster[6]"
   ]
  },
  {
   "cell_type": "code",
   "execution_count": null,
   "metadata": {},
   "outputs": [],
   "source": [
    "print(count_event_by_cluster[1])"
   ]
  },
  {
   "cell_type": "code",
   "execution_count": null,
   "metadata": {},
   "outputs": [],
   "source": [
    "import seaborn as sns\n",
    "i = 0\n",
    "for i in range(7):\n",
    "    sns.countplot(x=count_event_by_cluster[i], data=df_event)\n",
    "    plt.savefig(f\"cluster_{i}_event.png\")\n"
   ]
  },
  {
   "cell_type": "code",
   "execution_count": null,
   "metadata": {},
   "outputs": [],
   "source": [
    "import seaborn as sns\n",
    "\n",
    "sns.countplot(x=all_event_graph[0], data=df_event)\n",
    "plt.savefig(f\"cluster_all_event.png\")\n"
   ]
  },
  {
   "cell_type": "code",
   "execution_count": null,
   "metadata": {},
   "outputs": [],
   "source": [
    "feature_types_str = [\"430\", \"245\", \"280\", \"63\", \"460\", \"50\", \"65\", \"450\"]\n",
    "X = np.arange(4)\n",
    "fig = plt.figure()\n",
    "ax = fig.add_axes([0,0,1,1])\n",
    "ax.bar(feature_types_str, count_event_by_cluster[0], color = 'b', width = 0.25)\n",
    "ax.bar(feature_types_str, count_event_by_cluster[1], color = 'g', width = 0.25)\n",
    "ax.bar(feature_types_str, count_event_by_cluster[2], color = 'r', width = 0.25)"
   ]
  },
  {
   "cell_type": "code",
   "execution_count": null,
   "metadata": {},
   "outputs": [],
   "source": []
  }
 ],
 "metadata": {
  "interpreter": {
   "hash": "d69d0d44c3579cef8f6b53da4bdf417e2460497c27e188711da66de3978a2224"
  },
  "kernelspec": {
   "display_name": "Python 3.9.0 64-bit",
   "language": "python",
   "name": "python3"
  },
  "language_info": {
   "codemirror_mode": {
    "name": "ipython",
    "version": 3
   },
   "file_extension": ".py",
   "mimetype": "text/x-python",
   "name": "python",
   "nbconvert_exporter": "python",
   "pygments_lexer": "ipython3",
   "version": "3.9.0"
  },
  "orig_nbformat": 2
 },
 "nbformat": 4,
 "nbformat_minor": 2
}
