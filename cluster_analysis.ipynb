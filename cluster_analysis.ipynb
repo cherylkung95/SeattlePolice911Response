{
 "cells": [
  {
   "cell_type": "code",
   "execution_count": 11,
   "metadata": {},
   "outputs": [],
   "source": [
    "import pandas as pd\n",
    "import numpy as np\n",
    "import math\n",
    "import matplotlib.pyplot as plt\n",
    "import copy\n",
    "from datetime import date"
   ]
  },
  {
   "cell_type": "markdown",
   "metadata": {},
   "source": [
    "<h3>Read in CSV and separate clusters into individual dataframes. Store cluster dataframes in a list for easy interation</h3>"
   ]
  },
  {
   "cell_type": "code",
   "execution_count": 12,
   "metadata": {},
   "outputs": [],
   "source": [
    "spir_all = pd.read_csv(\"Processed SPIR Data/SPIR_with_labels_2021-12-07.csv\")"
   ]
  },
  {
   "cell_type": "code",
   "execution_count": 42,
   "metadata": {},
   "outputs": [
    {
     "data": {
      "text/plain": [
       "Index(['Unnamed: 0', 'Unnamed: 0.1', 'Event Clearance Code',\n",
       "       'Event Clearance Description', 'Event Clearance SubGroup',\n",
       "       'Event Clearance Group', 'Census Tract', 'Initial Type Description',\n",
       "       'Initial Type Subgroup', 'Initial Type Group', 'at_scene_time',\n",
       "       'event_clear_time', 'time_at_scene', 'white', 'total_pop', 'male',\n",
       "       'notUScitizen', 'asian', 'black', 'native', 'other_race', 'two_races',\n",
       "       'some_college', 'bachelors', 'grad_deg', 'under18MC', 'under18MS',\n",
       "       'under18FS', 'under18T', 'income', 'initial_type_desc_cat',\n",
       "       'at_scene_time_pm', 'event_clear_time_pm', 'at_scene_time_weekday',\n",
       "       'event_clear_time_weekday', 'at_scene_time_month',\n",
       "       'event_clear_time_month', 'at_scene_time_year', 'event_clear_time_year',\n",
       "       'time_at_scene_seconds', 'cluster_label'],\n",
       "      dtype='object')"
      ]
     },
     "execution_count": 42,
     "metadata": {},
     "output_type": "execute_result"
    }
   ],
   "source": [
    "spir_all.columns"
   ]
  },
  {
   "cell_type": "code",
   "execution_count": 13,
   "metadata": {},
   "outputs": [],
   "source": [
    "spir_clust=[]\n",
    "for cluster in range(7):\n",
    "    spir_temp = spir_all[spir_all[\"cluster_label\"] == cluster]\n",
    "    spir_clust.append(spir_temp)"
   ]
  },
  {
   "cell_type": "markdown",
   "metadata": {},
   "source": [
    "<h3>Organize parameters into separate lists for generating different types of data summaries. Numerical data, such as total population and income, will use median, mean, min, and max functions to summarize data. Categorical data will use value_counts.</h3>"
   ]
  },
  {
   "cell_type": "code",
   "execution_count": 14,
   "metadata": {},
   "outputs": [],
   "source": [
    "cluster_summary = pd.DataFrame(columns=['white', 'total_pop', 'male', 'notUScitizen', 'asian',\n",
    "       'black', 'native', 'other_race', 'two_races', 'some_college',\n",
    "       'bachelors', 'grad_deg', 'under18MC', 'under18MS', 'under18FS',\n",
    "       'under18T', 'income', 'time_at_scene_seconds'], index=[\"median\", \"mean\", \"min\", \"max\"])\n",
    "cluster_summary_median = [\n",
    "       'white', 'total_pop', 'male', 'notUScitizen', 'asian',\n",
    "       'black', 'native', 'other_race', 'two_races', 'some_college',\n",
    "       'bachelors', 'grad_deg', 'under18MC', 'under18MS', 'under18FS',\n",
    "       'under18T', 'income', 'time_at_scene_seconds']\n",
    "\n",
    "cluster_summary_mean = [\n",
    "       'white', 'total_pop', 'male', 'notUScitizen', 'asian',\n",
    "       'black', 'native', 'other_race', 'two_races', 'some_college',\n",
    "       'bachelors', 'grad_deg', 'under18MC', 'under18MS', 'under18FS',\n",
    "       'under18T', 'income', 'time_at_scene_seconds']\n",
    "\n",
    "cluster_summary_min = [\n",
    "       'white', 'total_pop', 'male', 'notUScitizen', 'asian',\n",
    "       'black', 'native', 'other_race', 'two_races', 'some_college',\n",
    "       'bachelors', 'grad_deg', 'under18MC', 'under18MS', 'under18FS',\n",
    "       'under18T', 'income', 'time_at_scene_seconds']\n",
    "\n",
    "cluster_summary_max = [\n",
    "       'white', 'total_pop', 'male', 'notUScitizen', 'asian',\n",
    "       'black', 'native', 'other_race', 'two_races', 'some_college',\n",
    "       'bachelors', 'grad_deg', 'under18MC', 'under18MS', 'under18FS',\n",
    "       'under18T', 'income', 'time_at_scene_seconds']\n",
    "\n",
    "cluster_summary_value_counts = ['Event Clearance Code',\n",
    "       'initial_type_desc_cat','at_scene_time_weekday',\n",
    "       'event_clear_time_weekday', 'at_scene_time_month',\n",
    "       'event_clear_time_month', 'at_scene_time_year', 'event_clear_time_year',\n",
    "       'at_scene_time_pm', 'event_clear_time_pm',\n",
    "       ]\n",
    "list_of_cluster_summaries = [cluster_summary_median, cluster_summary_mean, cluster_summary_min, \n",
    "       cluster_summary_max, cluster_summary_value_counts]"
   ]
  },
  {
   "cell_type": "markdown",
   "metadata": {},
   "source": [
    "<h4>Numerical data summary</h4>"
   ]
  },
  {
   "cell_type": "code",
   "execution_count": null,
   "metadata": {},
   "outputs": [],
   "source": [
    "clust_num = 1\n",
    "for cluster in spir_clust:\n",
    "    temp_df = copy.deepcopy(cluster_summary)\n",
    "    for column_label in cluster_summary_median:\n",
    "        temp_df.loc[\"median\", column_label] = cluster[column_label].median()\n",
    "    for column_label in cluster_summary_mean:\n",
    "        temp_df.loc[\"mean\", column_label] = cluster[column_label].mean()\n",
    "    for column_label in cluster_summary_min:\n",
    "        temp_df.loc[\"min\", column_label] = cluster[column_label].min()\n",
    "    for column_label in cluster_summary_max:\n",
    "        temp_df.loc[\"max\", column_label] = cluster[column_label].max()\n",
    "    temp_df.to_csv(f\"Cluster Summaries {date.today()}/Cluster_{clust_num}_Summary.csv\")\n",
    "    clust_num += 1\n"
   ]
  },
  {
   "cell_type": "markdown",
   "metadata": {},
   "source": [
    "<h4>Categorical Data Summary</h4>"
   ]
  },
  {
   "cell_type": "code",
   "execution_count": 10,
   "metadata": {},
   "outputs": [],
   "source": [
    "for column in cluster_summary_value_counts:\n",
    "    temp_df = pd.DataFrame()\n",
    "    clust_num = 1\n",
    "    for cluster in spir_clust:\n",
    "        temp_series = cluster[column].value_counts()\n",
    "        temp_series.name = f\"Cluster_{clust_num}\"\n",
    "        temp_df = pd.concat([temp_df, temp_series], axis=1)\n",
    "        clust_num += 1\n",
    "    temp_df.to_csv(f\"Cluster Summaries {date.today()}/{column}_summary_by_cluster.csv\")\n",
    "    \n"
   ]
  },
  {
   "cell_type": "markdown",
   "metadata": {},
   "source": [
    "<h4>Census Tract Summary</h4>"
   ]
  },
  {
   "cell_type": "code",
   "execution_count": null,
   "metadata": {},
   "outputs": [],
   "source": [
    "import math\n",
    "temp_df = pd.DataFrame()\n",
    "clust_num = 1\n",
    "for cluster in spir_clust:\n",
    "    temp_series = cluster[\"Census Tract\"].apply(math.floor).value_counts()\n",
    "    temp_series.name = f\"Cluster_{clust_num}\"\n",
    "    temp_df = pd.concat([temp_df, temp_series], axis=1)\n",
    "    clust_num += 1\n",
    "temp_df.to_csv(f\"Cluster Summaries 2021-12-07/Census Tract_summary_by_cluster.csv\")"
   ]
  },
  {
   "cell_type": "markdown",
   "metadata": {},
   "source": [
    "<h4>Time of Day (AM or PM) Summary</h4>"
   ]
  },
  {
   "cell_type": "code",
   "execution_count": 17,
   "metadata": {},
   "outputs": [],
   "source": [
    "temp_df = pd.DataFrame(columns=['Cluster 1', 'Cluster 2', 'Cluster 3', 'Cluster 4', 'Cluster 5', 'Cluster 6', 'Cluster 7', 'All'], index=['am_median', 'pm_median', 'am_mean', 'pm_mean'])\n",
    "clust_num = 1\n",
    "for cluster in spir_clust:\n",
    "    temp_series_pm = cluster[cluster.at_scene_time_pm == 1].time_at_scene_seconds\n",
    "    temp_series_am = cluster[cluster.at_scene_time_pm == 0].time_at_scene_seconds\n",
    "    temp_df[f'Cluster {clust_num}']['am_median'] = temp_series_am.median()\n",
    "    temp_df[f'Cluster {clust_num}']['pm_median'] = temp_series_pm.median()\n",
    "    temp_df[f'Cluster {clust_num}']['am_mean'] = temp_series_am.mean()\n",
    "    temp_df[f'Cluster {clust_num}']['pm_mean'] = temp_series_pm.mean()\n",
    "    clust_num += 1\n",
    "\n",
    "temp_series_pm = spir_all[spir_all.at_scene_time_pm == 1].time_at_scene_seconds\n",
    "temp_series_am = spir_all[spir_all.at_scene_time_pm == 0].time_at_scene_seconds\n",
    "temp_df['All']['am_median'] = temp_series_am.median()\n",
    "temp_df['All']['pm_median'] = temp_series_pm.median()\n",
    "temp_df['All']['am_mean'] = temp_series_am.mean()\n",
    "temp_df['All']['pm_mean'] = temp_series_pm.mean()\n",
    "\n",
    "temp_df.to_csv(\"Cluster Summaries 2021-12-07/Occurence_vs_clearance_time.csv\")\n"
   ]
  },
  {
   "cell_type": "markdown",
   "metadata": {},
   "source": [
    "<h4>Day of the Week vs Time at Scene Summary</h4>"
   ]
  },
  {
   "cell_type": "code",
   "execution_count": 23,
   "metadata": {},
   "outputs": [],
   "source": [
    "temp_df = pd.DataFrame(columns=['Cluster 1', 'Cluster 2', 'Cluster 3', 'Cluster 4', 'Cluster 5', 'Cluster 6', 'Cluster 7', 'All'], \n",
    "    index=[0, 1, 2, 3, 4, 5, 6])\n",
    "clust_num = 1\n",
    "for cluster in spir_clust:\n",
    "    for day in range(7):\n",
    "        temp_series = cluster[cluster.at_scene_time_weekday == day].time_at_scene_seconds\n",
    "        temp_df[f'Cluster {clust_num}'][day] = temp_series.median()\n",
    "        #temp_df[f'Cluster {clust_num}'][day] = temp_series.mean()\n",
    "    clust_num += 1\n",
    "\n",
    "for day in range(7):\n",
    "    temp_series = spir_all[spir_all.at_scene_time_weekday == day].time_at_scene_seconds\n",
    "    temp_df[f'All'][day] = temp_series.median()\n",
    "    #temp_df[f'All'][day] = temp_series.mean()\n",
    "\n",
    "temp_df.to_csv(\"Cluster Summaries 2021-12-07/Weekday vs clearance time_median.csv\")\n"
   ]
  },
  {
   "cell_type": "markdown",
   "metadata": {},
   "source": [
    "<h4>Month vs Time at Scene Summary</h4>"
   ]
  },
  {
   "cell_type": "code",
   "execution_count": 30,
   "metadata": {},
   "outputs": [],
   "source": [
    "temp_df = pd.DataFrame(columns=['Cluster 1', 'Cluster 2', 'Cluster 3', 'Cluster 4', 'Cluster 5', 'Cluster 6', 'Cluster 7', 'All'], \n",
    "    index=[1, 2, 3, 4, 5, 6, 7, 8, 9, 10, 11, 12])\n",
    "clust_num = 1\n",
    "for cluster in spir_clust:\n",
    "    for month in range(13):\n",
    "        temp_series = cluster[cluster.at_scene_time_month == month].time_at_scene_seconds\n",
    "        #temp_df[f'Cluster {clust_num}'][month] = temp_series.median()\n",
    "        temp_df[f'Cluster {clust_num}'][month] = temp_series.mean()\n",
    "    clust_num += 1\n",
    "\n",
    "for month in range(13):\n",
    "    temp_series = spir_all[spir_all.at_scene_time_month == month].time_at_scene_seconds\n",
    "    #temp_df[f'All'][month] = temp_series.median()\n",
    "    temp_df[f'All'][month] = temp_series.mean()\n",
    "\n",
    "temp_df.to_csv(\"Cluster Summaries 2021-12-07/Month vs clearance time_mean.csv\")\n",
    "#temp_df.to_csv(\"Cluster Summaries 2021-12-07/Month vs clearance time_median.csv\")"
   ]
  },
  {
   "cell_type": "markdown",
   "metadata": {},
   "source": [
    "<h4>Year vs Time at Scene Summary</h4>"
   ]
  },
  {
   "cell_type": "code",
   "execution_count": 37,
   "metadata": {},
   "outputs": [],
   "source": [
    "temp_df = pd.DataFrame(columns=['Cluster 1', 'Cluster 2', 'Cluster 3', 'Cluster 4', 'Cluster 5', 'Cluster 6', 'Cluster 7', 'All'], \n",
    "    index=[2010, 2011, 2012, 2013, 2014, 2015, 2016, 2017])\n",
    "clust_num = 1\n",
    "for cluster in spir_clust:\n",
    "    for year in range(2010,2018):\n",
    "        temp_series = cluster[cluster.at_scene_time_year == year].time_at_scene_seconds\n",
    "        temp_df[f'Cluster {clust_num}'][year] = temp_series.median()\n",
    "        #temp_df[f'Cluster {clust_num}'][year] = temp_series.mean()\n",
    "    clust_num += 1\n",
    "\n",
    "for year in range(2010, 2018):\n",
    "    temp_series = spir_all[spir_all.at_scene_time_year == year].time_at_scene_seconds\n",
    "    temp_df[f'All'][year] = temp_series.median()\n",
    "    #temp_df[f'All'][year] = temp_series.mean()\n",
    "\n",
    "#temp_df.to_csv(\"Cluster Summaries 2021-12-07/Year vs clearance time_mean.csv\")\n",
    "temp_df.to_csv(\"Cluster Summaries 2021-12-07/Year vs clearance time_median.csv\")"
   ]
  },
  {
   "cell_type": "markdown",
   "metadata": {},
   "source": [
    "<h4>Event Type vs Time at Scene Summary</h4>"
   ]
  },
  {
   "cell_type": "code",
   "execution_count": 43,
   "metadata": {},
   "outputs": [],
   "source": [
    "event_codes = [245, 430, 280, 460, 161, 65, 63, 64, 71, 40]\n",
    "temp_df = pd.DataFrame(columns=['Cluster 1', 'Cluster 2', 'Cluster 3', 'Cluster 4', 'Cluster 5', 'Cluster 6', 'Cluster 7', 'All'], \n",
    "    index=event_codes)\n",
    "clust_num = 1\n",
    "for cluster in spir_clust:\n",
    "    for code in event_codes:\n",
    "        temp_series = cluster[cluster['Event Clearance Code'] == code].time_at_scene_seconds\n",
    "        temp_df[f'Cluster {clust_num}'][code] = temp_series.median()\n",
    "        #temp_df[f'Cluster {clust_num}'][code] = temp_series.mean()\n",
    "    clust_num += 1\n",
    "\n",
    "for code in event_codes:\n",
    "    temp_series = spir_all[spir_all['Event Clearance Code'] == code].time_at_scene_seconds\n",
    "    temp_df[f'All'][code] = temp_series.median()\n",
    "    #temp_df[f'All'][code] = temp_series.mean()\n",
    "\n",
    "#temp_df.to_csv(\"Cluster Summaries 2021-12-07/Year vs clearance time_mean.csv\")\n",
    "temp_df.to_csv(\"Cluster Summaries 2021-12-07/Event vs clearance time_median.csv\")"
   ]
  },
  {
   "cell_type": "markdown",
   "metadata": {},
   "source": [
    "<h4>Output individual clusters to CSV files</h4>"
   ]
  },
  {
   "cell_type": "code",
   "execution_count": null,
   "metadata": {},
   "outputs": [],
   "source": [
    "clust_num=1\n",
    "for df in spir_clust:\n",
    "    df.to_csv(f\"SPIR_Cluster_{clust_num}_20211207.csv\")\n",
    "    clust_num += 1"
   ]
  }
 ],
 "metadata": {
  "interpreter": {
   "hash": "d69d0d44c3579cef8f6b53da4bdf417e2460497c27e188711da66de3978a2224"
  },
  "kernelspec": {
   "display_name": "Python 3.9.0 64-bit",
   "language": "python",
   "name": "python3"
  },
  "language_info": {
   "codemirror_mode": {
    "name": "ipython",
    "version": 3
   },
   "file_extension": ".py",
   "mimetype": "text/x-python",
   "name": "python",
   "nbconvert_exporter": "python",
   "pygments_lexer": "ipython3",
   "version": "3.9.0"
  },
  "orig_nbformat": 2
 },
 "nbformat": 4,
 "nbformat_minor": 2
}
