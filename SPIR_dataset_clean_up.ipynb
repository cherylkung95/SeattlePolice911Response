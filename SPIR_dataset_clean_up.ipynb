{
 "cells": [
  {
   "cell_type": "markdown",
   "metadata": {},
   "source": [
    "This file takes the original dataset from Kaggle and converts the dataset into Python-readable values"
   ]
  },
  {
   "cell_type": "code",
   "execution_count": 22,
   "metadata": {},
   "outputs": [],
   "source": [
    "import numpy as np\n",
    "import pandas as pd\n",
    "from pandas import DataFrame\n",
    "import math\n",
    "import matplotlib.pyplot as plt\n",
    "import seaborn as sns\n",
    "from datetime import date\n",
    "from tabulate import tabulate\n",
    "import sys\n",
    "import copy\n",
    "sys.path.append('C:\\\\Users\\\\chery\\\\Documents\\\\SeattlePolice911Response')\n",
    "from utils.baseML import BaseML\n",
    "from datetime import datetime\n",
    "from sklearn import preprocessing"
   ]
  },
  {
   "cell_type": "markdown",
   "metadata": {},
   "source": [
    "Read in CSV"
   ]
  },
  {
   "cell_type": "code",
   "execution_count": 23,
   "metadata": {},
   "outputs": [
    {
     "name": "stderr",
     "output_type": "stream",
     "text": [
      "C:\\Users\\chery\\AppData\\Local\\Programs\\Python\\Python39\\lib\\site-packages\\IPython\\core\\interactiveshell.py:3165: DtypeWarning: Columns (0) have mixed types.Specify dtype option on import or set low_memory=False.\n",
      "  has_raised = await self.run_ast_nodes(code_ast.body, cell_name,\n"
     ]
    }
   ],
   "source": [
    "spir_original = pd.read_csv(\"Seattle_Police_Department_911_Incident_Response.csv\")"
   ]
  },
  {
   "cell_type": "code",
   "execution_count": 4,
   "metadata": {},
   "outputs": [
    {
     "name": "stdout",
     "output_type": "stream",
     "text": [
      "Index(['CAD CDW ID', 'CAD Event Number', 'General Offense Number',\n",
      "       'Event Clearance Code', 'Event Clearance Description',\n",
      "       'Event Clearance SubGroup', 'Event Clearance Group',\n",
      "       'Event Clearance Date', 'Hundred Block Location', 'District/Sector',\n",
      "       'Zone/Beat', 'Census Tract', 'Longitude', 'Latitude',\n",
      "       'Incident Location', 'Initial Type Description',\n",
      "       'Initial Type Subgroup', 'Initial Type Group', 'At Scene Time'],\n",
      "      dtype='object')\n"
     ]
    }
   ],
   "source": [
    "print(spir_original.columns)"
   ]
  },
  {
   "cell_type": "markdown",
   "metadata": {},
   "source": [
    " Drop unused Columns"
   ]
  },
  {
   "cell_type": "code",
   "execution_count": 24,
   "metadata": {},
   "outputs": [],
   "source": [
    "drop_columns= ['CAD CDW ID', 'CAD Event Number', 'General Offense Number', 'Hundred Block Location', 'District/Sector',\n",
    "       'Zone/Beat', 'Longitude', 'Latitude',\n",
    "       'Incident Location']\n",
    "\n",
    "spir_drop_unused_col = spir_original.drop(labels=drop_columns, axis=1)"
   ]
  },
  {
   "cell_type": "markdown",
   "metadata": {},
   "source": [
    "Create list of unique census tracts. This is used to pull data from the US Census API 5 year American Community Survey"
   ]
  },
  {
   "cell_type": "code",
   "execution_count": 13,
   "metadata": {},
   "outputs": [],
   "source": [
    "census_tracts = spir_drop_unused_col[\"Census Tract\"].unique()\n",
    "census_tracts = pd.DataFrame(census_tracts, columns=[\"census_tracts\"])\n",
    "census_tracts.dropna(axis =0, inplace=True)\n",
    "census_tracts.census_tracts=census_tracts.census_tracts.apply(format_tract)\n",
    "census_tracts.census_tracts = pd.Series(census_tracts.census_tracts.unique())\n",
    "census_tracts.dropna(axis=0, inplace=True)\n",
    "census_tracts.to_csv(\"census_tracts.csv\")"
   ]
  },
  {
   "cell_type": "markdown",
   "metadata": {},
   "source": [
    "Drop rows with missing values"
   ]
  },
  {
   "cell_type": "code",
   "execution_count": 25,
   "metadata": {},
   "outputs": [],
   "source": [
    "spir_dropna = spir_drop_unused_col.dropna(axis=0, how='any')"
   ]
  },
  {
   "cell_type": "markdown",
   "metadata": {},
   "source": [
    "Fix date and time"
   ]
  },
  {
   "cell_type": "code",
   "execution_count": 93,
   "metadata": {},
   "outputs": [],
   "source": [
    "class Seattle_Police_ML(BaseML):\n",
    "\n",
    "    def dayDifference(self, fdate, ldate):\n",
    "        delta = ldate - fdate\n",
    "        return(delta)\n",
    "\n",
    "    def transform_times(self):\n",
    "        dt_format = '%m/%d/%Y %I:%M:%S %p'\n",
    "        #self.df[\"at_scene_datetime\"] = self.df.apply(lambda x: x.At_Scene_Date + \"T\" + x.At_Scene_Time, axis=1)\n",
    "        #self.df['at_scene_temp'] = self.df.at_scene_datetime.apply(lambda x: datetime.fromisoformat(x))\n",
    "        self.df['at_scene_time'] = self.df[\"At Scene Time\"].apply(lambda x: datetime.strptime(x, dt_format))\n",
    "        #self.df.Event_Clearance_Date.fillna(\"2021-05-13\", inplace=True)\n",
    "        #self.df.Event_Clearance_Time.fillna(\"00:00:00\", inplace=True)\n",
    "        \n",
    "        #self.df[[\"Event_Clearance_Date\", \"Event_Clearance_Time\"]] = self.df[[\"Event_Clearance_Date\", \"Event_Clearance_Time\"]].astype(str)\n",
    "        #print(spir.df.Event_Clearance_Date.dtype)\n",
    "        \n",
    "        #self.df[\"event_clear_datetime\"] = self.df.apply(lambda x: x.Event_Clearance_Date + \"T\" + x.Event_Clearance_Time, axis=1)\n",
    "        #self.df['event_clear_temp'] = self.df.event_clear_datetime.apply(lambda x: datetime.fromisoformat(x))\n",
    "        self.df['event_clear_time']=self.df[\"Event Clearance Date\"].apply(lambda x: datetime.strptime(x, dt_format))\n",
    "        self.df['time_at_scene'] = self.df.apply(lambda x: pd.to_timedelta(self.dayDifference(x[\"at_scene_time\"], x[\"event_clear_time\"])), axis = 1)\n",
    "        self.df.drop([\"At Scene Time\", \"Event Clearance Date\"], axis = 1, inplace = True)\n",
    "        #self.df.drop(self.df[self.df['Schedule_to_appt_days'] < 0].index, inplace = True)\n",
    "        #self.df.dropna(inplace=True)\n",
    "        print(self.df.sample(3))\n",
    "\n",
    "    def simplify_times(self):\n",
    "        bins = (\n",
    "            pd.Timedelta(minutes = 0),\n",
    "            pd.Timedelta(minutes = 30),\n",
    "            pd.Timedelta(minutes = 60),\n",
    "            pd.Timedelta(hours = 4),\n",
    "            pd.Timedelta(hours = 8),\n",
    "            pd.Timedelta(hours = 12),\n",
    "            pd.Timedelta(days = 1),\n",
    "            pd.Timedelta(days = 36500)\n",
    "        )\n",
    "\n",
    "        labels = ['< 30min', '30-60min','1-4hrs', '4-8hrs','8-12hrs','12-24hrs', '24hrs+']\n",
    "\n",
    "        return pd.cut(self.df['time_at_scene'], bins, labels = labels)\n",
    "\n",
    "    def map_func(self,parameter_df, x):\n",
    "        try:\n",
    "            return parameter_df.loc[math.floor(x[\"Census Tract\"]), str(datetime.strptime(x.at_scene_time, \"%Y-%m-%d %H:%M:%S\").year)]\n",
    "        except KeyError:\n",
    "            return None\n",
    "            pass\n",
    "            #print(math.floor(x[\"Census Tract\"]))\n",
    "\n",
    "    \n",
    "    def add_census_data(self, census_filename, parameter_name):\n",
    "        parameter_df = pd.read_csv(census_filename, index_col=1)\n",
    "        print(self.df[\"Census Tract\"].sample(3))\n",
    "        self.df[parameter_name]=self.df.apply(lambda x: self.map_func(parameter_df, x), axis=1)\n",
    "        \n",
    "        \n",
    "    def normalize_features(self):\n",
    "        scaler = preprocessing.StandardScaler().fit(self.df)\n",
    "        df_scaled = scaler.transform(self.df)\n",
    "        self.df_normalized = pd.DataFrame(df_scaled, columns = self.df.columns, dtype= 'int64')\n"
   ]
  },
  {
   "cell_type": "code",
   "execution_count": 46,
   "metadata": {},
   "outputs": [
    {
     "name": "stdout",
     "output_type": "stream",
     "text": [
      "0    1\n",
      "1    a\n",
      "Name: 2021, dtype: object\n",
      "1038734    4800.3047\n",
      "892743     8002.2005\n",
      "1072815    7700.1029\n",
      "Name: Census Tract, dtype: float64\n"
     ]
    }
   ],
   "source": [
    "year=datetime.today().year\n",
    "test=pd.DataFrame([[1,2,3],\n",
    "            ['a','b','c']], columns=[2021, 2012, 2013])\n",
    "print(test[year])\n",
    "\n",
    "print(spir_final.df[\"Census Tract\"].sample(3))\n"
   ]
  },
  {
   "cell_type": "code",
   "execution_count": 49,
   "metadata": {},
   "outputs": [
    {
     "name": "stdout",
     "output_type": "stream",
     "text": [
      "0.631121868\n"
     ]
    }
   ],
   "source": [
    "test_df= pd.read_csv(\"white_percent.csv\", index_col=1)\n",
    "print(test_df.loc[math.floor(1200.2000), '2017'])"
   ]
  },
  {
   "cell_type": "code",
   "execution_count": 9,
   "metadata": {},
   "outputs": [
    {
     "name": "stdout",
     "output_type": "stream",
     "text": [
      "65275      10/01/2010 05:07:00 PM\n",
      "1066012    03/23/2017 05:38:44 AM\n",
      "49629      09/12/2010 01:41:00 PM\n",
      "Name: Event Clearance Date, dtype: object\n"
     ]
    }
   ],
   "source": [
    "print(spir_drop_unused_col['Event Clearance Date'].sample(3))\n"
   ]
  },
  {
   "cell_type": "code",
   "execution_count": 84,
   "metadata": {},
   "outputs": [
    {
     "name": "stdout",
     "output_type": "stream",
     "text": [
      "         Event Clearance Code Event Clearance Description  \\\n",
      "798918                  280.0           SUSPICIOUS PERSON   \n",
      "1106900                 245.0          DISTURBANCE, OTHER   \n",
      "688610                  460.0  TRAFFIC (MOVING) VIOLATION   \n",
      "\n",
      "         Event Clearance SubGroup     Event Clearance Group  Census Tract  \\\n",
      "798918   SUSPICIOUS CIRCUMSTANCES  SUSPICIOUS CIRCUMSTANCES     7200.1042   \n",
      "1106900              DISTURBANCES              DISTURBANCES     4600.1001   \n",
      "688610      TRAFFIC RELATED CALLS     TRAFFIC RELATED CALLS     7300.1003   \n",
      "\n",
      "                               Initial Type Description  \\\n",
      "798918   WEAPN-IP/JO-GUN,DEADLY WPN (NO THRT/ASLT/DIST)   \n",
      "1106900                             NUISANCE - MISCHIEF   \n",
      "688610          TRAFFIC STOP - OFFICER INITIATED ONVIEW   \n",
      "\n",
      "              Initial Type Subgroup          Initial Type Group  \\\n",
      "798918                WEAPONS CALLS               WEAPONS CALLS   \n",
      "1106900  MISCELLANEOUS MISDEMEANORS  MISCELLANEOUS MISDEMEANORS   \n",
      "688610        TRAFFIC RELATED CALLS       TRAFFIC RELATED CALLS   \n",
      "\n",
      "              at_scene_time    event_clear_time   time_at_scene  \n",
      "798918  2015-12-20 22:10:13 2015-12-21 01:22:27 0 days 03:12:14  \n",
      "1106900 2017-08-20 12:38:40 2017-08-20 15:22:35 0 days 02:43:55  \n",
      "688610  2017-03-01 19:01:01 2017-03-01 19:27:19 0 days 00:26:18  \n"
     ]
    },
    {
     "data": {
      "text/plain": [
       "255          1-4hrs\n",
       "2147         1-4hrs\n",
       "2376         1-4hrs\n",
       "2433         1-4hrs\n",
       "2444         1-4hrs\n",
       "             ...   \n",
       "1433846      1-4hrs\n",
       "1433847    30-60min\n",
       "1433850      1-4hrs\n",
       "1433851      1-4hrs\n",
       "1433852    30-60min\n",
       "Name: time_at_scene, Length: 394768, dtype: category\n",
       "Categories (7, object): ['< 30min' < '30-60min' < '1-4hrs' < '4-8hrs' < '8-12hrs' < '12-24hrs' < '24hrs+']"
      ]
     },
     "execution_count": 84,
     "metadata": {},
     "output_type": "execute_result"
    }
   ],
   "source": [
    "spir_final = Seattle_Police_ML()\n",
    "spir_final.df = copy.deepcopy(spir_dropna)\n",
    "spir_final.transform_times()\n",
    "spir_final.simplify_times()\n"
   ]
  },
  {
   "cell_type": "code",
   "execution_count": 85,
   "metadata": {},
   "outputs": [],
   "source": [
    "spir_final.df.to_csv(\"SPIR_transformed_times.csv\")"
   ]
  },
  {
   "cell_type": "code",
   "execution_count": 154,
   "metadata": {},
   "outputs": [
    {
     "name": "stdout",
     "output_type": "stream",
     "text": [
      "48387     8001.2008\n",
      "103       8100.2023\n",
      "250201    7200.3000\n",
      "Name: Census Tract, dtype: float64\n",
      "89936     11402.1000\n",
      "110294    11800.6018\n",
      "131127     6800.2007\n",
      "Name: Census Tract, dtype: float64\n"
     ]
    }
   ],
   "source": [
    "spir_final = Seattle_Police_ML(\"SPIR_transformed_times.csv\")\n",
    "print(spir_final.df[\"Census Tract\"].sample(3))\n",
    "spir_final.add_census_data(\"white_percent.csv\",\"white\")\n"
   ]
  },
  {
   "cell_type": "code",
   "execution_count": 155,
   "metadata": {},
   "outputs": [
    {
     "name": "stdout",
     "output_type": "stream",
     "text": [
      "210098     100.3004\n",
      "166021    3300.3019\n",
      "300818    9300.2005\n",
      "Name: Census Tract, dtype: float64\n",
      "172503     3000.3004\n",
      "52521     10900.2089\n",
      "141970     4900.5014\n",
      "Name: Census Tract, dtype: float64\n",
      "230919    9300.3099\n",
      "245990    1000.2007\n",
      "208133    7200.1063\n",
      "Name: Census Tract, dtype: float64\n",
      "335577    1200.4005\n",
      "257065    6700.1001\n",
      "14887     8400.2006\n",
      "Name: Census Tract, dtype: float64\n",
      "392797     402.2007\n",
      "6085      9300.3161\n",
      "228938    9200.1006\n",
      "Name: Census Tract, dtype: float64\n",
      "223716    8900.6007\n",
      "84791     7300.2010\n",
      "168597    5802.2012\n",
      "Name: Census Tract, dtype: float64\n",
      "353209    8100.2008\n",
      "235345    9800.4020\n",
      "254037    5200.3004\n",
      "Name: Census Tract, dtype: float64\n",
      "361283    7401.1006\n",
      "126277    7100.1003\n",
      "218072    8200.2000\n",
      "Name: Census Tract, dtype: float64\n",
      "227608    11101.1005\n",
      "257166      800.1005\n",
      "124931     5400.1018\n",
      "Name: Census Tract, dtype: float64\n",
      "24548     9300.2060\n",
      "343342    4900.2008\n",
      "167087    7000.3015\n",
      "Name: Census Tract, dtype: float64\n",
      "28010     7900.4006\n",
      "292912    8500.3001\n",
      "4797      9100.1001\n",
      "Name: Census Tract, dtype: float64\n",
      "74324    8001.5001\n",
      "44254    8400.3006\n",
      "17508    7300.3025\n",
      "Name: Census Tract, dtype: float64\n",
      "294858    11000.1010\n",
      "219391     4800.1021\n",
      "316521    10800.2002\n",
      "Name: Census Tract, dtype: float64\n",
      "28227     7600.3005\n",
      "25603     8100.1036\n",
      "105450    5000.1042\n",
      "Name: Census Tract, dtype: float64\n",
      "53355     8100.2043\n",
      "251901     700.1008\n",
      "165083    8200.1019\n",
      "Name: Census Tract, dtype: float64\n",
      "315431     8100.1024\n",
      "366268    10100.2012\n",
      "330057      402.5003\n",
      "Name: Census Tract, dtype: float64\n"
     ]
    }
   ],
   "source": [
    "spir_final.add_census_data(\"total_pop_by_tract.csv\",\"total_pop\")\n",
    "spir_final.add_census_data(\"male_percent.csv\",\"male\")\n",
    "spir_final.add_census_data(\"notUScitizen_percent.csv\",\"notUScitizen\")\n",
    "spir_final.add_census_data(\"asian_percent.csv\",\"asian\")\n",
    "spir_final.add_census_data(\"black_percent.csv\",\"black\")\n",
    "spir_final.add_census_data(\"native_percent.csv\",\"native\")\n",
    "spir_final.add_census_data(\"other_race_percent.csv\",\"other_race\")\n",
    "spir_final.add_census_data(\"two_races_percent.csv\",\"two_races\")\n",
    "spir_final.add_census_data(\"some_college_percent.csv\",\"some_college\")\n",
    "spir_final.add_census_data(\"bachelors_percent.csv\",\"bachelors\")\n",
    "spir_final.add_census_data(\"grad_deg_percent.csv\",\"grad_deg\")\n",
    "spir_final.add_census_data(\"under18MC_percent.csv\",\"under18MC\")\n",
    "spir_final.add_census_data(\"under18MS_percent.csv\",\"under18MS\")\n",
    "spir_final.add_census_data(\"under18FS_percent.csv\",\"under18FS\")\n",
    "spir_final.add_census_data(\"under18T_percent.csv\",\"under18T\")\n",
    "spir_final.add_census_data(\"income_by_tract.csv\", \"income\")\n"
   ]
  },
  {
   "cell_type": "code",
   "execution_count": 156,
   "metadata": {},
   "outputs": [],
   "source": [
    "spir_final.df.to_csv(\"SPIR_census_added.csv\")\n"
   ]
  },
  {
   "cell_type": "code",
   "execution_count": 157,
   "metadata": {},
   "outputs": [],
   "source": [
    "spir_final.df.dropna(axis=0, inplace=True)"
   ]
  },
  {
   "cell_type": "code",
   "execution_count": 158,
   "metadata": {},
   "outputs": [
    {
     "data": {
      "text/plain": [
       "Index(['Unnamed: 0', 'Event Clearance Code', 'Event Clearance Description',\n",
       "       'Event Clearance SubGroup', 'Event Clearance Group', 'Census Tract',\n",
       "       'Initial Type Description', 'Initial Type Subgroup',\n",
       "       'Initial Type Group', 'at_scene_time', 'event_clear_time',\n",
       "       'time_at_scene', 'white', 'total_pop', 'male', 'notUScitizen', 'asian',\n",
       "       'black', 'native', 'other_race', 'two_races', 'some_college',\n",
       "       'bachelors', 'grad_deg', 'under18MC', 'under18MS', 'under18FS',\n",
       "       'under18T', 'income'],\n",
       "      dtype='object')"
      ]
     },
     "execution_count": 158,
     "metadata": {},
     "output_type": "execute_result"
    }
   ],
   "source": [
    "spir_final.df.columns"
   ]
  },
  {
   "cell_type": "code",
   "execution_count": 100,
   "metadata": {},
   "outputs": [
    {
     "name": "stdout",
     "output_type": "stream",
     "text": [
      "SUSPICIOUS PERSON, VEHICLE OR INCIDENT           28090\n",
      "THEFT (DOES NOT INCLUDE SHOPLIFT OR SVCS)        27716\n",
      "DISTURBANCE, MISCELLANEOUS/OTHER                 25488\n",
      "TRAFFIC STOP - OFFICER INITIATED ONVIEW          19858\n",
      "BURG - RES (INCL UNOCC STRUCTURES ON PROP)       17027\n",
      "                                                 ...  \n",
      "NORAD - INCIDENTS INV AIRCRAFT (EXCL CRASHES)        2\n",
      "ALARM - EQUIPMENT                                    2\n",
      "NARCOTICS - VIOLATION OF SODA ORDER                  1\n",
      "TRU - PURSE SNATCH                                   1\n",
      "TRU - LURING                                         1\n",
      "Name: Initial Type Description, Length: 169, dtype: int64\n"
     ]
    }
   ],
   "source": [
    "print(spir_final.df['Initial Type Description'].value_counts())"
   ]
  },
  {
   "cell_type": "code",
   "execution_count": 159,
   "metadata": {},
   "outputs": [],
   "source": [
    "spir_final.df.drop([\"Unnamed: 0\"], axis=1, inplace=True)"
   ]
  },
  {
   "cell_type": "code",
   "execution_count": 142,
   "metadata": {},
   "outputs": [
    {
     "name": "stdout",
     "output_type": "stream",
     "text": [
      "Index(['Event Clearance Code', 'Census Tract', 'Initial Type Description',\n",
      "       'at_scene_time', 'event_clear_time', 'time_at_scene', 'white',\n",
      "       'total_pop', 'male', 'notUScitizen', 'asian', 'black', 'native',\n",
      "       'other_race', 'two_races', 'some_college', 'bachelors', 'grad_deg',\n",
      "       'under18MC', 'under18MS', 'under18FS', 'under18T', 'income'],\n",
      "      dtype='object')\n"
     ]
    }
   ],
   "source": [
    "print(spir_final.df.columns)"
   ]
  },
  {
   "cell_type": "code",
   "execution_count": 160,
   "metadata": {},
   "outputs": [
    {
     "name": "stdout",
     "output_type": "stream",
     "text": [
      "Event Clearance Code            float64\n",
      "Event Clearance Description      object\n",
      "Event Clearance SubGroup         object\n",
      "Event Clearance Group            object\n",
      "Census Tract                    float64\n",
      "Initial Type Description       category\n",
      "Initial Type Subgroup            object\n",
      "Initial Type Group               object\n",
      "at_scene_time                    object\n",
      "event_clear_time                 object\n",
      "time_at_scene                    object\n",
      "white                           float64\n",
      "total_pop                       float64\n",
      "male                            float64\n",
      "notUScitizen                    float64\n",
      "asian                           float64\n",
      "black                           float64\n",
      "native                          float64\n",
      "other_race                      float64\n",
      "two_races                       float64\n",
      "some_college                    float64\n",
      "bachelors                       float64\n",
      "grad_deg                        float64\n",
      "under18MC                       float64\n",
      "under18MS                       float64\n",
      "under18FS                       float64\n",
      "under18T                        float64\n",
      "income                          float64\n",
      "dtype: object\n"
     ]
    }
   ],
   "source": [
    "spir_final.df['Initial Type Description'] = spir_final.df['Initial Type Description'].astype('category')\n",
    "print(spir_final.df.dtypes)"
   ]
  },
  {
   "cell_type": "code",
   "execution_count": 161,
   "metadata": {},
   "outputs": [
    {
     "name": "stdout",
     "output_type": "stream",
     "text": [
      "   Event Clearance Code         Event Clearance Description  \\\n",
      "0                 161.0                            TRESPASS   \n",
      "1                  50.0  BURGLARY - RESIDENTIAL, UNOCCUPIED   \n",
      "2                 430.0             MOTOR VEHICLE COLLISION   \n",
      "3                  50.0  BURGLARY - RESIDENTIAL, UNOCCUPIED   \n",
      "4                 430.0             MOTOR VEHICLE COLLISION   \n",
      "\n",
      "  Event Clearance SubGroup                  Event Clearance Group  \\\n",
      "0                 TRESPASS                               TRESPASS   \n",
      "1   RESIDENTIAL BURGLARIES                               BURGLARY   \n",
      "2    TRAFFIC RELATED CALLS  MOTOR VEHICLE COLLISION INVESTIGATION   \n",
      "3   RESIDENTIAL BURGLARIES                               BURGLARY   \n",
      "4    TRAFFIC RELATED CALLS  MOTOR VEHICLE COLLISION INVESTIGATION   \n",
      "\n",
      "   Census Tract                           Initial Type Description  \\\n",
      "0     6000.1011                                NUISANCE - MISCHIEF   \n",
      "1    10300.2005         BURG - RES (INCL UNOCC STRUCTURES ON PROP)   \n",
      "2     2800.1003  MOTOR VEHICLE COLLISION WITH INJURIES - PRIORI...   \n",
      "3     3400.3000         BURG - RES (INCL UNOCC STRUCTURES ON PROP)   \n",
      "4     7900.5006                      DUI - DRIVING UNDER INFLUENCE   \n",
      "\n",
      "                   Initial Type Subgroup          Initial Type Group  \\\n",
      "0             MISCELLANEOUS MISDEMEANORS  MISCELLANEOUS MISDEMEANORS   \n",
      "1                               BURGLARY      RESIDENTIAL BURGLARIES   \n",
      "2  MOTOR VEHICLE COLLISION INVESTIGATION       TRAFFIC RELATED CALLS   \n",
      "3                               BURGLARY      RESIDENTIAL BURGLARIES   \n",
      "4                  TRAFFIC RELATED CALLS       TRAFFIC RELATED CALLS   \n",
      "\n",
      "         at_scene_time     event_clear_time  ... two_races  some_college  \\\n",
      "0  2016-01-24 10:46:45  2016-01-24 11:59:45  ...  0.071633      0.139157   \n",
      "1  2016-01-24 10:55:44  2016-01-24 12:01:15  ...  0.068313      0.213225   \n",
      "2  2016-01-24 10:17:27  2016-01-24 12:06:53  ...  0.033014      0.126961   \n",
      "3  2016-01-24 10:29:37  2016-01-24 12:03:53  ...  0.045700      0.143321   \n",
      "4  2016-01-24 08:58:44  2016-01-24 12:10:26  ...  0.025836      0.168524   \n",
      "\n",
      "   bachelors  grad_deg  under18MC  under18MS  under18FS  under18T    income  \\\n",
      "0   0.287603  0.281350   0.894466   0.000000   0.105534  0.138800  102879.0   \n",
      "1   0.194154  0.098640   0.542237   0.062751   0.221239  0.194310   58321.0   \n",
      "2   0.358875  0.218463   0.917204   0.013978   0.068817  0.189525  100859.0   \n",
      "3   0.281233  0.257707   0.867268   0.083763   0.048969  0.209843  103333.0   \n",
      "4   0.372340  0.211922   0.268041   0.420619   0.169072  0.082742   70096.0   \n",
      "\n",
      "   initial_type_desc_cat  \n",
      "0                     91  \n",
      "1                     35  \n",
      "2                     79  \n",
      "3                     35  \n",
      "4                     48  \n",
      "\n",
      "[5 rows x 29 columns]\n"
     ]
    }
   ],
   "source": [
    "spir_final.df[\"initial_type_desc_cat\"] = spir_final.df[\"Initial Type Description\"].cat.codes\n",
    "print(spir_final.df.head())"
   ]
  },
  {
   "cell_type": "code",
   "execution_count": 162,
   "metadata": {},
   "outputs": [
    {
     "name": "stdout",
     "output_type": "stream",
     "text": [
      "timedelta64[ns]\n"
     ]
    }
   ],
   "source": [
    "spir_final.df.at_scene_time = spir_final.df.at_scene_time.astype('datetime64')\n",
    "spir_final.df.event_clear_time = spir_final.df.event_clear_time.astype('datetime64')\n",
    "spir_final.df.time_at_scene = pd.to_timedelta(spir_final.df.time_at_scene)\n",
    "\n",
    "print(spir_final.df.time_at_scene.dtypes)"
   ]
  },
  {
   "cell_type": "code",
   "execution_count": 163,
   "metadata": {},
   "outputs": [
    {
     "name": "stdout",
     "output_type": "stream",
     "text": [
      "   Event Clearance Code         Event Clearance Description  \\\n",
      "0                 161.0                            TRESPASS   \n",
      "1                  50.0  BURGLARY - RESIDENTIAL, UNOCCUPIED   \n",
      "2                 430.0             MOTOR VEHICLE COLLISION   \n",
      "3                  50.0  BURGLARY - RESIDENTIAL, UNOCCUPIED   \n",
      "4                 430.0             MOTOR VEHICLE COLLISION   \n",
      "\n",
      "  Event Clearance SubGroup                  Event Clearance Group  \\\n",
      "0                 TRESPASS                               TRESPASS   \n",
      "1   RESIDENTIAL BURGLARIES                               BURGLARY   \n",
      "2    TRAFFIC RELATED CALLS  MOTOR VEHICLE COLLISION INVESTIGATION   \n",
      "3   RESIDENTIAL BURGLARIES                               BURGLARY   \n",
      "4    TRAFFIC RELATED CALLS  MOTOR VEHICLE COLLISION INVESTIGATION   \n",
      "\n",
      "   Census Tract                           Initial Type Description  \\\n",
      "0     6000.1011                                NUISANCE - MISCHIEF   \n",
      "1    10300.2005         BURG - RES (INCL UNOCC STRUCTURES ON PROP)   \n",
      "2     2800.1003  MOTOR VEHICLE COLLISION WITH INJURIES - PRIORI...   \n",
      "3     3400.3000         BURG - RES (INCL UNOCC STRUCTURES ON PROP)   \n",
      "4     7900.5006                      DUI - DRIVING UNDER INFLUENCE   \n",
      "\n",
      "                   Initial Type Subgroup          Initial Type Group  \\\n",
      "0             MISCELLANEOUS MISDEMEANORS  MISCELLANEOUS MISDEMEANORS   \n",
      "1                               BURGLARY      RESIDENTIAL BURGLARIES   \n",
      "2  MOTOR VEHICLE COLLISION INVESTIGATION       TRAFFIC RELATED CALLS   \n",
      "3                               BURGLARY      RESIDENTIAL BURGLARIES   \n",
      "4                  TRAFFIC RELATED CALLS       TRAFFIC RELATED CALLS   \n",
      "\n",
      "        at_scene_time    event_clear_time  ... two_races  some_college  \\\n",
      "0 2016-01-24 10:46:45 2016-01-24 11:59:45  ...  0.071633      0.139157   \n",
      "1 2016-01-24 10:55:44 2016-01-24 12:01:15  ...  0.068313      0.213225   \n",
      "2 2016-01-24 10:17:27 2016-01-24 12:06:53  ...  0.033014      0.126961   \n",
      "3 2016-01-24 10:29:37 2016-01-24 12:03:53  ...  0.045700      0.143321   \n",
      "4 2016-01-24 08:58:44 2016-01-24 12:10:26  ...  0.025836      0.168524   \n",
      "\n",
      "   bachelors  grad_deg  under18MC  under18MS  under18FS  under18T    income  \\\n",
      "0   0.287603  0.281350   0.894466   0.000000   0.105534  0.138800  102879.0   \n",
      "1   0.194154  0.098640   0.542237   0.062751   0.221239  0.194310   58321.0   \n",
      "2   0.358875  0.218463   0.917204   0.013978   0.068817  0.189525  100859.0   \n",
      "3   0.281233  0.257707   0.867268   0.083763   0.048969  0.209843  103333.0   \n",
      "4   0.372340  0.211922   0.268041   0.420619   0.169072  0.082742   70096.0   \n",
      "\n",
      "   initial_type_desc_cat  \n",
      "0                     91  \n",
      "1                     35  \n",
      "2                     79  \n",
      "3                     35  \n",
      "4                     48  \n",
      "\n",
      "[5 rows x 29 columns]\n"
     ]
    }
   ],
   "source": [
    "print(spir_final.df.head())"
   ]
  },
  {
   "cell_type": "code",
   "execution_count": 164,
   "metadata": {},
   "outputs": [],
   "source": [
    "noon = datetime(2021, 11, 12,hour = 12)\n",
    "spir_final.df[\"at_scene_time_pm\"] = spir_final.df.at_scene_time.apply(lambda x: 0 if x.hour < noon.hour else 1)\n",
    "spir_final.df[\"event_clear_time_pm\"] = spir_final.df.event_clear_time.apply(lambda x: 0 if x.hour < noon.hour else 1)\n"
   ]
  },
  {
   "cell_type": "code",
   "execution_count": 165,
   "metadata": {},
   "outputs": [],
   "source": [
    "spir_final.df[\"at_scene_time_weekday\"] = spir_final.df.at_scene_time.apply(datetime.weekday)\n",
    "spir_final.df[\"event_clear_time_weekday\"] = spir_final.df.event_clear_time.apply(datetime.weekday)"
   ]
  },
  {
   "cell_type": "code",
   "execution_count": 166,
   "metadata": {},
   "outputs": [],
   "source": [
    "spir_final.df[\"at_scene_time_month\"] = spir_final.df.at_scene_time.apply(lambda x: x.month)\n",
    "spir_final.df[\"event_clear_time_month\"] = spir_final.df.event_clear_time.apply(lambda x: x.month)"
   ]
  },
  {
   "cell_type": "code",
   "execution_count": 167,
   "metadata": {},
   "outputs": [],
   "source": [
    "spir_final.df[\"at_scene_time_year\"] = spir_final.df.at_scene_time.apply(lambda x: x.year)\n",
    "spir_final.df[\"event_clear_time_year\"] = spir_final.df.event_clear_time.apply(lambda x: x.year)"
   ]
  },
  {
   "cell_type": "code",
   "execution_count": 151,
   "metadata": {},
   "outputs": [
    {
     "data": {
      "text/html": [
       "<div>\n",
       "<style scoped>\n",
       "    .dataframe tbody tr th:only-of-type {\n",
       "        vertical-align: middle;\n",
       "    }\n",
       "\n",
       "    .dataframe tbody tr th {\n",
       "        vertical-align: top;\n",
       "    }\n",
       "\n",
       "    .dataframe thead th {\n",
       "        text-align: right;\n",
       "    }\n",
       "</style>\n",
       "<table border=\"1\" class=\"dataframe\">\n",
       "  <thead>\n",
       "    <tr style=\"text-align: right;\">\n",
       "      <th></th>\n",
       "      <th>Event Clearance Code</th>\n",
       "      <th>Census Tract</th>\n",
       "      <th>Initial Type Description</th>\n",
       "      <th>at_scene_time</th>\n",
       "      <th>event_clear_time</th>\n",
       "      <th>time_at_scene</th>\n",
       "      <th>white</th>\n",
       "      <th>total_pop</th>\n",
       "      <th>male</th>\n",
       "      <th>notUScitizen</th>\n",
       "      <th>...</th>\n",
       "      <th>income</th>\n",
       "      <th>initial_type_desc_cat</th>\n",
       "      <th>at_scene_time_pm</th>\n",
       "      <th>event_clear_time_pm</th>\n",
       "      <th>at_scene_time_weekday</th>\n",
       "      <th>event_clear_time_weekday</th>\n",
       "      <th>at_scene_time_month</th>\n",
       "      <th>event_clear_time_month</th>\n",
       "      <th>at_scene_time_year</th>\n",
       "      <th>event_clear_time_year</th>\n",
       "    </tr>\n",
       "  </thead>\n",
       "  <tbody>\n",
       "    <tr>\n",
       "      <th>359683</th>\n",
       "      <td>245.0</td>\n",
       "      <td>7500.1002</td>\n",
       "      <td>HARAS - NO BIAS, THREATS OR MALICIOUSNESS</td>\n",
       "      <td>2015-04-11 16:07:00</td>\n",
       "      <td>2015-04-11 17:14:00</td>\n",
       "      <td>0 days 01:07:00</td>\n",
       "      <td>0.741231</td>\n",
       "      <td>7783.0</td>\n",
       "      <td>0.528845</td>\n",
       "      <td>0.077091</td>\n",
       "      <td>...</td>\n",
       "      <td>63419.0</td>\n",
       "      <td>60</td>\n",
       "      <td>1</td>\n",
       "      <td>1</td>\n",
       "      <td>5</td>\n",
       "      <td>5</td>\n",
       "      <td>4</td>\n",
       "      <td>4</td>\n",
       "      <td>2015</td>\n",
       "      <td>2015</td>\n",
       "    </tr>\n",
       "    <tr>\n",
       "      <th>250938</th>\n",
       "      <td>282.0</td>\n",
       "      <td>4100.6005</td>\n",
       "      <td>PROWLER - IP/JO</td>\n",
       "      <td>2017-06-29 02:18:13</td>\n",
       "      <td>2017-06-29 03:30:19</td>\n",
       "      <td>0 days 01:12:06</td>\n",
       "      <td>0.829293</td>\n",
       "      <td>7920.0</td>\n",
       "      <td>0.513510</td>\n",
       "      <td>0.096591</td>\n",
       "      <td>...</td>\n",
       "      <td>168415.0</td>\n",
       "      <td>107</td>\n",
       "      <td>0</td>\n",
       "      <td>0</td>\n",
       "      <td>3</td>\n",
       "      <td>3</td>\n",
       "      <td>6</td>\n",
       "      <td>6</td>\n",
       "      <td>2017</td>\n",
       "      <td>2017</td>\n",
       "    </tr>\n",
       "    <tr>\n",
       "      <th>374215</th>\n",
       "      <td>161.0</td>\n",
       "      <td>8100.1032</td>\n",
       "      <td>TRESPASS</td>\n",
       "      <td>2015-05-31 21:49:00</td>\n",
       "      <td>2015-05-31 22:39:00</td>\n",
       "      <td>0 days 00:50:00</td>\n",
       "      <td>0.653890</td>\n",
       "      <td>4435.0</td>\n",
       "      <td>0.564600</td>\n",
       "      <td>0.177903</td>\n",
       "      <td>...</td>\n",
       "      <td>75531.0</td>\n",
       "      <td>137</td>\n",
       "      <td>1</td>\n",
       "      <td>1</td>\n",
       "      <td>6</td>\n",
       "      <td>6</td>\n",
       "      <td>5</td>\n",
       "      <td>5</td>\n",
       "      <td>2015</td>\n",
       "      <td>2015</td>\n",
       "    </tr>\n",
       "    <tr>\n",
       "      <th>186259</th>\n",
       "      <td>65.0</td>\n",
       "      <td>8500.3001</td>\n",
       "      <td>THEFT (DOES NOT INCLUDE SHOPLIFT OR SVCS)</td>\n",
       "      <td>2016-07-24 12:25:41</td>\n",
       "      <td>2016-07-24 15:18:57</td>\n",
       "      <td>0 days 02:53:16</td>\n",
       "      <td>0.534384</td>\n",
       "      <td>4377.0</td>\n",
       "      <td>0.635367</td>\n",
       "      <td>0.099155</td>\n",
       "      <td>...</td>\n",
       "      <td>32885.0</td>\n",
       "      <td>126</td>\n",
       "      <td>1</td>\n",
       "      <td>1</td>\n",
       "      <td>6</td>\n",
       "      <td>6</td>\n",
       "      <td>7</td>\n",
       "      <td>7</td>\n",
       "      <td>2016</td>\n",
       "      <td>2016</td>\n",
       "    </tr>\n",
       "    <tr>\n",
       "      <th>175826</th>\n",
       "      <td>280.0</td>\n",
       "      <td>5301.3002</td>\n",
       "      <td>THEFT (DOES NOT INCLUDE SHOPLIFT OR SVCS)</td>\n",
       "      <td>2012-09-06 11:34:00</td>\n",
       "      <td>2012-09-06 12:30:00</td>\n",
       "      <td>0 days 00:56:00</td>\n",
       "      <td>0.587797</td>\n",
       "      <td>6851.0</td>\n",
       "      <td>0.472778</td>\n",
       "      <td>0.141877</td>\n",
       "      <td>...</td>\n",
       "      <td>13563.0</td>\n",
       "      <td>126</td>\n",
       "      <td>0</td>\n",
       "      <td>1</td>\n",
       "      <td>3</td>\n",
       "      <td>3</td>\n",
       "      <td>9</td>\n",
       "      <td>9</td>\n",
       "      <td>2012</td>\n",
       "      <td>2012</td>\n",
       "    </tr>\n",
       "    <tr>\n",
       "      <th>129739</th>\n",
       "      <td>64.0</td>\n",
       "      <td>4700.3021</td>\n",
       "      <td>SHOPLIFT - THEFT</td>\n",
       "      <td>2015-08-31 16:11:00</td>\n",
       "      <td>2015-08-31 18:16:00</td>\n",
       "      <td>0 days 02:05:00</td>\n",
       "      <td>0.835974</td>\n",
       "      <td>8395.0</td>\n",
       "      <td>0.497439</td>\n",
       "      <td>0.071114</td>\n",
       "      <td>...</td>\n",
       "      <td>72396.0</td>\n",
       "      <td>119</td>\n",
       "      <td>1</td>\n",
       "      <td>1</td>\n",
       "      <td>0</td>\n",
       "      <td>0</td>\n",
       "      <td>8</td>\n",
       "      <td>8</td>\n",
       "      <td>2015</td>\n",
       "      <td>2015</td>\n",
       "    </tr>\n",
       "    <tr>\n",
       "      <th>325941</th>\n",
       "      <td>50.0</td>\n",
       "      <td>9900.1015</td>\n",
       "      <td>BURG - RES (INCL UNOCC STRUCTURES ON PROP)</td>\n",
       "      <td>2014-12-02 22:03:00</td>\n",
       "      <td>2014-12-03 00:04:00</td>\n",
       "      <td>0 days 02:01:00</td>\n",
       "      <td>0.718990</td>\n",
       "      <td>4950.0</td>\n",
       "      <td>0.512323</td>\n",
       "      <td>0.060404</td>\n",
       "      <td>...</td>\n",
       "      <td>70822.0</td>\n",
       "      <td>35</td>\n",
       "      <td>1</td>\n",
       "      <td>0</td>\n",
       "      <td>1</td>\n",
       "      <td>2</td>\n",
       "      <td>12</td>\n",
       "      <td>12</td>\n",
       "      <td>2014</td>\n",
       "      <td>2014</td>\n",
       "    </tr>\n",
       "    <tr>\n",
       "      <th>21521</th>\n",
       "      <td>430.0</td>\n",
       "      <td>10100.5035</td>\n",
       "      <td>MOTOR VEHICLE COLLISION, HIT AND RUN</td>\n",
       "      <td>2016-04-02 09:36:19</td>\n",
       "      <td>2016-04-02 10:34:34</td>\n",
       "      <td>0 days 00:58:15</td>\n",
       "      <td>0.384884</td>\n",
       "      <td>7449.0</td>\n",
       "      <td>0.490670</td>\n",
       "      <td>0.066989</td>\n",
       "      <td>...</td>\n",
       "      <td>59193.0</td>\n",
       "      <td>81</td>\n",
       "      <td>0</td>\n",
       "      <td>0</td>\n",
       "      <td>5</td>\n",
       "      <td>5</td>\n",
       "      <td>4</td>\n",
       "      <td>4</td>\n",
       "      <td>2016</td>\n",
       "      <td>2016</td>\n",
       "    </tr>\n",
       "    <tr>\n",
       "      <th>5447</th>\n",
       "      <td>184.0</td>\n",
       "      <td>9200.2014</td>\n",
       "      <td>NARCOTICS - VIOLATIONS (LOITER, USE, SELL, NARS)</td>\n",
       "      <td>2016-02-24 14:44:18</td>\n",
       "      <td>2016-02-24 17:00:48</td>\n",
       "      <td>0 days 02:16:30</td>\n",
       "      <td>0.514734</td>\n",
       "      <td>2613.0</td>\n",
       "      <td>0.642556</td>\n",
       "      <td>0.102947</td>\n",
       "      <td>...</td>\n",
       "      <td>26500.0</td>\n",
       "      <td>86</td>\n",
       "      <td>1</td>\n",
       "      <td>1</td>\n",
       "      <td>2</td>\n",
       "      <td>2</td>\n",
       "      <td>2</td>\n",
       "      <td>2</td>\n",
       "      <td>2016</td>\n",
       "      <td>2016</td>\n",
       "    </tr>\n",
       "    <tr>\n",
       "      <th>328633</th>\n",
       "      <td>363.0</td>\n",
       "      <td>1900.4003</td>\n",
       "      <td>MISSING - ADULT</td>\n",
       "      <td>2014-12-11 20:56:00</td>\n",
       "      <td>2014-12-11 22:54:00</td>\n",
       "      <td>0 days 01:58:00</td>\n",
       "      <td>0.734617</td>\n",
       "      <td>4518.0</td>\n",
       "      <td>0.496016</td>\n",
       "      <td>0.086764</td>\n",
       "      <td>...</td>\n",
       "      <td>61979.0</td>\n",
       "      <td>77</td>\n",
       "      <td>1</td>\n",
       "      <td>1</td>\n",
       "      <td>3</td>\n",
       "      <td>3</td>\n",
       "      <td>12</td>\n",
       "      <td>12</td>\n",
       "      <td>2014</td>\n",
       "      <td>2014</td>\n",
       "    </tr>\n",
       "  </tbody>\n",
       "</table>\n",
       "<p>10 rows × 32 columns</p>\n",
       "</div>"
      ],
      "text/plain": [
       "        Event Clearance Code  Census Tract  \\\n",
       "359683                 245.0     7500.1002   \n",
       "250938                 282.0     4100.6005   \n",
       "374215                 161.0     8100.1032   \n",
       "186259                  65.0     8500.3001   \n",
       "175826                 280.0     5301.3002   \n",
       "129739                  64.0     4700.3021   \n",
       "325941                  50.0     9900.1015   \n",
       "21521                  430.0    10100.5035   \n",
       "5447                   184.0     9200.2014   \n",
       "328633                 363.0     1900.4003   \n",
       "\n",
       "                                Initial Type Description       at_scene_time  \\\n",
       "359683         HARAS - NO BIAS, THREATS OR MALICIOUSNESS 2015-04-11 16:07:00   \n",
       "250938                                   PROWLER - IP/JO 2017-06-29 02:18:13   \n",
       "374215                                          TRESPASS 2015-05-31 21:49:00   \n",
       "186259         THEFT (DOES NOT INCLUDE SHOPLIFT OR SVCS) 2016-07-24 12:25:41   \n",
       "175826         THEFT (DOES NOT INCLUDE SHOPLIFT OR SVCS) 2012-09-06 11:34:00   \n",
       "129739                                  SHOPLIFT - THEFT 2015-08-31 16:11:00   \n",
       "325941        BURG - RES (INCL UNOCC STRUCTURES ON PROP) 2014-12-02 22:03:00   \n",
       "21521               MOTOR VEHICLE COLLISION, HIT AND RUN 2016-04-02 09:36:19   \n",
       "5447    NARCOTICS - VIOLATIONS (LOITER, USE, SELL, NARS) 2016-02-24 14:44:18   \n",
       "328633                                   MISSING - ADULT 2014-12-11 20:56:00   \n",
       "\n",
       "          event_clear_time   time_at_scene     white  total_pop      male  \\\n",
       "359683 2015-04-11 17:14:00 0 days 01:07:00  0.741231     7783.0  0.528845   \n",
       "250938 2017-06-29 03:30:19 0 days 01:12:06  0.829293     7920.0  0.513510   \n",
       "374215 2015-05-31 22:39:00 0 days 00:50:00  0.653890     4435.0  0.564600   \n",
       "186259 2016-07-24 15:18:57 0 days 02:53:16  0.534384     4377.0  0.635367   \n",
       "175826 2012-09-06 12:30:00 0 days 00:56:00  0.587797     6851.0  0.472778   \n",
       "129739 2015-08-31 18:16:00 0 days 02:05:00  0.835974     8395.0  0.497439   \n",
       "325941 2014-12-03 00:04:00 0 days 02:01:00  0.718990     4950.0  0.512323   \n",
       "21521  2016-04-02 10:34:34 0 days 00:58:15  0.384884     7449.0  0.490670   \n",
       "5447   2016-02-24 17:00:48 0 days 02:16:30  0.514734     2613.0  0.642556   \n",
       "328633 2014-12-11 22:54:00 0 days 01:58:00  0.734617     4518.0  0.496016   \n",
       "\n",
       "        notUScitizen  ...    income  initial_type_desc_cat  at_scene_time_pm  \\\n",
       "359683      0.077091  ...   63419.0                     60                 1   \n",
       "250938      0.096591  ...  168415.0                    107                 0   \n",
       "374215      0.177903  ...   75531.0                    137                 1   \n",
       "186259      0.099155  ...   32885.0                    126                 1   \n",
       "175826      0.141877  ...   13563.0                    126                 0   \n",
       "129739      0.071114  ...   72396.0                    119                 1   \n",
       "325941      0.060404  ...   70822.0                     35                 1   \n",
       "21521       0.066989  ...   59193.0                     81                 0   \n",
       "5447        0.102947  ...   26500.0                     86                 1   \n",
       "328633      0.086764  ...   61979.0                     77                 1   \n",
       "\n",
       "        event_clear_time_pm  at_scene_time_weekday  event_clear_time_weekday  \\\n",
       "359683                    1                      5                         5   \n",
       "250938                    0                      3                         3   \n",
       "374215                    1                      6                         6   \n",
       "186259                    1                      6                         6   \n",
       "175826                    1                      3                         3   \n",
       "129739                    1                      0                         0   \n",
       "325941                    0                      1                         2   \n",
       "21521                     0                      5                         5   \n",
       "5447                      1                      2                         2   \n",
       "328633                    1                      3                         3   \n",
       "\n",
       "        at_scene_time_month  event_clear_time_month  at_scene_time_year  \\\n",
       "359683                    4                       4                2015   \n",
       "250938                    6                       6                2017   \n",
       "374215                    5                       5                2015   \n",
       "186259                    7                       7                2016   \n",
       "175826                    9                       9                2012   \n",
       "129739                    8                       8                2015   \n",
       "325941                   12                      12                2014   \n",
       "21521                     4                       4                2016   \n",
       "5447                      2                       2                2016   \n",
       "328633                   12                      12                2014   \n",
       "\n",
       "        event_clear_time_year  \n",
       "359683                   2015  \n",
       "250938                   2017  \n",
       "374215                   2015  \n",
       "186259                   2016  \n",
       "175826                   2012  \n",
       "129739                   2015  \n",
       "325941                   2014  \n",
       "21521                    2016  \n",
       "5447                     2016  \n",
       "328633                   2014  \n",
       "\n",
       "[10 rows x 32 columns]"
      ]
     },
     "execution_count": 151,
     "metadata": {},
     "output_type": "execute_result"
    }
   ],
   "source": [
    "spir_final.df.sample(10)"
   ]
  },
  {
   "cell_type": "code",
   "execution_count": 168,
   "metadata": {},
   "outputs": [],
   "source": [
    "from datetime import timedelta\n",
    "spir_final.df[\"time_at_scene_seconds\"] = spir_final.df.time_at_scene.apply(timedelta.total_seconds)"
   ]
  },
  {
   "cell_type": "code",
   "execution_count": 169,
   "metadata": {},
   "outputs": [],
   "source": [
    "spir_final.df.to_csv(\"SPIR_encoded_2021116.csv\")"
   ]
  },
  {
   "cell_type": "markdown",
   "metadata": {},
   "source": [
    "Isolate missing values"
   ]
  }
 ],
 "metadata": {
  "interpreter": {
   "hash": "d69d0d44c3579cef8f6b53da4bdf417e2460497c27e188711da66de3978a2224"
  },
  "kernelspec": {
   "display_name": "Python 3.9.0 64-bit",
   "name": "python3"
  },
  "language_info": {
   "codemirror_mode": {
    "name": "ipython",
    "version": 3
   },
   "file_extension": ".py",
   "mimetype": "text/x-python",
   "name": "python",
   "nbconvert_exporter": "python",
   "pygments_lexer": "ipython3",
   "version": "3.9.0"
  },
  "orig_nbformat": 4
 },
 "nbformat": 4,
 "nbformat_minor": 2
}
