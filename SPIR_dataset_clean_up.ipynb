{
 "cells": [
  {
   "cell_type": "markdown",
   "metadata": {},
   "source": [
    "This file takes the original dataset from Kaggle and converts the dataset into Python-readable values"
   ]
  },
  {
   "cell_type": "code",
   "execution_count": 22,
   "metadata": {},
   "outputs": [],
   "source": [
    "import numpy as np\n",
    "import pandas as pd\n",
    "from pandas import DataFrame\n",
    "import math\n",
    "import matplotlib.pyplot as plt\n",
    "import seaborn as sns\n",
    "from datetime import date\n",
    "from tabulate import tabulate\n",
    "import sys\n",
    "import copy\n",
    "sys.path.append('C:\\\\Users\\\\chery\\\\Documents\\\\SeattlePolice911Response')\n",
    "from utils.baseML import BaseML\n",
    "from datetime import datetime\n",
    "from sklearn import preprocessing"
   ]
  },
  {
   "cell_type": "markdown",
   "metadata": {},
   "source": [
    "Read in CSV"
   ]
  },
  {
   "cell_type": "code",
   "execution_count": 23,
   "metadata": {},
   "outputs": [
    {
     "name": "stderr",
     "output_type": "stream",
     "text": [
      "C:\\Users\\chery\\AppData\\Local\\Programs\\Python\\Python39\\lib\\site-packages\\IPython\\core\\interactiveshell.py:3165: DtypeWarning: Columns (0) have mixed types.Specify dtype option on import or set low_memory=False.\n",
      "  has_raised = await self.run_ast_nodes(code_ast.body, cell_name,\n"
     ]
    }
   ],
   "source": [
    "spir_original = pd.read_csv(\"Seattle_Police_Department_911_Incident_Response.csv\")"
   ]
  },
  {
   "cell_type": "code",
   "execution_count": 4,
   "metadata": {},
   "outputs": [
    {
     "name": "stdout",
     "output_type": "stream",
     "text": [
      "Index(['CAD CDW ID', 'CAD Event Number', 'General Offense Number',\n",
      "       'Event Clearance Code', 'Event Clearance Description',\n",
      "       'Event Clearance SubGroup', 'Event Clearance Group',\n",
      "       'Event Clearance Date', 'Hundred Block Location', 'District/Sector',\n",
      "       'Zone/Beat', 'Census Tract', 'Longitude', 'Latitude',\n",
      "       'Incident Location', 'Initial Type Description',\n",
      "       'Initial Type Subgroup', 'Initial Type Group', 'At Scene Time'],\n",
      "      dtype='object')\n"
     ]
    }
   ],
   "source": [
    "print(spir_original.columns)"
   ]
  },
  {
   "cell_type": "markdown",
   "metadata": {},
   "source": [
    " Drop unused Columns"
   ]
  },
  {
   "cell_type": "code",
   "execution_count": 24,
   "metadata": {},
   "outputs": [],
   "source": [
    "drop_columns= ['CAD CDW ID', 'CAD Event Number', 'General Offense Number', 'Hundred Block Location', 'District/Sector',\n",
    "       'Zone/Beat', 'Longitude', 'Latitude',\n",
    "       'Incident Location']\n",
    "\n",
    "spir_drop_unused_col = spir_original.drop(labels=drop_columns, axis=1)"
   ]
  },
  {
   "cell_type": "markdown",
   "metadata": {},
   "source": [
    "Create list of unique census tracts. This is used to pull data from the US Census API 5 year American Community Survey"
   ]
  },
  {
   "cell_type": "code",
   "execution_count": 13,
   "metadata": {},
   "outputs": [],
   "source": [
    "census_tracts = spir_drop_unused_col[\"Census Tract\"].unique()\n",
    "census_tracts = pd.DataFrame(census_tracts, columns=[\"census_tracts\"])\n",
    "census_tracts.dropna(axis =0, inplace=True)\n",
    "census_tracts.census_tracts=census_tracts.census_tracts.apply(format_tract)\n",
    "census_tracts.census_tracts = pd.Series(census_tracts.census_tracts.unique())\n",
    "census_tracts.dropna(axis=0, inplace=True)\n",
    "census_tracts.to_csv(\"census_tracts.csv\")"
   ]
  },
  {
   "cell_type": "markdown",
   "metadata": {},
   "source": [
    "Drop rows with missing values"
   ]
  },
  {
   "cell_type": "code",
   "execution_count": 25,
   "metadata": {},
   "outputs": [],
   "source": [
    "spir_dropna = spir_drop_unused_col.dropna(axis=0, how='any')"
   ]
  },
  {
   "cell_type": "markdown",
   "metadata": {},
   "source": [
    "Fix date and time"
   ]
  },
  {
   "cell_type": "code",
   "execution_count": 93,
   "metadata": {},
   "outputs": [],
   "source": [
    "class Seattle_Police_ML(BaseML):\n",
    "\n",
    "    def dayDifference(self, fdate, ldate):\n",
    "        delta = ldate - fdate\n",
    "        return(delta)\n",
    "\n",
    "    def transform_times(self):\n",
    "        dt_format = '%m/%d/%Y %I:%M:%S %p'\n",
    "        #self.df[\"at_scene_datetime\"] = self.df.apply(lambda x: x.At_Scene_Date + \"T\" + x.At_Scene_Time, axis=1)\n",
    "        #self.df['at_scene_temp'] = self.df.at_scene_datetime.apply(lambda x: datetime.fromisoformat(x))\n",
    "        self.df['at_scene_time'] = self.df[\"At Scene Time\"].apply(lambda x: datetime.strptime(x, dt_format))\n",
    "        #self.df.Event_Clearance_Date.fillna(\"2021-05-13\", inplace=True)\n",
    "        #self.df.Event_Clearance_Time.fillna(\"00:00:00\", inplace=True)\n",
    "        \n",
    "        #self.df[[\"Event_Clearance_Date\", \"Event_Clearance_Time\"]] = self.df[[\"Event_Clearance_Date\", \"Event_Clearance_Time\"]].astype(str)\n",
    "        #print(spir.df.Event_Clearance_Date.dtype)\n",
    "        \n",
    "        #self.df[\"event_clear_datetime\"] = self.df.apply(lambda x: x.Event_Clearance_Date + \"T\" + x.Event_Clearance_Time, axis=1)\n",
    "        #self.df['event_clear_temp'] = self.df.event_clear_datetime.apply(lambda x: datetime.fromisoformat(x))\n",
    "        self.df['event_clear_time']=self.df[\"Event Clearance Date\"].apply(lambda x: datetime.strptime(x, dt_format))\n",
    "        self.df['time_at_scene'] = self.df.apply(lambda x: pd.to_timedelta(self.dayDifference(x[\"at_scene_time\"], x[\"event_clear_time\"])), axis = 1)\n",
    "        self.df.drop([\"At Scene Time\", \"Event Clearance Date\"], axis = 1, inplace = True)\n",
    "        #self.df.drop(self.df[self.df['Schedule_to_appt_days'] < 0].index, inplace = True)\n",
    "        #self.df.dropna(inplace=True)\n",
    "        print(self.df.sample(3))\n",
    "\n",
    "    def simplify_times(self):\n",
    "        bins = (\n",
    "            pd.Timedelta(minutes = 0),\n",
    "            pd.Timedelta(minutes = 30),\n",
    "            pd.Timedelta(minutes = 60),\n",
    "            pd.Timedelta(hours = 4),\n",
    "            pd.Timedelta(hours = 8),\n",
    "            pd.Timedelta(hours = 12),\n",
    "            pd.Timedelta(days = 1),\n",
    "            pd.Timedelta(days = 36500)\n",
    "        )\n",
    "\n",
    "        labels = ['< 30min', '30-60min','1-4hrs', '4-8hrs','8-12hrs','12-24hrs', '24hrs+']\n",
    "\n",
    "        return pd.cut(self.df['time_at_scene'], bins, labels = labels)\n",
    "\n",
    "    def map_func(self,parameter_df, x):\n",
    "        try:\n",
    "            return parameter_df.loc[math.floor(x[\"Census Tract\"]), str(datetime.strptime(x.at_scene_time, \"%Y-%m-%d %H:%M:%S\").year)]\n",
    "        except KeyError:\n",
    "            return None\n",
    "            pass\n",
    "            #print(math.floor(x[\"Census Tract\"]))\n",
    "\n",
    "    \n",
    "    def add_census_data(self, census_filename, parameter_name):\n",
    "        parameter_df = pd.read_csv(census_filename, index_col=1)\n",
    "        print(self.df[\"Census Tract\"].sample(3))\n",
    "        self.df[parameter_name]=self.df.apply(lambda x: self.map_func(parameter_df, x), axis=1)\n",
    "        \n",
    "        \n",
    "    def normalize_features(self):\n",
    "        scaler = preprocessing.StandardScaler().fit(self.df)\n",
    "        df_scaled = scaler.transform(self.df)\n",
    "        self.df_normalized = pd.DataFrame(df_scaled, columns = self.df.columns, dtype= 'int64')\n"
   ]
  },
  {
   "cell_type": "code",
   "execution_count": 46,
   "metadata": {},
   "outputs": [
    {
     "name": "stdout",
     "output_type": "stream",
     "text": [
      "0    1\n",
      "1    a\n",
      "Name: 2021, dtype: object\n",
      "1038734    4800.3047\n",
      "892743     8002.2005\n",
      "1072815    7700.1029\n",
      "Name: Census Tract, dtype: float64\n"
     ]
    }
   ],
   "source": [
    "year=datetime.today().year\n",
    "test=pd.DataFrame([[1,2,3],\n",
    "            ['a','b','c']], columns=[2021, 2012, 2013])\n",
    "print(test[year])\n",
    "\n",
    "print(spir_final.df[\"Census Tract\"].sample(3))\n"
   ]
  },
  {
   "cell_type": "code",
   "execution_count": 49,
   "metadata": {},
   "outputs": [
    {
     "name": "stdout",
     "output_type": "stream",
     "text": [
      "0.631121868\n"
     ]
    }
   ],
   "source": [
    "test_df= pd.read_csv(\"white_percent.csv\", index_col=1)\n",
    "print(test_df.loc[math.floor(1200.2000), '2017'])"
   ]
  },
  {
   "cell_type": "code",
   "execution_count": 9,
   "metadata": {},
   "outputs": [
    {
     "name": "stdout",
     "output_type": "stream",
     "text": [
      "65275      10/01/2010 05:07:00 PM\n",
      "1066012    03/23/2017 05:38:44 AM\n",
      "49629      09/12/2010 01:41:00 PM\n",
      "Name: Event Clearance Date, dtype: object\n"
     ]
    }
   ],
   "source": [
    "print(spir_drop_unused_col['Event Clearance Date'].sample(3))\n"
   ]
  },
  {
   "cell_type": "code",
   "execution_count": 84,
   "metadata": {},
   "outputs": [
    {
     "name": "stdout",
     "output_type": "stream",
     "text": [
      "         Event Clearance Code Event Clearance Description  \\\n",
      "798918                  280.0           SUSPICIOUS PERSON   \n",
      "1106900                 245.0          DISTURBANCE, OTHER   \n",
      "688610                  460.0  TRAFFIC (MOVING) VIOLATION   \n",
      "\n",
      "         Event Clearance SubGroup     Event Clearance Group  Census Tract  \\\n",
      "798918   SUSPICIOUS CIRCUMSTANCES  SUSPICIOUS CIRCUMSTANCES     7200.1042   \n",
      "1106900              DISTURBANCES              DISTURBANCES     4600.1001   \n",
      "688610      TRAFFIC RELATED CALLS     TRAFFIC RELATED CALLS     7300.1003   \n",
      "\n",
      "                               Initial Type Description  \\\n",
      "798918   WEAPN-IP/JO-GUN,DEADLY WPN (NO THRT/ASLT/DIST)   \n",
      "1106900                             NUISANCE - MISCHIEF   \n",
      "688610          TRAFFIC STOP - OFFICER INITIATED ONVIEW   \n",
      "\n",
      "              Initial Type Subgroup          Initial Type Group  \\\n",
      "798918                WEAPONS CALLS               WEAPONS CALLS   \n",
      "1106900  MISCELLANEOUS MISDEMEANORS  MISCELLANEOUS MISDEMEANORS   \n",
      "688610        TRAFFIC RELATED CALLS       TRAFFIC RELATED CALLS   \n",
      "\n",
      "              at_scene_time    event_clear_time   time_at_scene  \n",
      "798918  2015-12-20 22:10:13 2015-12-21 01:22:27 0 days 03:12:14  \n",
      "1106900 2017-08-20 12:38:40 2017-08-20 15:22:35 0 days 02:43:55  \n",
      "688610  2017-03-01 19:01:01 2017-03-01 19:27:19 0 days 00:26:18  \n"
     ]
    },
    {
     "data": {
      "text/plain": [
       "255          1-4hrs\n",
       "2147         1-4hrs\n",
       "2376         1-4hrs\n",
       "2433         1-4hrs\n",
       "2444         1-4hrs\n",
       "             ...   \n",
       "1433846      1-4hrs\n",
       "1433847    30-60min\n",
       "1433850      1-4hrs\n",
       "1433851      1-4hrs\n",
       "1433852    30-60min\n",
       "Name: time_at_scene, Length: 394768, dtype: category\n",
       "Categories (7, object): ['< 30min' < '30-60min' < '1-4hrs' < '4-8hrs' < '8-12hrs' < '12-24hrs' < '24hrs+']"
      ]
     },
     "execution_count": 84,
     "metadata": {},
     "output_type": "execute_result"
    }
   ],
   "source": [
    "spir_final = Seattle_Police_ML()\n",
    "spir_final.df = copy.deepcopy(spir_dropna)\n",
    "spir_final.transform_times()\n",
    "spir_final.simplify_times()\n"
   ]
  },
  {
   "cell_type": "code",
   "execution_count": 81,
   "metadata": {},
   "outputs": [
    {
     "ename": "TypeError",
     "evalue": "cannot convert the series to <class 'float'>",
     "output_type": "error",
     "traceback": [
      "\u001b[1;31m---------------------------------------------------------------------------\u001b[0m",
      "\u001b[1;31mTypeError\u001b[0m                                 Traceback (most recent call last)",
      "\u001b[1;32m<ipython-input-81-a91af7ac1670>\u001b[0m in \u001b[0;36m<module>\u001b[1;34m\u001b[0m\n\u001b[0;32m      1\u001b[0m \u001b[1;31m#spir_final.df.drop([\"Initial Type Description\", \"Initial Type Group\"], axis=1, inplace=True)\u001b[0m\u001b[1;33m\u001b[0m\u001b[1;33m\u001b[0m\u001b[1;33m\u001b[0m\u001b[0m\n\u001b[1;32m----> 2\u001b[1;33m \u001b[0mspir_final\u001b[0m\u001b[1;33m.\u001b[0m\u001b[0mdf\u001b[0m \u001b[1;33m=\u001b[0m \u001b[0mspir_final\u001b[0m\u001b[1;33m.\u001b[0m\u001b[0mdf\u001b[0m\u001b[1;33m[\u001b[0m\u001b[0mmath\u001b[0m\u001b[1;33m.\u001b[0m\u001b[0mfloor\u001b[0m\u001b[1;33m(\u001b[0m\u001b[0mspir_final\u001b[0m\u001b[1;33m.\u001b[0m\u001b[0mdf\u001b[0m\u001b[1;33m[\u001b[0m\u001b[1;34m\"Census Tract\"\u001b[0m\u001b[1;33m]\u001b[0m\u001b[1;33m)\u001b[0m\u001b[1;33m!=\u001b[0m  \u001b[1;36m1700\u001b[0m\u001b[1;33m]\u001b[0m\u001b[1;33m\u001b[0m\u001b[1;33m\u001b[0m\u001b[0m\n\u001b[0m",
      "\u001b[1;32m~\\AppData\\Local\\Programs\\Python\\Python39\\lib\\site-packages\\pandas\\core\\series.py\u001b[0m in \u001b[0;36mwrapper\u001b[1;34m(self)\u001b[0m\n\u001b[0;32m    139\u001b[0m         \u001b[1;32mif\u001b[0m \u001b[0mlen\u001b[0m\u001b[1;33m(\u001b[0m\u001b[0mself\u001b[0m\u001b[1;33m)\u001b[0m \u001b[1;33m==\u001b[0m \u001b[1;36m1\u001b[0m\u001b[1;33m:\u001b[0m\u001b[1;33m\u001b[0m\u001b[1;33m\u001b[0m\u001b[0m\n\u001b[0;32m    140\u001b[0m             \u001b[1;32mreturn\u001b[0m \u001b[0mconverter\u001b[0m\u001b[1;33m(\u001b[0m\u001b[0mself\u001b[0m\u001b[1;33m.\u001b[0m\u001b[0miloc\u001b[0m\u001b[1;33m[\u001b[0m\u001b[1;36m0\u001b[0m\u001b[1;33m]\u001b[0m\u001b[1;33m)\u001b[0m\u001b[1;33m\u001b[0m\u001b[1;33m\u001b[0m\u001b[0m\n\u001b[1;32m--> 141\u001b[1;33m         \u001b[1;32mraise\u001b[0m \u001b[0mTypeError\u001b[0m\u001b[1;33m(\u001b[0m\u001b[1;34mf\"cannot convert the series to {converter}\"\u001b[0m\u001b[1;33m)\u001b[0m\u001b[1;33m\u001b[0m\u001b[1;33m\u001b[0m\u001b[0m\n\u001b[0m\u001b[0;32m    142\u001b[0m \u001b[1;33m\u001b[0m\u001b[0m\n\u001b[0;32m    143\u001b[0m     \u001b[0mwrapper\u001b[0m\u001b[1;33m.\u001b[0m\u001b[0m__name__\u001b[0m \u001b[1;33m=\u001b[0m \u001b[1;34mf\"__{converter.__name__}__\"\u001b[0m\u001b[1;33m\u001b[0m\u001b[1;33m\u001b[0m\u001b[0m\n",
      "\u001b[1;31mTypeError\u001b[0m: cannot convert the series to <class 'float'>"
     ]
    }
   ],
   "source": [
    "spir_final.df.drop([\"Initial Type Description\", \"Initial Type Group\"], axis=1, inplace=True)\n",
    "#spir_final.df = spir_final.df[math.floor(spir_final.df[\"Census Tract\"])!=  1700]"
   ]
  },
  {
   "cell_type": "code",
   "execution_count": 85,
   "metadata": {},
   "outputs": [],
   "source": [
    "spir_final.df.to_csv(\"SPIR_transformed_times.csv\")"
   ]
  },
  {
   "cell_type": "code",
   "execution_count": 94,
   "metadata": {},
   "outputs": [
    {
     "name": "stdout",
     "output_type": "stream",
     "text": [
      "39080      8700.3000\n",
      "120679    10300.2006\n",
      "225696     1800.2003\n",
      "Name: Census Tract, dtype: float64\n",
      "186021     1200.1002\n",
      "255802     3200.7001\n",
      "181707    11400.2009\n",
      "Name: Census Tract, dtype: float64\n"
     ]
    }
   ],
   "source": [
    "spir_final = Seattle_Police_ML(\"SPIR_transformed_times.csv\")\n",
    "print(spir_final.df[\"Census Tract\"].sample(3))\n",
    "spir_final.add_census_data(\"white_percent.csv\",\"white\")\n"
   ]
  },
  {
   "cell_type": "code",
   "execution_count": 95,
   "metadata": {},
   "outputs": [
    {
     "name": "stdout",
     "output_type": "stream",
     "text": [
      "149903     1702.3011\n",
      "189698     7900.2008\n",
      "271683    10900.2092\n",
      "Name: Census Tract, dtype: float64\n",
      "71230      4900.1010\n",
      "359040    11800.5006\n",
      "370569     8400.2012\n",
      "Name: Census Tract, dtype: float64\n",
      "101004      100.3002\n",
      "190418    11000.5002\n",
      "330239     1700.3016\n",
      "Name: Census Tract, dtype: float64\n",
      "122802     4700.4005\n",
      "192808    11700.2022\n",
      "281462     7500.5009\n",
      "Name: Census Tract, dtype: float64\n",
      "11269     10600.5012\n",
      "306098     4500.1014\n",
      "154745     8200.1002\n",
      "Name: Census Tract, dtype: float64\n",
      "278654    7300.3022\n",
      "380893    8400.1008\n",
      "118300    8100.3013\n",
      "Name: Census Tract, dtype: float64\n",
      "242512     7500.5005\n",
      "198953     8100.1011\n",
      "121390    10100.5034\n",
      "Name: Census Tract, dtype: float64\n",
      "277903    11400.3000\n",
      "273491     7500.5006\n",
      "348087     9800.2001\n",
      "Name: Census Tract, dtype: float64\n",
      "62367     11700.2004\n",
      "176760     8100.1019\n",
      "2319       6600.1024\n",
      "Name: Census Tract, dtype: float64\n",
      "120783    26500.1000\n",
      "277098     9000.3020\n",
      "101157     9200.1015\n",
      "Name: Census Tract, dtype: float64\n",
      "379660    5802.3025\n",
      "385660    5900.1003\n",
      "240589    8100.2023\n",
      "Name: Census Tract, dtype: float64\n",
      "197898     8100.2013\n",
      "388698    10500.1011\n",
      "253582     4800.3003\n",
      "Name: Census Tract, dtype: float64\n",
      "261527    8100.2041\n",
      "292907    8100.2001\n",
      "374249    7401.1000\n",
      "Name: Census Tract, dtype: float64\n",
      "19452     7200.1067\n",
      "147955     100.4001\n",
      "296703    7800.5012\n",
      "Name: Census Tract, dtype: float64\n",
      "335690    8100.1011\n",
      "362536    8200.1006\n",
      "252919    8100.2000\n",
      "Name: Census Tract, dtype: float64\n"
     ]
    }
   ],
   "source": [
    "spir_final.add_census_data(\"total_pop_by_tract.csv\",\"total_pop\")\n",
    "spir_final.add_census_data(\"male_percent.csv\",\"male\")\n",
    "spir_final.add_census_data(\"notUScitizen_percent.csv\",\"notUScitizen\")\n",
    "spir_final.add_census_data(\"asian_percent.csv\",\"asian\")\n",
    "spir_final.add_census_data(\"black_percent.csv\",\"black\")\n",
    "spir_final.add_census_data(\"native_percent.csv\",\"native\")\n",
    "spir_final.add_census_data(\"other_race_percent.csv\",\"other_race\")\n",
    "spir_final.add_census_data(\"two_races_percent.csv\",\"two_races\")\n",
    "spir_final.add_census_data(\"some_college_percent.csv\",\"some_college\")\n",
    "spir_final.add_census_data(\"bachelors_percent.csv\",\"bachelors\")\n",
    "spir_final.add_census_data(\"grad_deg_percent.csv\",\"grad_deg\")\n",
    "spir_final.add_census_data(\"under18MC_percent.csv\",\"under18MC\")\n",
    "spir_final.add_census_data(\"under18MS_percent.csv\",\"under18MS\")\n",
    "spir_final.add_census_data(\"under18FS_percent.csv\",\"under18FS\")\n",
    "spir_final.add_census_data(\"under18T_percent.csv\",\"under18T\")\n"
   ]
  },
  {
   "cell_type": "code",
   "execution_count": 98,
   "metadata": {},
   "outputs": [],
   "source": [
    "spir_final.df.to_csv(\"SPIR_census_added.csv\")\n"
   ]
  },
  {
   "cell_type": "code",
   "execution_count": 97,
   "metadata": {},
   "outputs": [],
   "source": [
    "spir_final.df.dropna(axis=0, inplace=True)"
   ]
  },
  {
   "cell_type": "code",
   "execution_count": 99,
   "metadata": {},
   "outputs": [
    {
     "data": {
      "text/plain": [
       "Index(['Unnamed: 0', 'Event Clearance Code', 'Event Clearance Description',\n",
       "       'Event Clearance SubGroup', 'Event Clearance Group', 'Census Tract',\n",
       "       'Initial Type Description', 'Initial Type Subgroup',\n",
       "       'Initial Type Group', 'at_scene_time', 'event_clear_time',\n",
       "       'time_at_scene', 'white', 'total_pop', 'male', 'notUScitizen', 'asian',\n",
       "       'black', 'native', 'other_race', 'two_races', 'some_college',\n",
       "       'bachelors', 'grad_deg', 'under18MC', 'under18MS', 'under18FS',\n",
       "       'under18T'],\n",
       "      dtype='object')"
      ]
     },
     "execution_count": 99,
     "metadata": {},
     "output_type": "execute_result"
    }
   ],
   "source": [
    "spir_final.df.columns"
   ]
  },
  {
   "cell_type": "code",
   "execution_count": 100,
   "metadata": {},
   "outputs": [
    {
     "name": "stdout",
     "output_type": "stream",
     "text": [
      "SUSPICIOUS PERSON, VEHICLE OR INCIDENT           28090\n",
      "THEFT (DOES NOT INCLUDE SHOPLIFT OR SVCS)        27716\n",
      "DISTURBANCE, MISCELLANEOUS/OTHER                 25488\n",
      "TRAFFIC STOP - OFFICER INITIATED ONVIEW          19858\n",
      "BURG - RES (INCL UNOCC STRUCTURES ON PROP)       17027\n",
      "                                                 ...  \n",
      "NORAD - INCIDENTS INV AIRCRAFT (EXCL CRASHES)        2\n",
      "ALARM - EQUIPMENT                                    2\n",
      "NARCOTICS - VIOLATION OF SODA ORDER                  1\n",
      "TRU - PURSE SNATCH                                   1\n",
      "TRU - LURING                                         1\n",
      "Name: Initial Type Description, Length: 169, dtype: int64\n"
     ]
    }
   ],
   "source": [
    "print(spir_final.df['Initial Type Description'].value_counts())"
   ]
  },
  {
   "cell_type": "code",
   "execution_count": 103,
   "metadata": {},
   "outputs": [],
   "source": [
    "spir_final.df.drop([\"Unnamed: 0\", \"Event Clearance Description\", \"Event Clearance SubGroup\", \"Event Clearance Group\", \"Initial Type Subgroup\", \"Initial Type Group\"], axis=1, inplace=True)"
   ]
  },
  {
   "cell_type": "code",
   "execution_count": 104,
   "metadata": {},
   "outputs": [
    {
     "name": "stdout",
     "output_type": "stream",
     "text": [
      "Index(['Event Clearance Code', 'Census Tract', 'Initial Type Description',\n",
      "       'at_scene_time', 'event_clear_time', 'time_at_scene', 'white',\n",
      "       'total_pop', 'male', 'notUScitizen', 'asian', 'black', 'native',\n",
      "       'other_race', 'two_races', 'some_college', 'bachelors', 'grad_deg',\n",
      "       'under18MC', 'under18MS', 'under18FS', 'under18T'],\n",
      "      dtype='object')\n"
     ]
    }
   ],
   "source": [
    "print(spir_final.df.columns)"
   ]
  },
  {
   "cell_type": "code",
   "execution_count": 105,
   "metadata": {},
   "outputs": [
    {
     "name": "stdout",
     "output_type": "stream",
     "text": [
      "Event Clearance Code         float64\n",
      "Census Tract                 float64\n",
      "Initial Type Description    category\n",
      "at_scene_time                 object\n",
      "event_clear_time              object\n",
      "time_at_scene                 object\n",
      "white                        float64\n",
      "total_pop                    float64\n",
      "male                         float64\n",
      "notUScitizen                 float64\n",
      "asian                        float64\n",
      "black                        float64\n",
      "native                       float64\n",
      "other_race                   float64\n",
      "two_races                    float64\n",
      "some_college                 float64\n",
      "bachelors                    float64\n",
      "grad_deg                     float64\n",
      "under18MC                    float64\n",
      "under18MS                    float64\n",
      "under18FS                    float64\n",
      "under18T                     float64\n",
      "dtype: object\n"
     ]
    }
   ],
   "source": [
    "spir_final.df['Initial Type Description'] = spir_final.df['Initial Type Description'].astype('category')\n",
    "print(spir_final.df.dtypes)"
   ]
  },
  {
   "cell_type": "code",
   "execution_count": 106,
   "metadata": {},
   "outputs": [
    {
     "name": "stdout",
     "output_type": "stream",
     "text": [
      "   Event Clearance Code  Census Tract  \\\n",
      "0                 161.0     6000.1011   \n",
      "1                  50.0    10300.2005   \n",
      "2                 430.0     2800.1003   \n",
      "3                  50.0     3400.3000   \n",
      "4                 430.0     7900.5006   \n",
      "\n",
      "                            Initial Type Description        at_scene_time  \\\n",
      "0                                NUISANCE - MISCHIEF  2016-01-24 10:46:45   \n",
      "1         BURG - RES (INCL UNOCC STRUCTURES ON PROP)  2016-01-24 10:55:44   \n",
      "2  MOTOR VEHICLE COLLISION WITH INJURIES - PRIORI...  2016-01-24 10:17:27   \n",
      "3         BURG - RES (INCL UNOCC STRUCTURES ON PROP)  2016-01-24 10:29:37   \n",
      "4                      DUI - DRIVING UNDER INFLUENCE  2016-01-24 08:58:44   \n",
      "\n",
      "      event_clear_time    time_at_scene     white  total_pop      male  \\\n",
      "0  2016-01-24 11:59:45  0 days 01:13:00  0.839407     5598.0  0.471240   \n",
      "1  2016-01-24 12:01:15  0 days 01:05:31  0.457715     6397.0  0.494607   \n",
      "2  2016-01-24 12:06:53  0 days 01:49:26  0.910944     4907.0  0.478704   \n",
      "3  2016-01-24 12:03:53  0 days 01:34:16  0.882369     3698.0  0.459167   \n",
      "4  2016-01-24 12:10:26  0 days 03:11:42  0.784195     5922.0  0.528707   \n",
      "\n",
      "   notUScitizen  ...  other_race  two_races  some_college  bachelors  \\\n",
      "0      0.053591  ...    0.008217   0.071633      0.139157   0.287603   \n",
      "1      0.138190  ...    0.000000   0.068313      0.213225   0.194154   \n",
      "2      0.039739  ...    0.003668   0.033014      0.126961   0.358875   \n",
      "3      0.039210  ...    0.002434   0.045700      0.143321   0.281233   \n",
      "4      0.070753  ...    0.010301   0.025836      0.168524   0.372340   \n",
      "\n",
      "   grad_deg  under18MC  under18MS  under18FS  under18T  initial_type_desc_cat  \n",
      "0  0.281350   0.894466   0.000000   0.105534  0.138800                     91  \n",
      "1  0.098640   0.542237   0.062751   0.221239  0.194310                     35  \n",
      "2  0.218463   0.917204   0.013978   0.068817  0.189525                     79  \n",
      "3  0.257707   0.867268   0.083763   0.048969  0.209843                     35  \n",
      "4  0.211922   0.268041   0.420619   0.169072  0.082742                     48  \n",
      "\n",
      "[5 rows x 23 columns]\n"
     ]
    }
   ],
   "source": [
    "spir_final.df[\"initial_type_desc_cat\"] = spir_final.df[\"Initial Type Description\"].cat.codes\n",
    "print(spir_final.df.head())"
   ]
  },
  {
   "cell_type": "code",
   "execution_count": 111,
   "metadata": {},
   "outputs": [
    {
     "name": "stdout",
     "output_type": "stream",
     "text": [
      "timedelta64[ns]\n"
     ]
    }
   ],
   "source": [
    "spir_final.df.at_scene_time = spir_final.df.at_scene_time.astype('datetime64')\n",
    "spir_final.df.event_clear_time = spir_final.df.event_clear_time.astype('datetime64')\n",
    "spir_final.df.time_at_scene = pd.to_timedelta(spir_final.df.time_at_scene)\n",
    "\n",
    "print(spir_final.df.time_at_scene.dtypes)"
   ]
  },
  {
   "cell_type": "code",
   "execution_count": 112,
   "metadata": {},
   "outputs": [
    {
     "name": "stdout",
     "output_type": "stream",
     "text": [
      "   Event Clearance Code  Census Tract  \\\n",
      "0                 161.0     6000.1011   \n",
      "1                  50.0    10300.2005   \n",
      "2                 430.0     2800.1003   \n",
      "3                  50.0     3400.3000   \n",
      "4                 430.0     7900.5006   \n",
      "\n",
      "                            Initial Type Description       at_scene_time  \\\n",
      "0                                NUISANCE - MISCHIEF 2016-01-24 10:46:45   \n",
      "1         BURG - RES (INCL UNOCC STRUCTURES ON PROP) 2016-01-24 10:55:44   \n",
      "2  MOTOR VEHICLE COLLISION WITH INJURIES - PRIORI... 2016-01-24 10:17:27   \n",
      "3         BURG - RES (INCL UNOCC STRUCTURES ON PROP) 2016-01-24 10:29:37   \n",
      "4                      DUI - DRIVING UNDER INFLUENCE 2016-01-24 08:58:44   \n",
      "\n",
      "     event_clear_time   time_at_scene     white  total_pop      male  \\\n",
      "0 2016-01-24 11:59:45 0 days 01:13:00  0.839407     5598.0  0.471240   \n",
      "1 2016-01-24 12:01:15 0 days 01:05:31  0.457715     6397.0  0.494607   \n",
      "2 2016-01-24 12:06:53 0 days 01:49:26  0.910944     4907.0  0.478704   \n",
      "3 2016-01-24 12:03:53 0 days 01:34:16  0.882369     3698.0  0.459167   \n",
      "4 2016-01-24 12:10:26 0 days 03:11:42  0.784195     5922.0  0.528707   \n",
      "\n",
      "   notUScitizen  ...  other_race  two_races  some_college  bachelors  \\\n",
      "0      0.053591  ...    0.008217   0.071633      0.139157   0.287603   \n",
      "1      0.138190  ...    0.000000   0.068313      0.213225   0.194154   \n",
      "2      0.039739  ...    0.003668   0.033014      0.126961   0.358875   \n",
      "3      0.039210  ...    0.002434   0.045700      0.143321   0.281233   \n",
      "4      0.070753  ...    0.010301   0.025836      0.168524   0.372340   \n",
      "\n",
      "   grad_deg  under18MC  under18MS  under18FS  under18T  initial_type_desc_cat  \n",
      "0  0.281350   0.894466   0.000000   0.105534  0.138800                     91  \n",
      "1  0.098640   0.542237   0.062751   0.221239  0.194310                     35  \n",
      "2  0.218463   0.917204   0.013978   0.068817  0.189525                     79  \n",
      "3  0.257707   0.867268   0.083763   0.048969  0.209843                     35  \n",
      "4  0.211922   0.268041   0.420619   0.169072  0.082742                     48  \n",
      "\n",
      "[5 rows x 23 columns]\n"
     ]
    }
   ],
   "source": [
    "print(spir_final.df.head())"
   ]
  },
  {
   "cell_type": "code",
   "execution_count": 124,
   "metadata": {},
   "outputs": [],
   "source": [
    "noon = datetime(2021, 11, 12,hour = 12)\n",
    "spir_final.df[\"at_scene_time_pm\"] = spir_final.df.at_scene_time.apply(lambda x: 0 if x.hour < noon.hour else 1)\n",
    "spir_final.df[\"event_clear_time_pm\"] = spir_final.df.event_clear_time.apply(lambda x: 0 if x.hour < noon.hour else 1)\n"
   ]
  },
  {
   "cell_type": "code",
   "execution_count": 128,
   "metadata": {},
   "outputs": [],
   "source": [
    "spir_final.df[\"at_scene_time_weekday\"] = spir_final.df.at_scene_time.apply(datetime.weekday)\n",
    "spir_final.df[\"event_clear_time_weekday\"] = spir_final.df.event_clear_time.apply(datetime.weekday)"
   ]
  },
  {
   "cell_type": "code",
   "execution_count": 130,
   "metadata": {},
   "outputs": [],
   "source": [
    "spir_final.df[\"at_scene_time_month\"] = spir_final.df.at_scene_time.apply(lambda x: x.month)\n",
    "spir_final.df[\"event_clear_time_month\"] = spir_final.df.event_clear_time.apply(lambda x: x.month)"
   ]
  },
  {
   "cell_type": "code",
   "execution_count": 131,
   "metadata": {},
   "outputs": [],
   "source": [
    "spir_final.df[\"at_scene_time_year\"] = spir_final.df.at_scene_time.apply(lambda x: x.year)\n",
    "spir_final.df[\"event_clear_time_year\"] = spir_final.df.event_clear_time.apply(lambda x: x.year)"
   ]
  },
  {
   "cell_type": "code",
   "execution_count": 135,
   "metadata": {},
   "outputs": [
    {
     "data": {
      "text/html": [
       "<div>\n",
       "<style scoped>\n",
       "    .dataframe tbody tr th:only-of-type {\n",
       "        vertical-align: middle;\n",
       "    }\n",
       "\n",
       "    .dataframe tbody tr th {\n",
       "        vertical-align: top;\n",
       "    }\n",
       "\n",
       "    .dataframe thead th {\n",
       "        text-align: right;\n",
       "    }\n",
       "</style>\n",
       "<table border=\"1\" class=\"dataframe\">\n",
       "  <thead>\n",
       "    <tr style=\"text-align: right;\">\n",
       "      <th></th>\n",
       "      <th>Event Clearance Code</th>\n",
       "      <th>Census Tract</th>\n",
       "      <th>Initial Type Description</th>\n",
       "      <th>at_scene_time</th>\n",
       "      <th>event_clear_time</th>\n",
       "      <th>time_at_scene</th>\n",
       "      <th>white</th>\n",
       "      <th>total_pop</th>\n",
       "      <th>male</th>\n",
       "      <th>notUScitizen</th>\n",
       "      <th>...</th>\n",
       "      <th>initial_type_desc_cat</th>\n",
       "      <th>at_scene_time_pm</th>\n",
       "      <th>event_clear_time_pm</th>\n",
       "      <th>at_scene_time_weekday</th>\n",
       "      <th>event_clear_time_weekday</th>\n",
       "      <th>at_scene_time_month</th>\n",
       "      <th>event_clear_time_month</th>\n",
       "      <th>at_scene_time_year</th>\n",
       "      <th>event_clear_time_year</th>\n",
       "      <th>time_at_scene_seconds</th>\n",
       "    </tr>\n",
       "  </thead>\n",
       "  <tbody>\n",
       "    <tr>\n",
       "      <th>7004</th>\n",
       "      <td>245.0</td>\n",
       "      <td>4700.3020</td>\n",
       "      <td>DISTURBANCE, MISCELLANEOUS/OTHER</td>\n",
       "      <td>2016-02-26 00:02:05</td>\n",
       "      <td>2016-02-26 01:22:38</td>\n",
       "      <td>0 days 01:20:33</td>\n",
       "      <td>0.835542</td>\n",
       "      <td>8677.0</td>\n",
       "      <td>0.498905</td>\n",
       "      <td>0.028927</td>\n",
       "      <td>...</td>\n",
       "      <td>45</td>\n",
       "      <td>0</td>\n",
       "      <td>0</td>\n",
       "      <td>4</td>\n",
       "      <td>4</td>\n",
       "      <td>2</td>\n",
       "      <td>2</td>\n",
       "      <td>2016</td>\n",
       "      <td>2016</td>\n",
       "      <td>4833.0</td>\n",
       "    </tr>\n",
       "    <tr>\n",
       "      <th>69304</th>\n",
       "      <td>245.0</td>\n",
       "      <td>5400.2012</td>\n",
       "      <td>DISTURBANCE, MISCELLANEOUS/OTHER</td>\n",
       "      <td>2016-09-16 19:26:40</td>\n",
       "      <td>2016-09-16 20:17:27</td>\n",
       "      <td>0 days 00:50:47</td>\n",
       "      <td>0.815390</td>\n",
       "      <td>5406.0</td>\n",
       "      <td>0.487976</td>\n",
       "      <td>0.058084</td>\n",
       "      <td>...</td>\n",
       "      <td>45</td>\n",
       "      <td>1</td>\n",
       "      <td>1</td>\n",
       "      <td>4</td>\n",
       "      <td>4</td>\n",
       "      <td>9</td>\n",
       "      <td>9</td>\n",
       "      <td>2016</td>\n",
       "      <td>2016</td>\n",
       "      <td>3047.0</td>\n",
       "    </tr>\n",
       "    <tr>\n",
       "      <th>125427</th>\n",
       "      <td>245.0</td>\n",
       "      <td>8500.1010</td>\n",
       "      <td>FIGHT - VERBAL/ORAL (NO WEAPONS)</td>\n",
       "      <td>2015-08-11 09:16:00</td>\n",
       "      <td>2015-08-11 11:18:00</td>\n",
       "      <td>0 days 02:02:00</td>\n",
       "      <td>0.520761</td>\n",
       "      <td>4311.0</td>\n",
       "      <td>0.651125</td>\n",
       "      <td>0.116446</td>\n",
       "      <td>...</td>\n",
       "      <td>52</td>\n",
       "      <td>0</td>\n",
       "      <td>0</td>\n",
       "      <td>1</td>\n",
       "      <td>1</td>\n",
       "      <td>8</td>\n",
       "      <td>8</td>\n",
       "      <td>2015</td>\n",
       "      <td>2015</td>\n",
       "      <td>7320.0</td>\n",
       "    </tr>\n",
       "    <tr>\n",
       "      <th>12479</th>\n",
       "      <td>430.0</td>\n",
       "      <td>5100.3005</td>\n",
       "      <td>MOTOR VEHICLE COLLISION, BLOCKING</td>\n",
       "      <td>2016-12-17 11:37:57</td>\n",
       "      <td>2016-12-17 12:06:25</td>\n",
       "      <td>0 days 00:28:28</td>\n",
       "      <td>0.860676</td>\n",
       "      <td>3639.0</td>\n",
       "      <td>0.507282</td>\n",
       "      <td>0.051113</td>\n",
       "      <td>...</td>\n",
       "      <td>80</td>\n",
       "      <td>0</td>\n",
       "      <td>1</td>\n",
       "      <td>5</td>\n",
       "      <td>5</td>\n",
       "      <td>12</td>\n",
       "      <td>12</td>\n",
       "      <td>2016</td>\n",
       "      <td>2016</td>\n",
       "      <td>1708.0</td>\n",
       "    </tr>\n",
       "    <tr>\n",
       "      <th>162328</th>\n",
       "      <td>250.0</td>\n",
       "      <td>8100.3003</td>\n",
       "      <td>SUSPICIOUS STOP - OFFICER INITIATED ONVIEW</td>\n",
       "      <td>2016-01-01 16:05:33</td>\n",
       "      <td>2016-01-01 20:05:09</td>\n",
       "      <td>0 days 03:59:36</td>\n",
       "      <td>0.674712</td>\n",
       "      <td>4599.0</td>\n",
       "      <td>0.557513</td>\n",
       "      <td>0.133942</td>\n",
       "      <td>...</td>\n",
       "      <td>125</td>\n",
       "      <td>1</td>\n",
       "      <td>1</td>\n",
       "      <td>4</td>\n",
       "      <td>4</td>\n",
       "      <td>1</td>\n",
       "      <td>1</td>\n",
       "      <td>2016</td>\n",
       "      <td>2016</td>\n",
       "      <td>14376.0</td>\n",
       "    </tr>\n",
       "    <tr>\n",
       "      <th>363190</th>\n",
       "      <td>63.0</td>\n",
       "      <td>8300.2017</td>\n",
       "      <td>SECONDARY - THEFT (NOT SHOPLIFT OR SERVICES)</td>\n",
       "      <td>2015-04-24 20:24:00</td>\n",
       "      <td>2015-04-24 22:01:00</td>\n",
       "      <td>0 days 01:37:00</td>\n",
       "      <td>0.795633</td>\n",
       "      <td>2794.0</td>\n",
       "      <td>0.544739</td>\n",
       "      <td>0.094846</td>\n",
       "      <td>...</td>\n",
       "      <td>116</td>\n",
       "      <td>1</td>\n",
       "      <td>1</td>\n",
       "      <td>4</td>\n",
       "      <td>4</td>\n",
       "      <td>4</td>\n",
       "      <td>4</td>\n",
       "      <td>2015</td>\n",
       "      <td>2015</td>\n",
       "      <td>5820.0</td>\n",
       "    </tr>\n",
       "    <tr>\n",
       "      <th>206572</th>\n",
       "      <td>63.0</td>\n",
       "      <td>4700.4029</td>\n",
       "      <td>SUSPICIOUS PERSON, VEHICLE OR INCIDENT</td>\n",
       "      <td>2017-04-08 02:26:02</td>\n",
       "      <td>2017-04-08 05:33:30</td>\n",
       "      <td>0 days 03:07:28</td>\n",
       "      <td>0.797896</td>\n",
       "      <td>8649.0</td>\n",
       "      <td>0.494046</td>\n",
       "      <td>0.024627</td>\n",
       "      <td>...</td>\n",
       "      <td>124</td>\n",
       "      <td>0</td>\n",
       "      <td>0</td>\n",
       "      <td>5</td>\n",
       "      <td>5</td>\n",
       "      <td>4</td>\n",
       "      <td>4</td>\n",
       "      <td>2017</td>\n",
       "      <td>2017</td>\n",
       "      <td>11248.0</td>\n",
       "    </tr>\n",
       "    <tr>\n",
       "      <th>259261</th>\n",
       "      <td>41.0</td>\n",
       "      <td>7100.1004</td>\n",
       "      <td>THREATS (INCLS IN-PERSON/BY PHONE/IN WRITING)</td>\n",
       "      <td>2016-11-08 09:27:49</td>\n",
       "      <td>2016-11-08 11:00:04</td>\n",
       "      <td>0 days 01:32:15</td>\n",
       "      <td>0.714183</td>\n",
       "      <td>4188.0</td>\n",
       "      <td>0.538682</td>\n",
       "      <td>0.210840</td>\n",
       "      <td>...</td>\n",
       "      <td>128</td>\n",
       "      <td>0</td>\n",
       "      <td>0</td>\n",
       "      <td>1</td>\n",
       "      <td>1</td>\n",
       "      <td>11</td>\n",
       "      <td>11</td>\n",
       "      <td>2016</td>\n",
       "      <td>2016</td>\n",
       "      <td>5535.0</td>\n",
       "    </tr>\n",
       "    <tr>\n",
       "      <th>384211</th>\n",
       "      <td>130.0</td>\n",
       "      <td>6800.1012</td>\n",
       "      <td>PROPERTY - DAMAGE</td>\n",
       "      <td>2015-07-04 03:57:00</td>\n",
       "      <td>2015-07-04 05:34:00</td>\n",
       "      <td>0 days 01:37:00</td>\n",
       "      <td>0.866188</td>\n",
       "      <td>3206.0</td>\n",
       "      <td>0.513724</td>\n",
       "      <td>0.071740</td>\n",
       "      <td>...</td>\n",
       "      <td>101</td>\n",
       "      <td>0</td>\n",
       "      <td>0</td>\n",
       "      <td>5</td>\n",
       "      <td>5</td>\n",
       "      <td>7</td>\n",
       "      <td>7</td>\n",
       "      <td>2015</td>\n",
       "      <td>2015</td>\n",
       "      <td>5820.0</td>\n",
       "    </tr>\n",
       "    <tr>\n",
       "      <th>173189</th>\n",
       "      <td>470.0</td>\n",
       "      <td>5700.1012</td>\n",
       "      <td>PARKING VIOLATION (EXCEPT ABANDONED CAR)</td>\n",
       "      <td>2012-09-01 11:21:00</td>\n",
       "      <td>2012-09-01 11:41:00</td>\n",
       "      <td>0 days 00:20:00</td>\n",
       "      <td>0.866763</td>\n",
       "      <td>6252.0</td>\n",
       "      <td>0.468650</td>\n",
       "      <td>0.049264</td>\n",
       "      <td>...</td>\n",
       "      <td>95</td>\n",
       "      <td>0</td>\n",
       "      <td>0</td>\n",
       "      <td>5</td>\n",
       "      <td>5</td>\n",
       "      <td>9</td>\n",
       "      <td>9</td>\n",
       "      <td>2012</td>\n",
       "      <td>2012</td>\n",
       "      <td>1200.0</td>\n",
       "    </tr>\n",
       "  </tbody>\n",
       "</table>\n",
       "<p>10 rows × 32 columns</p>\n",
       "</div>"
      ],
      "text/plain": [
       "        Event Clearance Code  Census Tract  \\\n",
       "7004                   245.0     4700.3020   \n",
       "69304                  245.0     5400.2012   \n",
       "125427                 245.0     8500.1010   \n",
       "12479                  430.0     5100.3005   \n",
       "162328                 250.0     8100.3003   \n",
       "363190                  63.0     8300.2017   \n",
       "206572                  63.0     4700.4029   \n",
       "259261                  41.0     7100.1004   \n",
       "384211                 130.0     6800.1012   \n",
       "173189                 470.0     5700.1012   \n",
       "\n",
       "                             Initial Type Description       at_scene_time  \\\n",
       "7004                 DISTURBANCE, MISCELLANEOUS/OTHER 2016-02-26 00:02:05   \n",
       "69304                DISTURBANCE, MISCELLANEOUS/OTHER 2016-09-16 19:26:40   \n",
       "125427               FIGHT - VERBAL/ORAL (NO WEAPONS) 2015-08-11 09:16:00   \n",
       "12479               MOTOR VEHICLE COLLISION, BLOCKING 2016-12-17 11:37:57   \n",
       "162328     SUSPICIOUS STOP - OFFICER INITIATED ONVIEW 2016-01-01 16:05:33   \n",
       "363190   SECONDARY - THEFT (NOT SHOPLIFT OR SERVICES) 2015-04-24 20:24:00   \n",
       "206572         SUSPICIOUS PERSON, VEHICLE OR INCIDENT 2017-04-08 02:26:02   \n",
       "259261  THREATS (INCLS IN-PERSON/BY PHONE/IN WRITING) 2016-11-08 09:27:49   \n",
       "384211                              PROPERTY - DAMAGE 2015-07-04 03:57:00   \n",
       "173189       PARKING VIOLATION (EXCEPT ABANDONED CAR) 2012-09-01 11:21:00   \n",
       "\n",
       "          event_clear_time   time_at_scene     white  total_pop      male  \\\n",
       "7004   2016-02-26 01:22:38 0 days 01:20:33  0.835542     8677.0  0.498905   \n",
       "69304  2016-09-16 20:17:27 0 days 00:50:47  0.815390     5406.0  0.487976   \n",
       "125427 2015-08-11 11:18:00 0 days 02:02:00  0.520761     4311.0  0.651125   \n",
       "12479  2016-12-17 12:06:25 0 days 00:28:28  0.860676     3639.0  0.507282   \n",
       "162328 2016-01-01 20:05:09 0 days 03:59:36  0.674712     4599.0  0.557513   \n",
       "363190 2015-04-24 22:01:00 0 days 01:37:00  0.795633     2794.0  0.544739   \n",
       "206572 2017-04-08 05:33:30 0 days 03:07:28  0.797896     8649.0  0.494046   \n",
       "259261 2016-11-08 11:00:04 0 days 01:32:15  0.714183     4188.0  0.538682   \n",
       "384211 2015-07-04 05:34:00 0 days 01:37:00  0.866188     3206.0  0.513724   \n",
       "173189 2012-09-01 11:41:00 0 days 00:20:00  0.866763     6252.0  0.468650   \n",
       "\n",
       "        notUScitizen  ...  initial_type_desc_cat  at_scene_time_pm  \\\n",
       "7004        0.028927  ...                     45                 0   \n",
       "69304       0.058084  ...                     45                 1   \n",
       "125427      0.116446  ...                     52                 0   \n",
       "12479       0.051113  ...                     80                 0   \n",
       "162328      0.133942  ...                    125                 1   \n",
       "363190      0.094846  ...                    116                 1   \n",
       "206572      0.024627  ...                    124                 0   \n",
       "259261      0.210840  ...                    128                 0   \n",
       "384211      0.071740  ...                    101                 0   \n",
       "173189      0.049264  ...                     95                 0   \n",
       "\n",
       "        event_clear_time_pm  at_scene_time_weekday  event_clear_time_weekday  \\\n",
       "7004                      0                      4                         4   \n",
       "69304                     1                      4                         4   \n",
       "125427                    0                      1                         1   \n",
       "12479                     1                      5                         5   \n",
       "162328                    1                      4                         4   \n",
       "363190                    1                      4                         4   \n",
       "206572                    0                      5                         5   \n",
       "259261                    0                      1                         1   \n",
       "384211                    0                      5                         5   \n",
       "173189                    0                      5                         5   \n",
       "\n",
       "        at_scene_time_month  event_clear_time_month  at_scene_time_year  \\\n",
       "7004                      2                       2                2016   \n",
       "69304                     9                       9                2016   \n",
       "125427                    8                       8                2015   \n",
       "12479                    12                      12                2016   \n",
       "162328                    1                       1                2016   \n",
       "363190                    4                       4                2015   \n",
       "206572                    4                       4                2017   \n",
       "259261                   11                      11                2016   \n",
       "384211                    7                       7                2015   \n",
       "173189                    9                       9                2012   \n",
       "\n",
       "        event_clear_time_year  time_at_scene_seconds  \n",
       "7004                     2016                 4833.0  \n",
       "69304                    2016                 3047.0  \n",
       "125427                   2015                 7320.0  \n",
       "12479                    2016                 1708.0  \n",
       "162328                   2016                14376.0  \n",
       "363190                   2015                 5820.0  \n",
       "206572                   2017                11248.0  \n",
       "259261                   2016                 5535.0  \n",
       "384211                   2015                 5820.0  \n",
       "173189                   2012                 1200.0  \n",
       "\n",
       "[10 rows x 32 columns]"
      ]
     },
     "execution_count": 135,
     "metadata": {},
     "output_type": "execute_result"
    }
   ],
   "source": [
    "spir_final.df.sample(10)"
   ]
  },
  {
   "cell_type": "code",
   "execution_count": 134,
   "metadata": {},
   "outputs": [],
   "source": [
    "from datetime import timedelta\n",
    "spir_final.df[\"time_at_scene_seconds\"] = spir_final.df.time_at_scene.apply(timedelta.total_seconds)"
   ]
  },
  {
   "cell_type": "code",
   "execution_count": 136,
   "metadata": {},
   "outputs": [],
   "source": [
    "spir_final.df.to_csv(\"SPIR_encoded_2021112.csv\")"
   ]
  },
  {
   "cell_type": "code",
   "execution_count": 122,
   "metadata": {},
   "outputs": [
    {
     "name": "stdout",
     "output_type": "stream",
     "text": [
      "16\n",
      "pm\n"
     ]
    }
   ],
   "source": [
    "today = datetime.today()\n",
    "noon = datetime(2021, 11, 12,hour = 12)\n",
    "print(today.hour)\n",
    "if today.hour < noon.hour:\n",
    "    print('am')\n",
    "else:\n",
    "    print('pm')"
   ]
  },
  {
   "cell_type": "code",
   "execution_count": 129,
   "metadata": {},
   "outputs": [
    {
     "name": "stdout",
     "output_type": "stream",
     "text": [
      "11\n"
     ]
    }
   ],
   "source": [
    "print(today.month)"
   ]
  },
  {
   "cell_type": "code",
   "execution_count": null,
   "metadata": {},
   "outputs": [],
   "source": []
  },
  {
   "cell_type": "markdown",
   "metadata": {},
   "source": [
    "Isolate missing values"
   ]
  }
 ],
 "metadata": {
  "interpreter": {
   "hash": "d69d0d44c3579cef8f6b53da4bdf417e2460497c27e188711da66de3978a2224"
  },
  "kernelspec": {
   "display_name": "Python 3.9.0 64-bit",
   "name": "python3"
  },
  "language_info": {
   "codemirror_mode": {
    "name": "ipython",
    "version": 3
   },
   "file_extension": ".py",
   "mimetype": "text/x-python",
   "name": "python",
   "nbconvert_exporter": "python",
   "pygments_lexer": "ipython3",
   "version": "3.9.0"
  },
  "orig_nbformat": 4
 },
 "nbformat": 4,
 "nbformat_minor": 2
}
