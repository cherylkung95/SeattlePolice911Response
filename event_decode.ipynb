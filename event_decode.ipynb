{
 "cells": [
  {
   "cell_type": "code",
   "execution_count": 8,
   "metadata": {},
   "outputs": [],
   "source": [
    "import pandas as pd\n",
    "import numpy as np\n",
    "import math\n"
   ]
  },
  {
   "cell_type": "markdown",
   "metadata": {},
   "source": [
    "This file is used after the cluster summaries are created (see cluster_analysis.ipynb). This decodes the Event Clearance Descriptions summary."
   ]
  },
  {
   "cell_type": "code",
   "execution_count": 4,
   "metadata": {},
   "outputs": [],
   "source": [
    "spir_encoded = pd.read_csv(\"Processed SPIR Data/SPIR_encoded_2021116.csv\", index_col=0)"
   ]
  },
  {
   "cell_type": "code",
   "execution_count": 15,
   "metadata": {},
   "outputs": [
    {
     "data": {
      "text/plain": [
       "Index(['Event Clearance Code', 'Event Clearance Description',\n",
       "       'Event Clearance SubGroup', 'Event Clearance Group', 'Census Tract',\n",
       "       'Initial Type Description', 'Initial Type Subgroup',\n",
       "       'Initial Type Group', 'at_scene_time', 'event_clear_time',\n",
       "       'time_at_scene', 'white', 'total_pop', 'male', 'notUScitizen', 'asian',\n",
       "       'black', 'native', 'other_race', 'two_races', 'some_college',\n",
       "       'bachelors', 'grad_deg', 'under18MC', 'under18MS', 'under18FS',\n",
       "       'under18T', 'income', 'initial_type_desc_cat', 'at_scene_time_pm',\n",
       "       'event_clear_time_pm', 'at_scene_time_weekday',\n",
       "       'event_clear_time_weekday', 'at_scene_time_month',\n",
       "       'event_clear_time_month', 'at_scene_time_year', 'event_clear_time_year',\n",
       "       'time_at_scene_seconds'],\n",
       "      dtype='object')"
      ]
     },
     "execution_count": 15,
     "metadata": {},
     "output_type": "execute_result"
    }
   ],
   "source": [
    "spir_encoded.columns"
   ]
  },
  {
   "cell_type": "code",
   "execution_count": 12,
   "metadata": {},
   "outputs": [],
   "source": [
    "spir_encoded[\"Event Clearance Code\"] = spir_encoded[\"Event Clearance Code\"].apply(int)\n",
    "spir_encoded[\"Event Clearance Code\"] = spir_encoded[\"Event Clearance Code\"].apply(str)"
   ]
  },
  {
   "cell_type": "code",
   "execution_count": 17,
   "metadata": {},
   "outputs": [],
   "source": [
    "spir_encoded[\"event_decode\"] = spir_encoded.apply(lambda x: x[\"Event Clearance Code\"] + \" \" + x[\"Event Clearance Description\"], axis=1)"
   ]
  },
  {
   "cell_type": "code",
   "execution_count": 18,
   "metadata": {},
   "outputs": [
    {
     "data": {
      "text/plain": [
       "261116    65 THEFT - MISCELLANEOUS\n",
       "234835                161 TRESPASS\n",
       "206142            73 AUTO RECOVERY\n",
       "Name: event_decode, dtype: object"
      ]
     },
     "execution_count": 18,
     "metadata": {},
     "output_type": "execute_result"
    }
   ],
   "source": [
    "spir_encoded.event_decode.sample(3)"
   ]
  },
  {
   "cell_type": "code",
   "execution_count": 28,
   "metadata": {},
   "outputs": [],
   "source": [
    "event_code_pair = pd.Series(spir_encoded.event_decode.unique())"
   ]
  },
  {
   "cell_type": "code",
   "execution_count": 29,
   "metadata": {},
   "outputs": [],
   "source": [
    "df = pd.DataFrame(columns=[\"event_code\", \"event_description\"])"
   ]
  },
  {
   "cell_type": "code",
   "execution_count": 31,
   "metadata": {},
   "outputs": [],
   "source": [
    "df.event_code = event_code_pair.apply(lambda x: x.split()[0])"
   ]
  },
  {
   "cell_type": "code",
   "execution_count": 32,
   "metadata": {},
   "outputs": [],
   "source": [
    "df.event_description = event_code_pair.apply(lambda x:x.split()[1:])"
   ]
  },
  {
   "cell_type": "code",
   "execution_count": 33,
   "metadata": {},
   "outputs": [],
   "source": [
    "df.event_description = df.event_description.apply(' '.join)"
   ]
  },
  {
   "cell_type": "code",
   "execution_count": 34,
   "metadata": {},
   "outputs": [
    {
     "data": {
      "text/html": [
       "<div>\n",
       "<style scoped>\n",
       "    .dataframe tbody tr th:only-of-type {\n",
       "        vertical-align: middle;\n",
       "    }\n",
       "\n",
       "    .dataframe tbody tr th {\n",
       "        vertical-align: top;\n",
       "    }\n",
       "\n",
       "    .dataframe thead th {\n",
       "        text-align: right;\n",
       "    }\n",
       "</style>\n",
       "<table border=\"1\" class=\"dataframe\">\n",
       "  <thead>\n",
       "    <tr style=\"text-align: right;\">\n",
       "      <th></th>\n",
       "      <th>event_code</th>\n",
       "      <th>event_description</th>\n",
       "    </tr>\n",
       "  </thead>\n",
       "  <tbody>\n",
       "    <tr>\n",
       "      <th>0</th>\n",
       "      <td>161</td>\n",
       "      <td>TRESPASS</td>\n",
       "    </tr>\n",
       "    <tr>\n",
       "      <th>1</th>\n",
       "      <td>50</td>\n",
       "      <td>BURGLARY - RESIDENTIAL, UNOCCUPIED</td>\n",
       "    </tr>\n",
       "    <tr>\n",
       "      <th>2</th>\n",
       "      <td>430</td>\n",
       "      <td>MOTOR VEHICLE COLLISION</td>\n",
       "    </tr>\n",
       "    <tr>\n",
       "      <th>3</th>\n",
       "      <td>282</td>\n",
       "      <td>SUSPICIOUS CIRCUMSTANCES - BUILDING (OPEN DOOR...</td>\n",
       "    </tr>\n",
       "    <tr>\n",
       "      <th>4</th>\n",
       "      <td>63</td>\n",
       "      <td>THEFT - CAR PROWL</td>\n",
       "    </tr>\n",
       "    <tr>\n",
       "      <th>...</th>\n",
       "      <td>...</td>\n",
       "      <td>...</td>\n",
       "    </tr>\n",
       "    <tr>\n",
       "      <th>111</th>\n",
       "      <td>249</td>\n",
       "      <td>DISTURBANCE, GANG RELATED</td>\n",
       "    </tr>\n",
       "    <tr>\n",
       "      <th>112</th>\n",
       "      <td>122</td>\n",
       "      <td>LIQUOR VIOLATIONS (BUSINESS)</td>\n",
       "    </tr>\n",
       "    <tr>\n",
       "      <th>113</th>\n",
       "      <td>127</td>\n",
       "      <td>SOAP (STAY OUT OF AREA OF PROSTITUTION) ORDER ...</td>\n",
       "    </tr>\n",
       "    <tr>\n",
       "      <th>114</th>\n",
       "      <td>322</td>\n",
       "      <td>HARBOR - VESSEL RECOVERY</td>\n",
       "    </tr>\n",
       "    <tr>\n",
       "      <th>115</th>\n",
       "      <td>346</td>\n",
       "      <td>HARBOR - MARINE FIRE</td>\n",
       "    </tr>\n",
       "  </tbody>\n",
       "</table>\n",
       "<p>116 rows × 2 columns</p>\n",
       "</div>"
      ],
      "text/plain": [
       "    event_code                                  event_description\n",
       "0          161                                           TRESPASS\n",
       "1           50                 BURGLARY - RESIDENTIAL, UNOCCUPIED\n",
       "2          430                            MOTOR VEHICLE COLLISION\n",
       "3          282  SUSPICIOUS CIRCUMSTANCES - BUILDING (OPEN DOOR...\n",
       "4           63                                  THEFT - CAR PROWL\n",
       "..         ...                                                ...\n",
       "111        249                          DISTURBANCE, GANG RELATED\n",
       "112        122                       LIQUOR VIOLATIONS (BUSINESS)\n",
       "113        127  SOAP (STAY OUT OF AREA OF PROSTITUTION) ORDER ...\n",
       "114        322                           HARBOR - VESSEL RECOVERY\n",
       "115        346                               HARBOR - MARINE FIRE\n",
       "\n",
       "[116 rows x 2 columns]"
      ]
     },
     "execution_count": 34,
     "metadata": {},
     "output_type": "execute_result"
    }
   ],
   "source": [
    "df"
   ]
  },
  {
   "cell_type": "code",
   "execution_count": 35,
   "metadata": {},
   "outputs": [],
   "source": [
    "clustered_events = pd.read_csv(\"Cluster Summaries 2021-12-07/Event Clearance Code_summary_by_cluster.csv\")"
   ]
  },
  {
   "cell_type": "code",
   "execution_count": 52,
   "metadata": {},
   "outputs": [
    {
     "data": {
      "text/plain": [
       "Index(['Unnamed: 0', 'Cluster_1', 'Cluster_2', 'Cluster_3', 'Cluster_4',\n",
       "       'Cluster_5', 'Cluster_6', 'Cluster_7'],\n",
       "      dtype='object')"
      ]
     },
     "execution_count": 52,
     "metadata": {},
     "output_type": "execute_result"
    }
   ],
   "source": [
    "clustered_events.columns"
   ]
  },
  {
   "cell_type": "code",
   "execution_count": 42,
   "metadata": {},
   "outputs": [],
   "source": [
    "df.set_index('event_code', inplace=True)"
   ]
  },
  {
   "cell_type": "code",
   "execution_count": 53,
   "metadata": {},
   "outputs": [],
   "source": [
    "clustered_events = clustered_events.rename({\"Unnamed: 0\": \"event_code\"}, axis=1)"
   ]
  },
  {
   "cell_type": "code",
   "execution_count": 56,
   "metadata": {},
   "outputs": [],
   "source": [
    "clustered_events.event_code = clustered_events.event_code.apply(int)\n",
    "clustered_events.event_code = clustered_events.event_code.apply(str)"
   ]
  },
  {
   "cell_type": "code",
   "execution_count": 59,
   "metadata": {},
   "outputs": [],
   "source": [
    "clustered_events[\"event_description\"] = clustered_events.apply(lambda x: df.event_description[str(x.event_code)], axis=1)"
   ]
  },
  {
   "cell_type": "code",
   "execution_count": 62,
   "metadata": {},
   "outputs": [],
   "source": [
    "df_2 = clustered_events[['event_code', 'event_description', 'Cluster_1', 'Cluster_2', 'Cluster_3', 'Cluster_4',\n",
    "       'Cluster_5', 'Cluster_6', 'Cluster_7']]"
   ]
  },
  {
   "cell_type": "code",
   "execution_count": 64,
   "metadata": {},
   "outputs": [],
   "source": [
    "df_2.to_csv(\"Cluster Summaries 2021-12-07/Event Clearance Code_with_desc_summary_by_cluster.csv\")"
   ]
  },
  {
   "cell_type": "code",
   "execution_count": 65,
   "metadata": {},
   "outputs": [],
   "source": [
    "df.to_csv(\"Event_Decode.csv\")"
   ]
  },
  {
   "cell_type": "code",
   "execution_count": 66,
   "metadata": {},
   "outputs": [
    {
     "data": {
      "text/plain": [
       "event_code\n",
       "200    ALACAD - COMMERCIAL BURGLARY (FALSE)\n",
       "200    ALARMS - COMMERCIAL BURGLARY (FALSE)\n",
       "Name: event_description, dtype: object"
      ]
     },
     "execution_count": 66,
     "metadata": {},
     "output_type": "execute_result"
    }
   ],
   "source": [
    "df.event_description['200']"
   ]
  }
 ],
 "metadata": {
  "interpreter": {
   "hash": "d69d0d44c3579cef8f6b53da4bdf417e2460497c27e188711da66de3978a2224"
  },
  "kernelspec": {
   "display_name": "Python 3.9.0 64-bit",
   "language": "python",
   "name": "python3"
  },
  "language_info": {
   "codemirror_mode": {
    "name": "ipython",
    "version": 3
   },
   "file_extension": ".py",
   "mimetype": "text/x-python",
   "name": "python",
   "nbconvert_exporter": "python",
   "pygments_lexer": "ipython3",
   "version": "3.9.0"
  },
  "orig_nbformat": 4
 },
 "nbformat": 4,
 "nbformat_minor": 2
}
