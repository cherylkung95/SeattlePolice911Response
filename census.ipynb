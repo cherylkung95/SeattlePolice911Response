{
 "metadata": {
  "language_info": {
   "codemirror_mode": {
    "name": "ipython",
    "version": 3
   },
   "file_extension": ".py",
   "mimetype": "text/x-python",
   "name": "python",
   "nbconvert_exporter": "python",
   "pygments_lexer": "ipython3",
   "version": "3.9.0"
  },
  "orig_nbformat": 2,
  "kernelspec": {
   "name": "python390jvsc74a57bd0d69d0d44c3579cef8f6b53da4bdf417e2460497c27e188711da66de3978a2224",
   "display_name": "Python 3.9.0 64-bit"
  }
 },
 "nbformat": 4,
 "nbformat_minor": 2,
 "cells": [
  {
   "cell_type": "code",
   "execution_count": 22,
   "metadata": {},
   "outputs": [],
   "source": [
    "from census import Census\n",
    "from us import states\n",
    "import numpy as np\n",
    "import pandas as pd\n",
    "from pandas import DataFrame\n",
    "import math\n",
    "\n",
    "c = Census(\"8bcd3fa3c63834b2b50aca9fa311852035a3f76d\")\n",
    "#c.acs5.get(('NAME', 'B25034_010E'),{'for': 'state:{}'.format(states.MD.fips)})"
   ]
  },
  {
   "cell_type": "code",
   "execution_count": 23,
   "metadata": {},
   "outputs": [
    {
     "output_type": "execute_result",
     "data": {
      "text/plain": [
       "[{'NAME': 'Census Tract 265, King County, Washington',\n",
       "  'B15001_001E': 3212.0,\n",
       "  'state': '53',\n",
       "  'county': '033',\n",
       "  'tract': '026500'}]"
      ]
     },
     "metadata": {},
     "execution_count": 23
    }
   ],
   "source": [
    "c.acs5.state_county_tract(('NAME', 'B15001_001E'), states.WA.fips, '033', '026500', year=2016)"
   ]
  },
  {
   "cell_type": "code",
   "execution_count": 40,
   "metadata": {},
   "outputs": [
    {
     "output_type": "execute_result",
     "data": {
      "text/plain": [
       "[{'NAME': 'Census Tract 265, King County, Washington',\n",
       "  'B15002_001E': 2829.0,\n",
       "  'state': '53',\n",
       "  'county': '033',\n",
       "  'tract': '026500'}]"
      ]
     },
     "metadata": {},
     "execution_count": 40
    }
   ],
   "source": [
    "c.acs5.state_county_tract(('NAME', 'B15002_001E'), states.WA.fips, '033', '026500', year=2019)"
   ]
  },
  {
   "cell_type": "code",
   "execution_count": 14,
   "metadata": {},
   "outputs": [
    {
     "output_type": "stream",
     "name": "stdout",
     "text": [
      "026500\n"
     ]
    }
   ],
   "source": [
    "county = '033'\n",
    "tract = 26500\n",
    "tract = str(tract)\n",
    "tract = '0' + tract\n",
    "print(tract)"
   ]
  },
  {
   "cell_type": "code",
   "execution_count": 45,
   "metadata": {},
   "outputs": [],
   "source": [
    "def format_tract(tract):\n",
    "    str_tract = str(math.floor(tract))\n",
    "\n",
    "    str_len = len(str_tract)\n",
    "    for num in range(str_len, 6):\n",
    "        str_tract = '0' + str_tract\n",
    "    #print(str_tract)\n",
    "    return str_tract"
   ]
  },
  {
   "cell_type": "code",
   "execution_count": 41,
   "metadata": {},
   "outputs": [],
   "source": [
    "def census_data(attribute, tract, year):\n",
    "    return c.acs5.state_county_tract(('NAME', attribute), states.WA.fips, '033', format_tract(tract), year=year)"
   ]
  },
  {
   "cell_type": "code",
   "execution_count": 20,
   "metadata": {},
   "outputs": [
    {
     "output_type": "stream",
     "name": "stdout",
     "text": [
      "026001\n"
     ]
    }
   ],
   "source": [
    "print(format_tract(26001))"
   ]
  },
  {
   "cell_type": "code",
   "execution_count": 7,
   "metadata": {},
   "outputs": [],
   "source": [
    "df = pd.read_csv(\"SPIR_condensed_year.csv\")\n",
    "#df['Education25'] = df.apply(lambda x: census_data('B15001_001E', x[\"census\"], math.floor(x[\"year\"])), axis=1)"
   ]
  },
  {
   "cell_type": "code",
   "execution_count": 8,
   "metadata": {},
   "outputs": [],
   "source": [
    "df.year = df.year.apply(lambda x: math.floor(x))"
   ]
  },
  {
   "cell_type": "code",
   "execution_count": 114,
   "metadata": {},
   "outputs": [],
   "source": [
    "census_cat = {\n",
    "    \"total_pop\": 'B01003_001E',\"education25\": \"B15001_001E\", \n",
    "    \"income\": 'B25119_001E', \"white\":'B02001_002E'}\n",
    "census_year = ['2010', '2011', '2012', '2013', '2014', '2015', '2016', '2017']\n",
    "census_tracts = [\n",
    "2500,\n",
    "2600,\n",
    "5600,\n",
    "6800,\n",
    "6000,\n",
    "5900,\n",
    "5700,\n",
    "4900,\n",
    "5801,\n",
    "4800,\n",
    "4700,\n",
    "3200,\n",
    "3500,\n",
    "3400,\n",
    "3300,\n",
    "2800,\n",
    "2900,\n",
    "3000,\n",
    "3100,\n",
    "1701,\n",
    "1702,\n",
    "1600,\n",
    "1500,\n",
    "200,\n",
    "2700,\n",
    "2200,\n",
    "2400,\n",
    "2000,\n",
    "2100,\n",
    "1900,\n",
    "1800,\n",
    "900,\n",
    "1300,\n",
    "1100,\n",
    "1000,\n",
    "1200,\n",
    "800,\n",
    "600,\n",
    "700,\n",
    "100,\n",
    "300,\n",
    "4100,\n",
    "5200,\n",
    "5100,\n",
    "5301,\n",
    "5000,\n",
    "4200,\n",
    "4301,\n",
    "4302,\n",
    "4000,\n",
    "4400,\n",
    "4500,\n",
    "4600,\n",
    "3600,\n",
    "3900,\n",
    "3800,\n",
    "1400,\n",
    "402,\n",
    "401,\n",
    "7800,\n",
    "9200,\n",
    "8800,\n",
    "8700,\n",
    "8600,\n",
    "8500,\n",
    "8100,\n",
    "8200,\n",
    "8300,\n",
    "8400,\n",
    "7900,\n",
    "7500,\n",
    "7700,\n",
    "7300,\n",
    "7402,\n",
    "7600,\n",
    "7401,\n",
    "6300,\n",
    "6200,\n",
    "6500,\n",
    "6600,\n",
    "6400,\n",
    "6700,\n",
    "6100,\n",
    "5400,\n",
    "5302,\n",
    "11700,\n",
    "11800,\n",
    "26400,\n",
    "26500,\n",
    "11002,\n",
    "11001,\n",
    "11102,\n",
    "11101,\n",
    "10200,\n",
    "10300,\n",
    "10401,\n",
    "10402,\n",
    "9300,\n",
    "10001,\n",
    "10100,\n",
    "9500,\n",
    "10002,\n",
    "9400,\n",
    "8900,\n",
    "9000,\n",
    "9100,\n",
    "12100,\n",
    "12000,\n",
    "11402,\n",
    "11600,\n",
    "11300,\n",
    "11500,\n",
    "11401,\n",
    "10800,\n",
    "10701,\n",
    "10600,\n",
    "10702,\n",
    "10500,\n",
    "9900,\n",
    "9702,\n",
    "9701,\n",
    "9800,\n",
    "9600,\n",
    "8001,\n",
    "8002,\n",
    "7200,\n",
    "7100,\n",
    "5802,\n",
    "7000,\n",
    "6900,\n",
    "26001,\n",
    "500,\n",
    "10900,\n",
    "11200,\n",
    "11900\n",
    "]"
   ]
  },
  {
   "cell_type": "code",
   "execution_count": 112,
   "metadata": {},
   "outputs": [],
   "source": [
    "total_pop ={'2010': [], '2011': [], '2012': [], '2013': [], '2014': [], '2015': [], '2016': [], '2017': []}\n",
    "#\"education25\": {'2010': {'000100': None}, '2011': {'000100': None}, '2012': {'000100': None}, '2013': {'000100': None}, '2014': {'000100': None}, '2015': {'000100': None}, '2016': {'000100': None}, '2017': {'000100': None}}, \n",
    "#\"income\": {'2010': {'000100': None}, '2011': {'000100': None}, '2012': {'000100': None}, '2013': {'000100': None}, '2014': {'000100': None}, '2015': {'000100': None}, '2016': {'000100': None}, '2017': {'000100': None}}, \n",
    "#\"white\":{'2010': {'000100': None}, '2011': {'000100': None}, '2012': {'000100': None}, '2013': {'000100': None}, '2014': {'000100': None}, '2015': {'000100': None}, '2016': {'000100': None}, '2017': {'000100': None}}}\n",
    "#print(census_data_dict['total_pop']['2010'])\n",
    "\n"
   ]
  },
  {
   "cell_type": "code",
   "execution_count": null,
   "metadata": {},
   "outputs": [],
   "source": [
    "cat = \"total_pop\"\n",
    "for year in census_year:\n",
    "    print(f'{cat}, {year}')\n",
    "    for tract in census_tracts:\n",
    "        #print(f'{cat}, {year}, {tract}')\n",
    "        total_pop[year].append(census_data(census_cat[cat], tract, int(year))[0][census_cat[cat]])\n",
    "\n"
   ]
  },
  {
   "cell_type": "code",
   "execution_count": 110,
   "metadata": {},
   "outputs": [
    {
     "output_type": "execute_result",
     "data": {
      "text/plain": [
       "[]"
      ]
     },
     "metadata": {},
     "execution_count": 110
    }
   ],
   "source": [
    "census_data('B01003_001E', 1700, int('2010'))#[0][census_cat[cat]]"
   ]
  },
  {
   "cell_type": "code",
   "execution_count": 72,
   "metadata": {},
   "outputs": [],
   "source": [
    "#total_pop[\"census_tract\"] = census_tracts\n",
    "total_pop_df = pd.DataFrame.from_dict(total_pop)\n",
    "total_pop_df.to_csv(\"total_pop_by_tract.csv\")"
   ]
  },
  {
   "cell_type": "code",
   "execution_count": 76,
   "metadata": {},
   "outputs": [],
   "source": [
    "education25 ={'2010': [], '2011': [], '2012': [], '2013': [], '2014': [], '2015': [], '2016': [], '2017': []}"
   ]
  },
  {
   "cell_type": "code",
   "execution_count": 78,
   "metadata": {},
   "outputs": [
    {
     "output_type": "stream",
     "name": "stdout",
     "text": [
      "education25, 2010\n",
      "education25, 2011\n",
      "education25, 2012\n",
      "education25, 2013\n",
      "education25, 2014\n",
      "education25, 2015\n",
      "education25, 2016\n",
      "education25, 2017\n"
     ]
    }
   ],
   "source": [
    "cat = \"education25\"\n",
    "for year in census_year:\n",
    "    print(f'{cat}, {year}')\n",
    "    for tract in census_tracts:\n",
    "        #print(f'{cat}, {year}, {tract}')\n",
    "        education25[year].append(census_data(census_cat[cat], tract, int(year))[0][census_cat[cat]])"
   ]
  },
  {
   "cell_type": "code",
   "execution_count": 79,
   "metadata": {},
   "outputs": [],
   "source": [
    "education25[\"census_tract\"] = census_tracts\n",
    "education25_df = pd.DataFrame.from_dict(education25)\n",
    "education25_df.to_csv(\"education25_by_tract.csv\")"
   ]
  },
  {
   "cell_type": "code",
   "execution_count": 80,
   "metadata": {},
   "outputs": [],
   "source": [
    "income ={'2010': [], '2011': [], '2012': [], '2013': [], '2014': [], '2015': [], '2016': [], '2017': []}"
   ]
  },
  {
   "cell_type": "code",
   "execution_count": 81,
   "metadata": {},
   "outputs": [
    {
     "output_type": "stream",
     "name": "stdout",
     "text": [
      "income, 2010\n",
      "income, 2011\n",
      "income, 2012\n",
      "income, 2013\n",
      "income, 2014\n",
      "income, 2015\n",
      "income, 2016\n",
      "income, 2017\n"
     ]
    }
   ],
   "source": [
    "cat = \"income\"\n",
    "for year in census_year:\n",
    "    print(f'{cat}, {year}')\n",
    "    for tract in census_tracts:\n",
    "        #print(f'{cat}, {year}, {tract}')\n",
    "        income[year].append(census_data(census_cat[cat], tract, int(year))[0][census_cat[cat]])"
   ]
  },
  {
   "cell_type": "code",
   "execution_count": 82,
   "metadata": {},
   "outputs": [],
   "source": [
    "income[\"census_tract\"] = census_tracts\n",
    "income_df = pd.DataFrame.from_dict(income)\n",
    "income_df.to_csv(\"income_by_tract.csv\")"
   ]
  },
  {
   "cell_type": "code",
   "execution_count": 83,
   "metadata": {},
   "outputs": [],
   "source": [
    "white ={'2010': [], '2011': [], '2012': [], '2013': [], '2014': [], '2015': [], '2016': [], '2017': []}"
   ]
  },
  {
   "cell_type": "code",
   "execution_count": 84,
   "metadata": {},
   "outputs": [
    {
     "output_type": "stream",
     "name": "stdout",
     "text": [
      "white, 2010\n",
      "white, 2011\n",
      "white, 2012\n",
      "white, 2013\n",
      "white, 2014\n",
      "white, 2015\n",
      "white, 2016\n",
      "white, 2017\n"
     ]
    }
   ],
   "source": [
    "cat = \"white\"\n",
    "for year in census_year:\n",
    "    print(f'{cat}, {year}')\n",
    "    for tract in census_tracts:\n",
    "        #print(f'{cat}, {year}, {tract}')\n",
    "        white[year].append(census_data(census_cat[cat], tract, int(year))[0][census_cat[cat]])"
   ]
  },
  {
   "cell_type": "code",
   "execution_count": 85,
   "metadata": {},
   "outputs": [],
   "source": [
    "#white[\"census_tract\"] = census_tracts\n",
    "white_df = pd.DataFrame.from_dict(white)\n",
    "white_df.to_csv(\"white_by_tract.csv\")"
   ]
  },
  {
   "cell_type": "code",
   "execution_count": 87,
   "metadata": {},
   "outputs": [],
   "source": [
    "import copy\n",
    "def perc_total_pop(target, total_pop):\n",
    "    perc_target = copy.deepcopy(target)\n",
    "    for key in total_pop:\n",
    "        for i in range(len(total_pop[key])):\n",
    "            perc_target[key][i] = perc_target[key][i]/total_pop[key][i]\n",
    "    return perc_target"
   ]
  },
  {
   "cell_type": "code",
   "execution_count": 86,
   "metadata": {},
   "outputs": [],
   "source": [
    "del total_pop[\"census_tract\"]"
   ]
  },
  {
   "cell_type": "code",
   "execution_count": 99,
   "metadata": {},
   "outputs": [],
   "source": [
    "del education25[\"census_tract\"]"
   ]
  },
  {
   "cell_type": "code",
   "execution_count": 100,
   "metadata": {},
   "outputs": [],
   "source": [
    "del income [\"census_tract\"]"
   ]
  },
  {
   "cell_type": "code",
   "execution_count": 88,
   "metadata": {},
   "outputs": [],
   "source": [
    "white_perc = perc_total_pop(white, total_pop)"
   ]
  },
  {
   "cell_type": "code",
   "execution_count": 96,
   "metadata": {},
   "outputs": [],
   "source": [
    "def add_tract_keys(target, keys):\n",
    "    temp = {}\n",
    "    key_str=[]\n",
    "    for tract in keys:\n",
    "        key_str.append(str(tract))\n",
    "    for key in target:\n",
    "        temp[key]= dict(zip(key_str, target[key]))\n",
    "    return temp"
   ]
  },
  {
   "cell_type": "code",
   "execution_count": 97,
   "metadata": {},
   "outputs": [],
   "source": [
    "white_perc_zip = add_tract_keys(white_perc, census_tracts)"
   ]
  },
  {
   "cell_type": "code",
   "execution_count": 98,
   "metadata": {},
   "outputs": [
    {
     "output_type": "stream",
     "name": "stdout",
     "text": [
      "0.5798066055506719\n"
     ]
    }
   ],
   "source": [
    "print(white_perc_zip['2017']['100'])"
   ]
  },
  {
   "cell_type": "code",
   "execution_count": 116,
   "metadata": {},
   "outputs": [],
   "source": [
    "def lookup_attribute(target, year, census):\n",
    "    try:\n",
    "        return target[str(math.floor(year))][str(math.floor(census))]\n",
    "    except:\n",
    "        return np.nan"
   ]
  },
  {
   "cell_type": "code",
   "execution_count": 1,
   "metadata": {},
   "outputs": [
    {
     "output_type": "error",
     "ename": "SyntaxError",
     "evalue": "unexpected EOF while parsing (<ipython-input-1-9513523f782e>, line 1)",
     "traceback": [
      "\u001b[1;36m  File \u001b[1;32m\"<ipython-input-1-9513523f782e>\"\u001b[1;36m, line \u001b[1;32m1\u001b[0m\n\u001b[1;33m    df['white'] = df.apply(lambda x: lookup_attribute(white_perc_zip[str(math.floor(x[\"year\"]))][str(math.floor(x[\"census\"]))], axis=1)\u001b[0m\n\u001b[1;37m                                                                                                                                       ^\u001b[0m\n\u001b[1;31mSyntaxError\u001b[0m\u001b[1;31m:\u001b[0m unexpected EOF while parsing\n"
     ]
    }
   ],
   "source": [
    "df['white'] = df.apply(lambda x: lookup_attribute(white_perc_zip[str(math.floor(x[\"year\"]))][str(math.floor(x[\"census\"]))], axis=1))"
   ]
  },
  {
   "cell_type": "code",
   "execution_count": null,
   "metadata": {},
   "outputs": [],
   "source": []
  }
 ]
}