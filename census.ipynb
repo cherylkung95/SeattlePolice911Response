{
 "cells": [
  {
   "cell_type": "code",
   "execution_count": null,
   "metadata": {},
   "outputs": [],
   "source": [
    "from census import Census\n",
    "from us import states\n",
    "import numpy as np\n",
    "import pandas as pd\n",
    "from pandas import DataFrame\n",
    "import math\n",
    "import copy\n",
    "\n",
    "c = Census(\"8bcd3fa3c63834b2b50aca9fa311852035a3f76d\")\n",
    "#c.acs5.get(('NAME', 'B25034_010E'),{'for': 'state:{}'.format(states.MD.fips)})"
   ]
  },
  {
   "cell_type": "code",
   "execution_count": 80,
   "metadata": {},
   "outputs": [
    {
     "data": {
      "text/plain": [
       "[{'NAME': 'Census Tract 265, King County, Washington',\n",
       "  'B15001_001E': 3212.0,\n",
       "  'state': '53',\n",
       "  'county': '033',\n",
       "  'tract': '026500'}]"
      ]
     },
     "execution_count": 80,
     "metadata": {},
     "output_type": "execute_result"
    }
   ],
   "source": [
    "c.acs5.state_county_tract(('NAME', 'B15001_001E'), states.WA.fips, '033', '026500', year=2016)"
   ]
  },
  {
   "cell_type": "code",
   "execution_count": 81,
   "metadata": {},
   "outputs": [
    {
     "data": {
      "text/plain": [
       "[{'NAME': 'Census Tract 265, King County, Washington',\n",
       "  'B15002_001E': 2829.0,\n",
       "  'state': '53',\n",
       "  'county': '033',\n",
       "  'tract': '026500'}]"
      ]
     },
     "execution_count": 81,
     "metadata": {},
     "output_type": "execute_result"
    }
   ],
   "source": [
    "c.acs5.state_county_tract(('NAME', 'B15002_001E'), states.WA.fips, '033', '026500', year=2019)"
   ]
  },
  {
   "cell_type": "code",
   "execution_count": 82,
   "metadata": {},
   "outputs": [
    {
     "name": "stdout",
     "output_type": "stream",
     "text": [
      "026500\n"
     ]
    }
   ],
   "source": [
    "county = '033'\n",
    "tract = 26500\n",
    "tract = str(tract)\n",
    "tract = '0' + tract\n",
    "print(tract)"
   ]
  },
  {
   "cell_type": "code",
   "execution_count": 83,
   "metadata": {},
   "outputs": [],
   "source": [
    "def format_tract(tract):\n",
    "    str_tract = str(math.floor(tract))\n",
    "\n",
    "    str_len = len(str_tract)\n",
    "    for num in range(str_len, 6):\n",
    "        str_tract = '0' + str_tract\n",
    "    #print(str_tract)\n",
    "    return str_tract"
   ]
  },
  {
   "cell_type": "code",
   "execution_count": 84,
   "metadata": {},
   "outputs": [],
   "source": [
    "def census_data(attribute, tract, year):\n",
    "    return c.acs5.state_county_tract(('NAME', attribute), states.WA.fips, '033', format_tract(tract), year=year)"
   ]
  },
  {
   "cell_type": "code",
   "execution_count": 85,
   "metadata": {},
   "outputs": [
    {
     "name": "stdout",
     "output_type": "stream",
     "text": [
      "026001\n"
     ]
    }
   ],
   "source": [
    "print(format_tract(26001))"
   ]
  },
  {
   "cell_type": "code",
   "execution_count": 86,
   "metadata": {},
   "outputs": [],
   "source": [
    "census_tracts_df = pd.read_csv(\"census_tracts.csv\")"
   ]
  },
  {
   "cell_type": "code",
   "execution_count": 87,
   "metadata": {},
   "outputs": [],
   "source": [
    "census_tracts =census_tracts_df.census_tracts"
   ]
  },
  {
   "cell_type": "code",
   "execution_count": 103,
   "metadata": {},
   "outputs": [],
   "source": [
    "census_cat = {\n",
    "    #\"total_pop\": 'B01003_001E',\n",
    "    #education\n",
    "    \"some_college\": \"B06009_004E\",\n",
    "    \"bachelors\": \"B06009_005E\",\n",
    "    \"graduate_deg\": \"B06009_006E\",\n",
    "    #\"income\": 'B25119_001E', \n",
    "    #race\n",
    "    #\"white\":'B02001_002E',\n",
    "    #\"black\": 'B02001_003E',\n",
    "    #\"native\": 'B02001_004E',\n",
    "    #\"asian\": 'B02001_005E',\n",
    "    #\"other_race\": 'B02001_007E',\n",
    "    #\"two_races\": 'B02001_008E',\n",
    "    #\"male\": 'B01001_002E',\n",
    "    #\"under18T\": 'B09001_001E',\n",
    "    #\"under18HH\": 'B09001_002E',\n",
    "    #\"under18GH\": 'B09001_010E',\n",
    "    #\"under18MC\": 'B09002_002E',\n",
    "    #\"under18MS\": 'B09002_009E',\n",
    "    #\"under18FS\": 'B09002_015E'\n",
    "    #disability status\n",
    "    #\"disabilityT\": 'B18101_001E',\n",
    "    #\"disabilityM\": 'B18101_002E',\n",
    "    #\"disabilityF\": 'B18101_021E',\n",
    "    #\"notUscitizen\": 'B05001_006E'\n",
    "    }\n",
    "census_year = ['2010', '2011', '2012', '2013', '2014', '2015', '2016', '2017']"
   ]
  },
  {
   "cell_type": "code",
   "execution_count": 96,
   "metadata": {},
   "outputs": [],
   "source": [
    "def census_download(parameter, years, census_tracts, census_cat):\n",
    "    storage_dict = {'2010': [], '2011': [], '2012': [], '2013': [], '2014': [], '2015': [], '2016': [], '2017': []}\n",
    "    cat = parameter\n",
    "    for year in years:\n",
    "        print(f'{cat}, {year}')\n",
    "        for tract in census_tracts:\n",
    "            #print(f'{cat}, {year}, {tract}')\n",
    "            try:\n",
    "                storage_dict[year].append(census_data(census_cat[cat], tract, int(year))[0][census_cat[cat]])\n",
    "            except IndexError:\n",
    "                print(f\"Failed at Tract {tract}\")\n",
    "    storage_dict_df = pd.DataFrame.from_dict(storage_dict)\n",
    "    storage_dict_df_with_tracts = pd.concat([census_tracts, storage_dict_df], axis = 1)\n",
    "    storage_dict_df_with_tracts.to_csv(f\"{parameter}_by_tract.csv\")"
   ]
  },
  {
   "cell_type": "code",
   "execution_count": 104,
   "metadata": {},
   "outputs": [
    {
     "name": "stdout",
     "output_type": "stream",
     "text": [
      "some_college, 2010\n",
      "some_college, 2011\n",
      "some_college, 2012\n",
      "some_college, 2013\n",
      "some_college, 2014\n",
      "some_college, 2015\n",
      "some_college, 2016\n",
      "some_college, 2017\n",
      "bachelors, 2010\n",
      "bachelors, 2011\n",
      "bachelors, 2012\n",
      "bachelors, 2013\n",
      "bachelors, 2014\n",
      "bachelors, 2015\n",
      "bachelors, 2016\n",
      "bachelors, 2017\n",
      "graduate_deg, 2010\n",
      "graduate_deg, 2011\n",
      "graduate_deg, 2012\n",
      "graduate_deg, 2013\n",
      "graduate_deg, 2014\n",
      "graduate_deg, 2015\n",
      "graduate_deg, 2016\n",
      "graduate_deg, 2017\n"
     ]
    }
   ],
   "source": [
    "for parameter in census_cat:\n",
    "    census_download(parameter, census_year, census_tracts, census_cat)"
   ]
  },
  {
   "cell_type": "code",
   "execution_count": 76,
   "metadata": {},
   "outputs": [],
   "source": [
    "education25 ={'2010': [], '2011': [], '2012': [], '2013': [], '2014': [], '2015': [], '2016': [], '2017': []}"
   ]
  },
  {
   "cell_type": "code",
   "execution_count": 78,
   "metadata": {},
   "outputs": [
    {
     "name": "stdout",
     "output_type": "stream",
     "text": [
      "education25, 2010\n",
      "education25, 2011\n",
      "education25, 2012\n",
      "education25, 2013\n",
      "education25, 2014\n",
      "education25, 2015\n",
      "education25, 2016\n",
      "education25, 2017\n"
     ]
    }
   ],
   "source": [
    "cat = \"education25\"\n",
    "for year in census_year:\n",
    "    print(f'{cat}, {year}')\n",
    "    for tract in census_tracts:\n",
    "        #print(f'{cat}, {year}, {tract}')\n",
    "        education25[year].append(census_data(census_cat[cat], tract, int(year))[0][census_cat[cat]])"
   ]
  },
  {
   "cell_type": "code",
   "execution_count": 79,
   "metadata": {},
   "outputs": [],
   "source": [
    "education25[\"census_tract\"] = census_tracts\n",
    "education25_df = pd.DataFrame.from_dict(education25)\n",
    "education25_df.to_csv(\"education25_by_tract.csv\")"
   ]
  },
  {
   "cell_type": "code",
   "execution_count": 80,
   "metadata": {},
   "outputs": [],
   "source": [
    "income ={'2010': [], '2011': [], '2012': [], '2013': [], '2014': [], '2015': [], '2016': [], '2017': []}"
   ]
  },
  {
   "cell_type": "code",
   "execution_count": 81,
   "metadata": {},
   "outputs": [
    {
     "name": "stdout",
     "output_type": "stream",
     "text": [
      "income, 2010\n",
      "income, 2011\n",
      "income, 2012\n",
      "income, 2013\n",
      "income, 2014\n",
      "income, 2015\n",
      "income, 2016\n",
      "income, 2017\n"
     ]
    }
   ],
   "source": [
    "cat = \"income\"\n",
    "for year in census_year:\n",
    "    print(f'{cat}, {year}')\n",
    "    for tract in census_tracts:\n",
    "        #print(f'{cat}, {year}, {tract}')\n",
    "        income[year].append(census_data(census_cat[cat], tract, int(year))[0][census_cat[cat]])"
   ]
  },
  {
   "cell_type": "code",
   "execution_count": 82,
   "metadata": {},
   "outputs": [],
   "source": [
    "income[\"census_tract\"] = census_tracts\n",
    "income_df = pd.DataFrame.from_dict(income)\n",
    "income_df.to_csv(\"income_by_tract.csv\")"
   ]
  },
  {
   "cell_type": "code",
   "execution_count": 83,
   "metadata": {},
   "outputs": [],
   "source": [
    "white ={'2010': [], '2011': [], '2012': [], '2013': [], '2014': [], '2015': [], '2016': [], '2017': []}"
   ]
  },
  {
   "cell_type": "code",
   "execution_count": 84,
   "metadata": {},
   "outputs": [
    {
     "name": "stdout",
     "output_type": "stream",
     "text": [
      "white, 2010\n",
      "white, 2011\n",
      "white, 2012\n",
      "white, 2013\n",
      "white, 2014\n",
      "white, 2015\n",
      "white, 2016\n",
      "white, 2017\n"
     ]
    }
   ],
   "source": [
    "cat = \"white\"\n",
    "for year in census_year:\n",
    "    print(f'{cat}, {year}')\n",
    "    for tract in census_tracts:\n",
    "        #print(f'{cat}, {year}, {tract}')\n",
    "        white[year].append(census_data(census_cat[cat], tract, int(year))[0][census_cat[cat]])"
   ]
  },
  {
   "cell_type": "code",
   "execution_count": 85,
   "metadata": {},
   "outputs": [],
   "source": [
    "#white[\"census_tract\"] = census_tracts\n",
    "white_df = pd.DataFrame.from_dict(white)\n",
    "white_df.to_csv(\"white_by_tract.csv\")"
   ]
  },
  {
   "cell_type": "code",
   "execution_count": 87,
   "metadata": {},
   "outputs": [],
   "source": [
    "import copy\n",
    "def perc_total_pop(target, total_pop):\n",
    "    perc_target = copy.deepcopy(target)\n",
    "    for key in total_pop:\n",
    "        for i in range(len(total_pop[key])):\n",
    "            perc_target[key][i] = perc_target[key][i]/total_pop[key][i]\n",
    "    return perc_target"
   ]
  },
  {
   "cell_type": "code",
   "execution_count": 86,
   "metadata": {},
   "outputs": [],
   "source": [
    "del total_pop[\"census_tract\"]"
   ]
  },
  {
   "cell_type": "code",
   "execution_count": 99,
   "metadata": {},
   "outputs": [],
   "source": [
    "del education25[\"census_tract\"]"
   ]
  },
  {
   "cell_type": "code",
   "execution_count": 100,
   "metadata": {},
   "outputs": [],
   "source": [
    "del income [\"census_tract\"]"
   ]
  },
  {
   "cell_type": "code",
   "execution_count": 88,
   "metadata": {},
   "outputs": [],
   "source": [
    "white_perc = perc_total_pop(white, total_pop)"
   ]
  },
  {
   "cell_type": "code",
   "execution_count": 96,
   "metadata": {},
   "outputs": [],
   "source": [
    "def add_tract_keys(target, keys):\n",
    "    temp = {}\n",
    "    key_str=[]\n",
    "    for tract in keys:\n",
    "        key_str.append(str(tract))\n",
    "    for key in target:\n",
    "        temp[key]= dict(zip(key_str, target[key]))\n",
    "    return temp"
   ]
  },
  {
   "cell_type": "code",
   "execution_count": 97,
   "metadata": {},
   "outputs": [],
   "source": [
    "white_perc_zip = add_tract_keys(white_perc, census_tracts)"
   ]
  },
  {
   "cell_type": "code",
   "execution_count": 98,
   "metadata": {},
   "outputs": [
    {
     "name": "stdout",
     "output_type": "stream",
     "text": [
      "0.5798066055506719\n"
     ]
    }
   ],
   "source": [
    "print(white_perc_zip['2017']['100'])"
   ]
  },
  {
   "cell_type": "code",
   "execution_count": 116,
   "metadata": {},
   "outputs": [],
   "source": [
    "def lookup_attribute(target, year, census):\n",
    "    try:\n",
    "        return target[str(math.floor(year))][str(math.floor(census))]\n",
    "    except:\n",
    "        return np.nan"
   ]
  },
  {
   "cell_type": "code",
   "execution_count": 1,
   "metadata": {},
   "outputs": [
    {
     "ename": "SyntaxError",
     "evalue": "unexpected EOF while parsing (<ipython-input-1-9513523f782e>, line 1)",
     "output_type": "error",
     "traceback": [
      "\u001b[1;36m  File \u001b[1;32m\"<ipython-input-1-9513523f782e>\"\u001b[1;36m, line \u001b[1;32m1\u001b[0m\n\u001b[1;33m    df['white'] = df.apply(lambda x: lookup_attribute(white_perc_zip[str(math.floor(x[\"year\"]))][str(math.floor(x[\"census\"]))], axis=1)\u001b[0m\n\u001b[1;37m                                                                                                                                       ^\u001b[0m\n\u001b[1;31mSyntaxError\u001b[0m\u001b[1;31m:\u001b[0m unexpected EOF while parsing\n"
     ]
    }
   ],
   "source": [
    "df['white'] = df.apply(lambda x: lookup_attribute(white_perc_zip[str(math.floor(x[\"year\"]))][str(math.floor(x[\"census\"]))], axis=1))"
   ]
  },
  {
   "cell_type": "code",
   "execution_count": null,
   "metadata": {},
   "outputs": [],
   "source": []
  }
 ],
 "metadata": {
  "interpreter": {
   "hash": "d69d0d44c3579cef8f6b53da4bdf417e2460497c27e188711da66de3978a2224"
  },
  "kernelspec": {
   "display_name": "Python 3.9.0 64-bit",
   "name": "python3"
  },
  "language_info": {
   "codemirror_mode": {
    "name": "ipython",
    "version": 3
   },
   "file_extension": ".py",
   "mimetype": "text/x-python",
   "name": "python",
   "nbconvert_exporter": "python",
   "pygments_lexer": "ipython3",
   "version": "3.9.0"
  },
  "orig_nbformat": 2
 },
 "nbformat": 4,
 "nbformat_minor": 2
}
