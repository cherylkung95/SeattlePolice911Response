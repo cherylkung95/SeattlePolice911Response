{
 "cells": [
  {
   "cell_type": "code",
   "execution_count": null,
   "metadata": {},
   "outputs": [],
   "source": [
    "import numpy as np\n",
    "import pandas as pd\n",
    "from pandas import DataFrame\n",
    "import math\n",
    "import matplotlib.pyplot as plt\n",
    "import seaborn as sns\n",
    "from datetime import date\n",
    "from tabulate import tabulate\n",
    "import sys\n",
    "import copy\n",
    "sys.path.append('C:\\\\Users\\\\chery\\\\Documents\\\\SeattlePolice911Response')\n",
    "from utils.baseML import BaseML\n",
    "from datetime import datetime\n",
    "from sklearn import preprocessing"
   ]
  },
  {
   "cell_type": "code",
   "execution_count": null,
   "metadata": {},
   "outputs": [],
   "source": [
    "spir = BaseML(\"Processed SPIR Data/SPIR_encoded_2021116.csv\")"
   ]
  },
  {
   "cell_type": "code",
   "execution_count": null,
   "metadata": {},
   "outputs": [],
   "source": [
    "spir.df.columns"
   ]
  },
  {
   "cell_type": "code",
   "execution_count": null,
   "metadata": {},
   "outputs": [],
   "source": [
    "spir_process_remove_cat= spir.df.drop(['Unnamed: 0', \"Event Clearance Description\", \"Event Clearance SubGroup\", \"Event Clearance Group\", \n",
    "\"Initial Type Subgroup\", \"Initial Type Group\",\n",
    "'Initial Type Description', 'at_scene_time', 'event_clear_time', 'time_at_scene', 'Census Tract'], axis=1)"
   ]
  },
  {
   "cell_type": "code",
   "execution_count": null,
   "metadata": {},
   "outputs": [],
   "source": [
    "from scipy import stats\n",
    "spir_process_for_outliers=spir_process_remove_cat[spir_process_remove_cat.time_at_scene_seconds > 0]\n",
    "#spir_process_for_outliers= spir_process_for_outliers[(np.abs(stats.zscore(spir_process_for_outliers, axis=0)) < 3).all(axis=1)]\n",
    "spir_process_only_outliers = spir_process_remove_cat[(np.abs(stats.zscore(spir_process_remove_cat, axis=0)) >= 3).any(axis=1)]\n",
    "#spir_process_only_outliers = spir_process_remove_cat[spir_process_remove_cat.time_at_scene_seconds < 0]\n",
    "zscore = stats.zscore(spir_process_remove_cat, axis=1)"
   ]
  },
  {
   "cell_type": "code",
   "execution_count": null,
   "metadata": {},
   "outputs": [],
   "source": [
    "print(len(spir_process_only_outliers))\n",
    "print(len(spir_process_for_outliers))"
   ]
  },
  {
   "cell_type": "code",
   "execution_count": null,
   "metadata": {},
   "outputs": [],
   "source": [
    "spir_process_outliers = spir.df.drop(['Unnamed: 0', \"Event Clearance Description\", \"Event Clearance SubGroup\", \"Event Clearance Group\", \n",
    "\"Initial Type Subgroup\", \"Initial Type Group\",\n",
    "'Initial Type Description', 'at_scene_time', 'event_clear_time', 'time_at_scene',], axis=1)\n",
    "spir_process_outliers = spir_process_outliers.iloc[spir_process_only_outliers.index]\n",
    "spir_process_outliers.to_csv(\"Processed SPIR Data/SPIR_outliers_20211207.csv\")"
   ]
  },
  {
   "cell_type": "code",
   "execution_count": null,
   "metadata": {},
   "outputs": [],
   "source": [
    "spir_process = spir.df.drop(['Unnamed: 0', \"Event Clearance Description\", \"Event Clearance SubGroup\", \"Event Clearance Group\", \n",
    "\"Initial Type Subgroup\", \"Initial Type Group\",\n",
    "'Initial Type Description', 'at_scene_time', 'event_clear_time', 'time_at_scene',], axis=1)\n",
    "len(spir_process)"
   ]
  },
  {
   "cell_type": "code",
   "execution_count": null,
   "metadata": {},
   "outputs": [],
   "source": [
    "spir_process_for_outliers.index"
   ]
  },
  {
   "cell_type": "code",
   "execution_count": null,
   "metadata": {},
   "outputs": [],
   "source": [
    "spir_process = spir_process.iloc[spir_process_for_outliers.index]\n",
    "len(spir_process)"
   ]
  },
  {
   "cell_type": "markdown",
   "metadata": {},
   "source": [
    "from scipy import stats\n",
    "spir_process= spir_process[(np.abs(stats.zscore(spir_process)) < 3).all(axis=1)]"
   ]
  },
  {
   "cell_type": "code",
   "execution_count": null,
   "metadata": {},
   "outputs": [],
   "source": [
    "spir_process.to_csv(\"Processed SPIR Data/SPIR_no_outliers_removed_20211207.csv\")"
   ]
  },
  {
   "cell_type": "code",
   "execution_count": null,
   "metadata": {},
   "outputs": [],
   "source": [
    "spir_process=spir_process[spir_process.time_at_scene_seconds > 0]"
   ]
  },
  {
   "cell_type": "code",
   "execution_count": null,
   "metadata": {},
   "outputs": [],
   "source": [
    "print(len(spir_process))"
   ]
  },
  {
   "cell_type": "code",
   "execution_count": null,
   "metadata": {},
   "outputs": [],
   "source": [
    "spir_baseML = BaseML()\n",
    "spir_baseML.df = spir_process"
   ]
  },
  {
   "cell_type": "code",
   "execution_count": null,
   "metadata": {},
   "outputs": [],
   "source": [
    "spir_process_not_normalized = spir.df.iloc[spir_process_for_outliers.index]"
   ]
  },
  {
   "cell_type": "code",
   "execution_count": null,
   "metadata": {},
   "outputs": [],
   "source": [
    "spir_process = spir_baseML.normalize_features()"
   ]
  },
  {
   "cell_type": "code",
   "execution_count": null,
   "metadata": {},
   "outputs": [],
   "source": [
    "from sklearn.decomposition import PCA\n",
    "pca = PCA(n_components=2)\n",
    "pca.fit(spir_process)\n",
    "print(pca.explained_variance_ratio_)\n",
    "print(pca.singular_values_)\n",
    "x_pca=pca.fit_transform(spir_process)"
   ]
  },
  {
   "cell_type": "code",
   "execution_count": null,
   "metadata": {},
   "outputs": [],
   "source": [
    "from sklearn.cluster import KMeans\n",
    "from yellowbrick.cluster import KElbowVisualizer, SilhouetteVisualizer, InterclusterDistance, silhouette_visualizer\n",
    "clf = KMeans()\n"
   ]
  },
  {
   "cell_type": "code",
   "execution_count": null,
   "metadata": {},
   "outputs": [],
   "source": [
    "\n",
    "visualizer = KElbowVisualizer(clf, k=(4,12))\n",
    "\n",
    "visualizer.fit(x_pca)        # Fit the data to the visualizer\n",
    "visualizer.show()        # Finalize and render the figure"
   ]
  },
  {
   "cell_type": "code",
   "execution_count": null,
   "metadata": {},
   "outputs": [],
   "source": [
    "silhouette_visualizer(KMeans(6, random_state=42), x_pca, colors='yellowbrick')"
   ]
  },
  {
   "cell_type": "code",
   "execution_count": null,
   "metadata": {},
   "outputs": [],
   "source": [
    "clf = KMeans(n_clusters=7)\n",
    "y_pred_7 = clf.fit_predict(x_pca)"
   ]
  },
  {
   "cell_type": "code",
   "execution_count": null,
   "metadata": {},
   "outputs": [],
   "source": [
    "plt.scatter(x_pca[:,0], x_pca[:,1], c=y_pred_7)\n",
    "plt.show()"
   ]
  },
  {
   "cell_type": "code",
   "execution_count": null,
   "metadata": {},
   "outputs": [],
   "source": [
    "cluster_labels = clf.labels_\n",
    "cl_label_df = pd.DataFrame(cluster_labels, columns = [\"cluster_label\"])"
   ]
  },
  {
   "cell_type": "code",
   "execution_count": null,
   "metadata": {},
   "outputs": [],
   "source": [
    "len(cluster_labels)\n",
    "print(cl_label_df.head)"
   ]
  },
  {
   "cell_type": "code",
   "execution_count": null,
   "metadata": {},
   "outputs": [],
   "source": [
    "spir_process_not_normalized.reset_index(drop=True, inplace=True)"
   ]
  },
  {
   "cell_type": "code",
   "execution_count": null,
   "metadata": {},
   "outputs": [],
   "source": [
    "from datetime import date\n",
    "spir_with_labels = pd.concat([spir_process_not_normalized, cl_label_df], axis=1)\n",
    "spir_with_labels.to_csv(f\"Processed SPIR Data/SPIR_with_labels_{date.today()}_2.csv\")"
   ]
  },
  {
   "cell_type": "code",
   "execution_count": null,
   "metadata": {},
   "outputs": [],
   "source": [
    "print(len(spir.df))"
   ]
  },
  {
   "cell_type": "code",
   "execution_count": null,
   "metadata": {},
   "outputs": [],
   "source": [
    "spir_with_labels.head"
   ]
  },
  {
   "cell_type": "code",
   "execution_count": null,
   "metadata": {},
   "outputs": [],
   "source": [
    "from bokeh.plotting import figure, output_file, show, ColumnDataSource\n",
    "from bokeh.models import HoverTool"
   ]
  },
  {
   "cell_type": "code",
   "execution_count": null,
   "metadata": {},
   "outputs": [],
   "source": [
    "filename = \"plot_bokeh_20211124.html\"\n",
    "palette =['aqua', 'aquamarine', 'azure', 'black', 'blue', \n",
    "        'brown', 'chartreuse', 'coral', 'crimson', 'cyan', \n",
    "        'darkblue', 'darkgreen', 'fuschsia', 'gold', 'indigo', \n",
    "        'lavender', 'lime', 'magenta', 'olive', 'orange', \n",
    "        'orangered', 'orchid', 'pink', 'red','salmon']#['red','green','blue','yellow']\n",
    "colors =[]\n",
    "\n",
    "for i in range(spir_with_labels.shape[0]):\n",
    "    colors.append(palette[cluster_labels[i]])"
   ]
  },
  {
   "cell_type": "code",
   "execution_count": null,
   "metadata": {},
   "outputs": [],
   "source": [
    "#cannot use seaborn palette for bokeh\n",
    "\n",
    "#plot with boken\n",
    "output_file(filename)\n",
    "source = ColumnDataSource(\n",
    "        data=dict(x=x_pca[:,0],y=x_pca[:,1],\n",
    "            #event = spir_with_labels['event'],\n",
    "            time = spir_with_labels['time_at_scene_seconds'], \n",
    "            census_tract = spir_with_labels[\"Census Tract\"],\n",
    "            year = spir_with_labels[\"at_scene_time_year\"],\n",
    "            percent_white = spir_with_labels[\"white\"],\n",
    "            income = spir_with_labels[\"income\"],\n",
    "            college = spir_with_labels[\"bachelors\"],\n",
    "            colors=colors), )\n",
    "\n",
    "#print(colors)\n",
    "hover = HoverTool(tooltips=[\n",
    "            #(\"event\", \"@event\"),\n",
    "            (\"time\", \"@time\"),\n",
    "            (\"census_tract\", \"@census_tract\"),\n",
    "            (\"year\", \"@year\"),\n",
    "            (\"percent_white\", \"@percent_white\"),\n",
    "            (\"income\", \"@income\"),\n",
    "            (\"college\", \"@college\")])\n",
    "\n",
    "p = figure(plot_width=1000, plot_height=1000, tools=[hover],\n",
    "            title=\"spir clustering\")\n",
    "\n",
    "p.circle(x='x',y= 'y', size=10, source=source,fill_color=\"colors\")\n",
    "\n",
    "show(p)"
   ]
  }
 ],
 "metadata": {
  "interpreter": {
   "hash": "d69d0d44c3579cef8f6b53da4bdf417e2460497c27e188711da66de3978a2224"
  },
  "kernelspec": {
   "display_name": "Python 3.9.0 64-bit",
   "name": "python3"
  },
  "language_info": {
   "codemirror_mode": {
    "name": "ipython",
    "version": 3
   },
   "file_extension": ".py",
   "mimetype": "text/x-python",
   "name": "python",
   "nbconvert_exporter": "python",
   "pygments_lexer": "ipython3",
   "version": "3.9.0"
  },
  "orig_nbformat": 4
 },
 "nbformat": 4,
 "nbformat_minor": 2
}
